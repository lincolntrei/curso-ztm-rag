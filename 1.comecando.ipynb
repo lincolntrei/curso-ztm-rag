{
 "cells": [
  {
   "cell_type": "markdown",
   "id": "53c6a0e8-44f0-47f1-ab7e-d7247758dada",
   "metadata": {},
   "source": [
    "### Assuntos:\n",
    "# Tokenização, Pré Processamento, TF-IDF, Boolean-Retrieval-Model"
   ]
  },
  {
   "cell_type": "code",
   "execution_count": 1,
   "id": "ef34ebbb-dfad-4d4f-a77e-35b8245b1e96",
   "metadata": {},
   "outputs": [],
   "source": [
    "# Texto para testes\n",
    "documentos = [\n",
    "    \"A Croácia está localizada na região dos Bálcãs, no sudeste da Europa.\",\n",
    "    \"Sua capital e maior cidade é Zagreb.\",\n",
    "    \"O país possui mais de mil ilhas, com destaque para Hvar e Brač.\",\n",
    "    \"O litoral croata é banhado pelo mar Adriático.\",\n",
    "    \"A Ilha de Korčula é considerada o local de nascimento de Marco Polo.\",\n",
    "    \"Dubrovnik é conhecida como a 'Pérola do Mar Adriático'.\",\n",
    "    \"As muralhas de Dubrovnik foram usadas como cenário de King's Landing em Game of Thrones.\",\n",
    "    \"Croácia conquistou a independência da Iugoslávia em 1991.\",\n",
    "    \"A moeda oficial desde janeiro de 2023 é o euro.\",\n",
    "    \"Antigamente, usava-se a kuna como moeda.\",\n",
    "    \"O idioma oficial é o croata, uma língua eslava do sul.\",\n",
    "    \"O Parque Nacional dos Lagos de Plitvice está na UNESCO desde 1979.\",\n",
    "    \"Existem oito sítios croatas no Patrimônio Mundial da UNESCO.\",\n",
    "    \"Entre eles, o Palácio de Diocleciano em Split.\",\n",
    "    \"Split foi fundada pelo imperador romano Diocleciano.\",\n",
    "    \"A Croácia fez parte do Império Austro-Húngaro até 1918.\",\n",
    "    \"O futebol é o esporte mais popular no país.\",\n",
    "    \"A seleção croata foi vice-campeã na Copa do Mundo de 2018.\",\n",
    "    \"O maratonista Blanka Vlasic é um dos principais atletas croatas.\",\n",
    "    \"A Croácia também tem tradição no basquete e no tênis.\",\n",
    "    \"O país é membro da União Europeia desde 2013.\",\n",
    "    \"Entou na OTAN em 2009.\",\n",
    "    \"Tem uma população aproximada de 4 milhões de habitantes.\",\n",
    "    \"O território croata tem cerca de 56.594 km².\",\n",
    "    \"O clima varia entre mediterrâneo na costa e continental no interior.\",\n",
    "    \"O vinho croata é mundialmente reconhecido, especialmente o da região de Istria.\",\n",
    "    \"O Plavac Mali é uma uva típica usada em vinhos locais.\",\n",
    "    \"Existem museus famosos, como o Museu Afrodisias e o Museu de Arte Contemporânea de Zagreb.\",\n",
    "    \"A Croácia tem uma tradição folclórica rica, com danças e trajes típicos.\",\n",
    "    \"Tradições como o Carnaval de Rijeka também são populares.\",\n",
    "    \"Rijeka foi Capital Europeia da Cultura em 2020.\",\n",
    "    \"O arquipélago de Kornati faz parte de um parque nacional marítimo.\",\n",
    "    \"A Croácia possui 8 parques nacionais e dezenas de parques naturais.\",\n",
    "    \"O festival musical Outlook acontece em Pula e Tisno.\",\n",
    "    \"O verão atrai turistas para cidades como Zadar e Pula.\",\n",
    "    \"A cidade de Pula é célebre por seu anfiteatro romano bem preservado.\",\n",
    "    \"A Croácia tem várias rotas de trilhas, incluindo as Montanhas Velebit e Biokovo.\",\n",
    "    \"O canal de Ston é famoso por suas ostras e mariscos.\",\n",
    "    \"A cidade de Trogir tem um centro histórico medieval convidativo.\",\n",
    "    \"Mljet é um parque nacional em uma ilha coberta por florestas.\",\n",
    "    \"Zadar tem o famoso Órgão do Mar que ‘toca’ com movimento das ondas.\",\n",
    "    \"O Relógio Solar de Zadar cria efeitos visuais ao amanhecer e entardecer.\",\n",
    "    \"A culinária mescla influências mediterrâneas e centro‑europeias.\",\n",
    "    \"Pratos típicos incluem risotos, peixe fresco, olive oil e trufas.\",\n",
    "    \"O queijo de Pag é famoso e exportado para várias partes do mundo.\",\n",
    "    \"O azeite de oliva croata é premiado em competições internacionais.\",\n",
    "    \"Croácia produz azeites de alta qualidade principalmente na Dalmácia e Istria.\",\n",
    "    \"A ilha de Vis foi base militar durante o período iugoslavo.\",\n",
    "    \"Hoje Vis é um destino turístico popular por praias e vinhos.\",\n",
    "    \"A fortaleza de Klis foi usada no set de Game of Thrones.\",\n",
    "    \"Um dos monumentos mais antigos é a Catedral de São Tiago em Šibenik.\",\n",
    "    \"O país tem uma forte tradição em remo e esportes náuticos.\",\n",
    "    \"O kayak e vela são populares na costa do Adriático.\",\n",
    "    \"A Croácia foi campeã mundial de handebol em diversas ocasiões.\",\n",
    "    \"O grandioso mar Negro no ambiente croata é considerado reserva.\",\n",
    "    \"A ilha de Pag é famosa pela música eletrônica e festas de verão.\",\n",
    "    \"Novalja, em Pag, é conhecida pela festa Zrće.\",\n",
    "    \"A Croácia tem altos níveis de alfabetização, acima de 98%.\",\n",
    "    \"O sistema de saúde pública é universal e gratuito.\",\n",
    "    \"Há diversas universidades de renome como a Universidade de Zagreb.\",\n",
    "    \"A Universidade de Zagreb foi fundada em 1669.\",\n",
    "    \"O transporte público inclui trens, ônibus e balsas entre ilhas.\",\n",
    "    \"A rede rodoviária conecta Zagreb ao litoral por autoestradas modernas.\",\n",
    "    \"O aeroporto de Dubrovnik é o terceiro mais movimentado do país.\",\n",
    "    \"Outubro é o mês da trufa branca em Istria e Gorski Kotar.\",\n",
    "    \"A trufa negra também é colhida na região norte da Croácia.\",\n",
    "    \"Em Zagreb acontece o Advento, considerado um dos melhores mercados natalinos da Europa.\",\n",
    "    \"O Rio Danúbio não passa na Croácia, mas o Drava e o Sava sim.\",\n",
    "    \"A Croácia tem geografia montanhosa no interior central.\",\n",
    "    \"O Parque Nacional Risnjak é ideal para caminhadas e por avistar linces.\",\n",
    "    \"O dálmata, raça de cachorro, tem origem ou forte tradição na região da Dalmácia.\",\n",
    "    \"Croácia tem festa da sardinha em algumas cidades costeiras.\",\n",
    "    \"A costa croata é um importante destino de cruzeiros.\",\n",
    "    \"A ilha de Cres tem uma população fixa pequena e vida tranquila.\",\n",
    "    \"A Croácia exporta peixes, azeite, vinho e produtos de madeira.\",\n",
    "    \"O porto de Rijeka é o maior porto marítimo croata.\",\n",
    "    \"O idioma croata tem quatro casos gramaticais principais.\",\n",
    "    \"A Croácia adota o alfabeto latino com algumas letras especiais.\",\n",
    "    \"Zagreb é dividida em Gornji Grad (cidade alta) e Donji Grad (cidade baixa).\",\n",
    "    \"A Premantura é o ponto mais ao sul da península de Istria.\",\n",
    "    \"Um dos festivais culturais mais antigos é de verão em Dubrovnik.\",\n",
    "    \"Na ilha de Hvar acontecem temporadas de teatro ao ar livre.\",\n",
    "    \"A cultura do café em Zagreb é bastante forte, com muitos cafés históricos.\",\n",
    "    \"A Croácia possui alguns dos mais claros e limpos mares do mundo.\",\n",
    "    \"As águas da Dalmácia são ideais para esportes aquáticos.\",\n",
    "    \"O forte de St. Marco, no Marjan de Split, oferece belas vistas.\",\n",
    "    \"A arquitetura de Zagreb tem influências secessionista, barroca e moderna.\",\n",
    "    \"Há várias estâncias de esqui no inverno, como Platak e Sljeme.\",\n",
    "    \"O verão mediterrâneo é quente e seco, ideal para turismo no Adriático.\",\n",
    "    \"Na Páscoa, as tradições religiosas são profundamente observadas.\",\n",
    "    \"O “licitar” é um biscoito colorido tradicional, com decoração romântica.\",\n",
    "    \"O festival de cinema de Pula é realizado no anfiteatro romano.\",\n",
    "    \"Croácia tem um selo postal especial para a lenda de Dundo Maroje.\",\n",
    "    \"As cidades croatas frequentemente têm feiras ao ar livre semanais.\",\n",
    "    \"O turismo é responsável por cerca de 20% do PIB croata.\",\n",
    "    \"O canal de Velebit é um lugar admirado por mergulhadores.\",\n",
    "    \"Há ruínas romanas espalhadas por todo o território croata.\",\n",
    "    \"A montanha Biokovo oferece um Skywalk, passarela de vidro sobre o mar.\",\n",
    "    \"A redescoberta de tradições locais tem revitalizado artesanato e gastronomia.\"\n",
    "]"
   ]
  },
  {
   "cell_type": "markdown",
   "id": "fc40582f-4d71-4e15-9e80-8c97aba0bc4f",
   "metadata": {},
   "source": [
    "# Tokenização"
   ]
  },
  {
   "cell_type": "code",
   "execution_count": 2,
   "id": "c65b3863-6321-4f48-adfd-285baa6e1552",
   "metadata": {},
   "outputs": [
    {
     "name": "stderr",
     "output_type": "stream",
     "text": [
      "[nltk_data] Downloading package punkt to /home/lincolndev/nltk_data...\n",
      "[nltk_data]   Package punkt is already up-to-date!\n",
      "[nltk_data] Downloading package punkt_tab to\n",
      "[nltk_data]     /home/lincolndev/nltk_data...\n",
      "[nltk_data]   Package punkt_tab is already up-to-date!\n",
      "[nltk_data] Downloading package stopwords to\n",
      "[nltk_data]     /home/lincolndev/nltk_data...\n",
      "[nltk_data]   Package stopwords is already up-to-date!\n"
     ]
    },
    {
     "data": {
      "text/plain": [
       "True"
      ]
     },
     "execution_count": 2,
     "metadata": {},
     "output_type": "execute_result"
    }
   ],
   "source": [
    "import nltk\n",
    "nltk.download('punkt') # baixando o tokenizer data\n",
    "nltk.download('punkt_tab')\n",
    "nltk.download('stopwords')"
   ]
  },
  {
   "cell_type": "code",
   "execution_count": 3,
   "id": "81a46398-f661-48f0-b9ff-e29fc4624f68",
   "metadata": {},
   "outputs": [],
   "source": [
    "# Exemplo de texto\n",
    "texto = \"Olá, tudo bem? Muito bom dia, boa tarde ou boa noite. Espero que tenha um ótimo dia!\""
   ]
  },
  {
   "cell_type": "code",
   "execution_count": 4,
   "id": "1dcfe87c-381a-4495-b092-7b1b0d9f3194",
   "metadata": {},
   "outputs": [
    {
     "name": "stdout",
     "output_type": "stream",
     "text": [
      "Word Tokenization:  ['Olá', ',', 'tudo', 'bem', '?', 'Muito', 'bom', 'dia', ',', 'boa', 'tarde', 'ou', 'boa', 'noite', '.', 'Espero', 'que', 'tenha', 'um', 'ótimo', 'dia', '!']\n"
     ]
    }
   ],
   "source": [
    "# Word Tokenization / Tokenização por Palavras. Lingua padrão da biblioteca é inglês\n",
    "word_tokens = nltk.word_tokenize(texto, language='portuguese')\n",
    "print(\"Word Tokenization: \", word_tokens)"
   ]
  },
  {
   "cell_type": "code",
   "execution_count": 5,
   "id": "493d6439-fcfd-4146-9fe3-9a7019e3a13c",
   "metadata": {},
   "outputs": [
    {
     "name": "stdout",
     "output_type": "stream",
     "text": [
      "Sentence Tokenization:  ['Olá, tudo bem?', 'Muito bom dia, boa tarde ou boa noite.', 'Espero que tenha um ótimo dia!']\n"
     ]
    }
   ],
   "source": [
    "# Sentence Tokenization / Tokenização por Sentença\n",
    "sentence_tokens = nltk.sent_tokenize(texto)\n",
    "print(\"Sentence Tokenization: \", sentence_tokens)"
   ]
  },
  {
   "cell_type": "markdown",
   "id": "b0b7e6e0-a87e-4cd8-b88f-aa5b1397c870",
   "metadata": {},
   "source": [
    "### Pré Processamento antes da Tokenização"
   ]
  },
  {
   "cell_type": "code",
   "execution_count": 6,
   "id": "92ebd5b3-709c-4d31-906c-f2fdabea3371",
   "metadata": {},
   "outputs": [
    {
     "name": "stdout",
     "output_type": "stream",
     "text": [
      "As stopwords em português são:  ['a', 'à', 'ao', 'aos', 'aquela', 'aquelas', 'aquele', 'aqueles', 'aquilo', 'as', 'às', 'até', 'com', 'como', 'da', 'das', 'de', 'dela', 'delas', 'dele', 'deles', 'depois', 'do', 'dos', 'e', 'é', 'ela', 'elas', 'ele', 'eles', 'em', 'entre', 'era', 'eram', 'éramos', 'essa', 'essas', 'esse', 'esses', 'esta', 'está', 'estamos', 'estão', 'estar', 'estas', 'estava', 'estavam', 'estávamos', 'este', 'esteja', 'estejam', 'estejamos', 'estes', 'esteve', 'estive', 'estivemos', 'estiver', 'estivera', 'estiveram', 'estivéramos', 'estiverem', 'estivermos', 'estivesse', 'estivessem', 'estivéssemos', 'estou', 'eu', 'foi', 'fomos', 'for', 'fora', 'foram', 'fôramos', 'forem', 'formos', 'fosse', 'fossem', 'fôssemos', 'fui', 'há', 'haja', 'hajam', 'hajamos', 'hão', 'havemos', 'haver', 'hei', 'houve', 'houvemos', 'houver', 'houvera', 'houverá', 'houveram', 'houvéramos', 'houverão', 'houverei', 'houverem', 'houveremos', 'houveria', 'houveriam', 'houveríamos', 'houvermos', 'houvesse', 'houvessem', 'houvéssemos', 'isso', 'isto', 'já', 'lhe', 'lhes', 'mais', 'mas', 'me', 'mesmo', 'meu', 'meus', 'minha', 'minhas', 'muito', 'na', 'não', 'nas', 'nem', 'no', 'nos', 'nós', 'nossa', 'nossas', 'nosso', 'nossos', 'num', 'numa', 'o', 'os', 'ou', 'para', 'pela', 'pelas', 'pelo', 'pelos', 'por', 'qual', 'quando', 'que', 'quem', 'são', 'se', 'seja', 'sejam', 'sejamos', 'sem', 'ser', 'será', 'serão', 'serei', 'seremos', 'seria', 'seriam', 'seríamos', 'seu', 'seus', 'só', 'somos', 'sou', 'sua', 'suas', 'também', 'te', 'tem', 'tém', 'temos', 'tenha', 'tenham', 'tenhamos', 'tenho', 'terá', 'terão', 'terei', 'teremos', 'teria', 'teriam', 'teríamos', 'teu', 'teus', 'teve', 'tinha', 'tinham', 'tínhamos', 'tive', 'tivemos', 'tiver', 'tivera', 'tiveram', 'tivéramos', 'tiverem', 'tivermos', 'tivesse', 'tivessem', 'tivéssemos', 'tu', 'tua', 'tuas', 'um', 'uma', 'você', 'vocês', 'vos']\n"
     ]
    }
   ],
   "source": [
    "# Stopwords em português\n",
    "print(\"As stopwords em português são: \", nltk.corpus.stopwords.words(\"portuguese\"))"
   ]
  },
  {
   "cell_type": "code",
   "execution_count": 7,
   "id": "fd45e515-b4c6-4116-82c5-ff444035e261",
   "metadata": {},
   "outputs": [],
   "source": [
    "# Pré Processamento de dados: tudo lowercase, alfanumérico e removendo stopwords\n",
    "def processar_texto(entrada):\n",
    "    tokens = nltk.word_tokenize(entrada.lower(), language='portuguese')\n",
    "    tokens = [palavra for palavra in tokens if palavra.isalnum()]\n",
    "    tokens = [palavra for palavra in tokens if palavra not in nltk.corpus.stopwords.words(\"portuguese\")]\n",
    "    return tokens"
   ]
  },
  {
   "cell_type": "code",
   "execution_count": 8,
   "id": "98d2d2a2-362c-418c-a583-800e4413ac51",
   "metadata": {},
   "outputs": [
    {
     "data": {
      "text/plain": [
       "['croácia localizada região bálcãs sudeste europa',\n",
       " 'capital maior cidade zagreb',\n",
       " 'país possui mil ilhas destaque hvar brač',\n",
       " 'litoral croata banhado mar adriático',\n",
       " 'ilha korčula considerada local nascimento marco polo',\n",
       " 'dubrovnik conhecida mar adriático',\n",
       " 'muralhas dubrovnik usadas cenário king landing game of thrones',\n",
       " 'croácia conquistou independência iugoslávia 1991',\n",
       " 'moeda oficial desde janeiro 2023 euro',\n",
       " 'antigamente kuna moeda',\n",
       " 'idioma oficial croata língua eslava sul',\n",
       " 'parque nacional lagos plitvice unesco desde 1979',\n",
       " 'existem oito sítios croatas patrimônio mundial unesco',\n",
       " 'palácio diocleciano split',\n",
       " 'split fundada imperador romano diocleciano',\n",
       " 'croácia fez parte império 1918',\n",
       " 'futebol esporte popular país',\n",
       " 'seleção croata copa mundo 2018',\n",
       " 'maratonista blanka vlasic principais atletas croatas',\n",
       " 'croácia tradição basquete tênis',\n",
       " 'país membro união europeia desde 2013',\n",
       " 'entou otan 2009',\n",
       " 'população aproximada 4 milhões habitantes',\n",
       " 'território croata cerca km²',\n",
       " 'clima varia mediterrâneo costa continental interior',\n",
       " 'vinho croata mundialmente reconhecido especialmente região istria',\n",
       " 'plavac mali uva típica usada vinhos locais',\n",
       " 'existem museus famosos museu afrodisias museu arte contemporânea zagreb',\n",
       " 'croácia tradição folclórica rica danças trajes típicos',\n",
       " 'tradições carnaval rijeka populares',\n",
       " 'rijeka capital europeia cultura 2020',\n",
       " 'arquipélago kornati faz parte parque nacional marítimo',\n",
       " 'croácia possui 8 parques nacionais dezenas parques naturais',\n",
       " 'festival musical outlook acontece pula tisno',\n",
       " 'verão atrai turistas cidades zadar pula',\n",
       " 'cidade pula célebre anfiteatro romano bem preservado',\n",
       " 'croácia várias rotas trilhas incluindo montanhas velebit biokovo',\n",
       " 'canal ston famoso ostras mariscos',\n",
       " 'cidade trogir centro histórico medieval convidativo',\n",
       " 'mljet parque nacional ilha coberta florestas',\n",
       " 'zadar famoso órgão mar toca movimento ondas',\n",
       " 'relógio solar zadar cria efeitos visuais amanhecer entardecer',\n",
       " 'culinária mescla influências mediterrâneas',\n",
       " 'pratos típicos incluem risotos peixe fresco olive oil trufas',\n",
       " 'queijo pag famoso exportado várias partes mundo',\n",
       " 'azeite oliva croata premiado competições internacionais',\n",
       " 'croácia produz azeites alta qualidade principalmente dalmácia istria',\n",
       " 'ilha vis base militar durante período iugoslavo',\n",
       " 'hoje vis destino turístico popular praias vinhos',\n",
       " 'fortaleza klis usada set game of thrones',\n",
       " 'monumentos antigos catedral tiago šibenik',\n",
       " 'país forte tradição remo esportes náuticos',\n",
       " 'kayak vela populares costa adriático',\n",
       " 'croácia campeã mundial handebol diversas ocasiões',\n",
       " 'grandioso mar negro ambiente croata considerado reserva',\n",
       " 'ilha pag famosa música eletrônica festas verão',\n",
       " 'novalja pag conhecida festa zrće',\n",
       " 'croácia altos níveis alfabetização acima 98',\n",
       " 'sistema saúde pública universal gratuito',\n",
       " 'diversas universidades renome universidade zagreb',\n",
       " 'universidade zagreb fundada 1669',\n",
       " 'transporte público inclui trens ônibus balsas ilhas',\n",
       " 'rede rodoviária conecta zagreb litoral autoestradas modernas',\n",
       " 'aeroporto dubrovnik terceiro movimentado país',\n",
       " 'outubro mês trufa branca istria gorski kotar',\n",
       " 'trufa negra colhida região norte croácia',\n",
       " 'zagreb acontece advento considerado melhores mercados natalinos europa',\n",
       " 'rio danúbio passa croácia drava sava sim',\n",
       " 'croácia geografia montanhosa interior central',\n",
       " 'parque nacional risnjak ideal caminhadas avistar linces',\n",
       " 'dálmata raça cachorro origem forte tradição região dalmácia',\n",
       " 'croácia festa sardinha algumas cidades costeiras',\n",
       " 'costa croata importante destino cruzeiros',\n",
       " 'ilha cres população fixa pequena vida tranquila',\n",
       " 'croácia exporta peixes azeite vinho produtos madeira',\n",
       " 'porto rijeka maior porto marítimo croata',\n",
       " 'idioma croata quatro casos gramaticais principais',\n",
       " 'croácia adota alfabeto latino algumas letras especiais',\n",
       " 'zagreb dividida gornji grad cidade alta donji grad cidade baixa',\n",
       " 'premantura ponto sul península istria',\n",
       " 'festivais culturais antigos verão dubrovnik',\n",
       " 'ilha hvar acontecem temporadas teatro ar livre',\n",
       " 'cultura café zagreb bastante forte muitos cafés históricos',\n",
       " 'croácia possui alguns claros limpos mares mundo',\n",
       " 'águas dalmácia ideais esportes aquáticos',\n",
       " 'forte st marco marjan split oferece belas vistas',\n",
       " 'arquitetura zagreb influências secessionista barroca moderna',\n",
       " 'várias estâncias esqui inverno platak sljeme',\n",
       " 'verão mediterrâneo quente seco ideal turismo adriático',\n",
       " 'páscoa tradições religiosas profundamente observadas',\n",
       " 'licitar biscoito colorido tradicional decoração romântica',\n",
       " 'festival cinema pula realizado anfiteatro romano',\n",
       " 'croácia selo postal especial lenda dundo maroje',\n",
       " 'cidades croatas frequentemente têm feiras ar livre semanais',\n",
       " 'turismo responsável cerca 20 pib croata',\n",
       " 'canal velebit lugar admirado mergulhadores',\n",
       " 'ruínas romanas espalhadas todo território croata',\n",
       " 'montanha biokovo oferece skywalk passarela vidro sobre mar',\n",
       " 'redescoberta tradições locais revitalizado artesanato gastronomia']"
      ]
     },
     "execution_count": 8,
     "metadata": {},
     "output_type": "execute_result"
    }
   ],
   "source": [
    "processed_docs = [' '.join(processar_texto(doc)) for doc in documentos]\n",
    "processed_docs"
   ]
  },
  {
   "cell_type": "markdown",
   "id": "5d128790-1c33-48a0-8da7-5f27bab355bd",
   "metadata": {},
   "source": [
    "# TF-IDF"
   ]
  },
  {
   "cell_type": "code",
   "execution_count": 9,
   "id": "8f17cef6-53d4-4ffb-91e2-f338b8ed1d01",
   "metadata": {},
   "outputs": [],
   "source": [
    "from sklearn.feature_extraction.text import TfidfVectorizer\n",
    "import numpy as np"
   ]
  },
  {
   "cell_type": "code",
   "execution_count": 10,
   "id": "eb13500d-d351-4035-8baf-88a428b6b18c",
   "metadata": {},
   "outputs": [],
   "source": [
    "# indexando documentos com TF-IDF\n",
    "vectorizer = TfidfVectorizer()\n",
    "tfidf_matrix = vectorizer.fit_transform(processed_docs)"
   ]
  },
  {
   "cell_type": "code",
   "execution_count": 11,
   "id": "a50d0d2c-2a5d-46e8-ab5e-449300fc14e1",
   "metadata": {},
   "outputs": [],
   "source": [
    "# query de teste\n",
    "query = \"Qual é a região da Croácia?\""
   ]
  },
  {
   "cell_type": "code",
   "execution_count": 12,
   "id": "068f3481-35d4-4d46-8c68-fa6bc86c82c6",
   "metadata": {},
   "outputs": [],
   "source": [
    "# Testando o query de teste nos documentos\n",
    "\n",
    "query_vec = vectorizer.transform([query])\n",
    "#print(query_vec.T.toarray()) # Visualização"
   ]
  },
  {
   "cell_type": "code",
   "execution_count": 13,
   "id": "d04de499-e03d-4883-9285-d3fec6823552",
   "metadata": {},
   "outputs": [],
   "source": [
    "# Função para buscar nos documentos com TF-IDF\n",
    "def buscar(query, vectorizer, tfidf_matrix):\n",
    "    query_vec = vectorizer.transform([query])\n",
    "    resultados = np.dot(tfidf_matrix, query_vec.T).toarray()\n",
    "    return resultados"
   ]
  },
  {
   "cell_type": "code",
   "execution_count": 14,
   "id": "6651c461-5af5-412a-aa48-a289de2d50f8",
   "metadata": {},
   "outputs": [],
   "source": [
    "# Realizando busca pela função anterior e ordenando pela maior probabilidade\n",
    "resultados = buscar(query, vectorizer, tfidf_matrix) #Realiza a busca\n",
    "resultados_ordenados = sorted(enumerate(resultados), key = lambda x: x[1][0], reverse= True) #Ordenando\n",
    "#resultados_ordenados # Visualização"
   ]
  },
  {
   "cell_type": "code",
   "execution_count": 15,
   "id": "e843dead-ac4a-4a94-97f7-f7dae26a9020",
   "metadata": {},
   "outputs": [
    {
     "name": "stdout",
     "output_type": "stream",
     "text": [
      "Score 0.44622426966256223 - Resultado: A Croácia está localizada na região dos Bálcãs, no sudeste da Europa.\n",
      "Score 0.44622426966256223 - Resultado: A trufa negra também é colhida na região norte da Croácia.\n",
      "Score 0.2874505191897494 - Resultado: O vinho croata é mundialmente reconhecido, especialmente o da região de Istria.\n",
      "Score 0.26113449751238466 - Resultado: O dálmata, raça de cachorro, tem origem ou forte tradição na região da Dalmácia.\n",
      "Score 0.17464712767007473 - Resultado: A Croácia também tem tradição no basquete e no tênis.\n",
      "Score 0.14764027397021515 - Resultado: A Croácia fez parte do Império Austro-Húngaro até 1918.\n",
      "Score 0.14764027397021515 - Resultado: A Croácia tem geografia montanhosa no interior central.\n",
      "Score 0.14489333317369266 - Resultado: Croácia conquistou a independência da Iugoslávia em 1991.\n",
      "Score 0.13827057574031792 - Resultado: Croácia tem festa da sardinha em algumas cidades costeiras.\n",
      "Score 0.13457738607021494 - Resultado: A Croácia foi campeã mundial de handebol em diversas ocasiões.\n",
      "Score 0.1304913904976433 - Resultado: A Croácia tem altos níveis de alfabetização, acima de 98%.\n",
      "Score 0.12499925598234793 - Resultado: A Croácia possui alguns dos mais claros e limpos mares do mundo.\n",
      "Score 0.12469631871460123 - Resultado: A Croácia tem uma tradição folclórica rica, com danças e trajes típicos.\n",
      "Score 0.12280421097778665 - Resultado: A Croácia exporta peixes, azeite, vinho e produtos de madeira.\n",
      "Score 0.1212097801189755 - Resultado: A Croácia adota o alfabeto latino com algumas letras especiais.\n",
      "Score 0.1196758830074283 - Resultado: O Rio Danúbio não passa na Croácia, mas o Drava e o Sava sim.\n",
      "Score 0.1196758830074283 - Resultado: Croácia tem um selo postal especial para a lenda de Dundo Maroje.\n",
      "Score 0.11744708339556664 - Resultado: Croácia produz azeites de alta qualidade principalmente na Dalmácia e Istria.\n",
      "Score 0.11586210384446251 - Resultado: A Croácia tem várias rotas de trilhas, incluindo as Montanhas Velebit e Biokovo.\n",
      "Score 0.10594055002190553 - Resultado: A Croácia possui 8 parques nacionais e dezenas de parques naturais.\n",
      "Score 0.0 - Resultado: Sua capital e maior cidade é Zagreb.\n",
      "Score 0.0 - Resultado: O país possui mais de mil ilhas, com destaque para Hvar e Brač.\n",
      "Score 0.0 - Resultado: O litoral croata é banhado pelo mar Adriático.\n",
      "Score 0.0 - Resultado: A Ilha de Korčula é considerada o local de nascimento de Marco Polo.\n",
      "Score 0.0 - Resultado: Dubrovnik é conhecida como a 'Pérola do Mar Adriático'.\n",
      "Score 0.0 - Resultado: As muralhas de Dubrovnik foram usadas como cenário de King's Landing em Game of Thrones.\n",
      "Score 0.0 - Resultado: A moeda oficial desde janeiro de 2023 é o euro.\n",
      "Score 0.0 - Resultado: Antigamente, usava-se a kuna como moeda.\n",
      "Score 0.0 - Resultado: O idioma oficial é o croata, uma língua eslava do sul.\n",
      "Score 0.0 - Resultado: O Parque Nacional dos Lagos de Plitvice está na UNESCO desde 1979.\n",
      "Score 0.0 - Resultado: Existem oito sítios croatas no Patrimônio Mundial da UNESCO.\n",
      "Score 0.0 - Resultado: Entre eles, o Palácio de Diocleciano em Split.\n",
      "Score 0.0 - Resultado: Split foi fundada pelo imperador romano Diocleciano.\n",
      "Score 0.0 - Resultado: O futebol é o esporte mais popular no país.\n",
      "Score 0.0 - Resultado: A seleção croata foi vice-campeã na Copa do Mundo de 2018.\n",
      "Score 0.0 - Resultado: O maratonista Blanka Vlasic é um dos principais atletas croatas.\n",
      "Score 0.0 - Resultado: O país é membro da União Europeia desde 2013.\n",
      "Score 0.0 - Resultado: Entou na OTAN em 2009.\n",
      "Score 0.0 - Resultado: Tem uma população aproximada de 4 milhões de habitantes.\n",
      "Score 0.0 - Resultado: O território croata tem cerca de 56.594 km².\n",
      "Score 0.0 - Resultado: O clima varia entre mediterrâneo na costa e continental no interior.\n",
      "Score 0.0 - Resultado: O Plavac Mali é uma uva típica usada em vinhos locais.\n",
      "Score 0.0 - Resultado: Existem museus famosos, como o Museu Afrodisias e o Museu de Arte Contemporânea de Zagreb.\n",
      "Score 0.0 - Resultado: Tradições como o Carnaval de Rijeka também são populares.\n",
      "Score 0.0 - Resultado: Rijeka foi Capital Europeia da Cultura em 2020.\n",
      "Score 0.0 - Resultado: O arquipélago de Kornati faz parte de um parque nacional marítimo.\n",
      "Score 0.0 - Resultado: O festival musical Outlook acontece em Pula e Tisno.\n",
      "Score 0.0 - Resultado: O verão atrai turistas para cidades como Zadar e Pula.\n",
      "Score 0.0 - Resultado: A cidade de Pula é célebre por seu anfiteatro romano bem preservado.\n",
      "Score 0.0 - Resultado: O canal de Ston é famoso por suas ostras e mariscos.\n",
      "Score 0.0 - Resultado: A cidade de Trogir tem um centro histórico medieval convidativo.\n",
      "Score 0.0 - Resultado: Mljet é um parque nacional em uma ilha coberta por florestas.\n",
      "Score 0.0 - Resultado: Zadar tem o famoso Órgão do Mar que ‘toca’ com movimento das ondas.\n",
      "Score 0.0 - Resultado: O Relógio Solar de Zadar cria efeitos visuais ao amanhecer e entardecer.\n",
      "Score 0.0 - Resultado: A culinária mescla influências mediterrâneas e centro‑europeias.\n",
      "Score 0.0 - Resultado: Pratos típicos incluem risotos, peixe fresco, olive oil e trufas.\n",
      "Score 0.0 - Resultado: O queijo de Pag é famoso e exportado para várias partes do mundo.\n",
      "Score 0.0 - Resultado: O azeite de oliva croata é premiado em competições internacionais.\n",
      "Score 0.0 - Resultado: A ilha de Vis foi base militar durante o período iugoslavo.\n",
      "Score 0.0 - Resultado: Hoje Vis é um destino turístico popular por praias e vinhos.\n",
      "Score 0.0 - Resultado: A fortaleza de Klis foi usada no set de Game of Thrones.\n",
      "Score 0.0 - Resultado: Um dos monumentos mais antigos é a Catedral de São Tiago em Šibenik.\n",
      "Score 0.0 - Resultado: O país tem uma forte tradição em remo e esportes náuticos.\n",
      "Score 0.0 - Resultado: O kayak e vela são populares na costa do Adriático.\n",
      "Score 0.0 - Resultado: O grandioso mar Negro no ambiente croata é considerado reserva.\n",
      "Score 0.0 - Resultado: A ilha de Pag é famosa pela música eletrônica e festas de verão.\n",
      "Score 0.0 - Resultado: Novalja, em Pag, é conhecida pela festa Zrće.\n",
      "Score 0.0 - Resultado: O sistema de saúde pública é universal e gratuito.\n",
      "Score 0.0 - Resultado: Há diversas universidades de renome como a Universidade de Zagreb.\n",
      "Score 0.0 - Resultado: A Universidade de Zagreb foi fundada em 1669.\n",
      "Score 0.0 - Resultado: O transporte público inclui trens, ônibus e balsas entre ilhas.\n",
      "Score 0.0 - Resultado: A rede rodoviária conecta Zagreb ao litoral por autoestradas modernas.\n",
      "Score 0.0 - Resultado: O aeroporto de Dubrovnik é o terceiro mais movimentado do país.\n",
      "Score 0.0 - Resultado: Outubro é o mês da trufa branca em Istria e Gorski Kotar.\n",
      "Score 0.0 - Resultado: Em Zagreb acontece o Advento, considerado um dos melhores mercados natalinos da Europa.\n",
      "Score 0.0 - Resultado: O Parque Nacional Risnjak é ideal para caminhadas e por avistar linces.\n",
      "Score 0.0 - Resultado: A costa croata é um importante destino de cruzeiros.\n",
      "Score 0.0 - Resultado: A ilha de Cres tem uma população fixa pequena e vida tranquila.\n",
      "Score 0.0 - Resultado: O porto de Rijeka é o maior porto marítimo croata.\n",
      "Score 0.0 - Resultado: O idioma croata tem quatro casos gramaticais principais.\n",
      "Score 0.0 - Resultado: Zagreb é dividida em Gornji Grad (cidade alta) e Donji Grad (cidade baixa).\n",
      "Score 0.0 - Resultado: A Premantura é o ponto mais ao sul da península de Istria.\n",
      "Score 0.0 - Resultado: Um dos festivais culturais mais antigos é de verão em Dubrovnik.\n",
      "Score 0.0 - Resultado: Na ilha de Hvar acontecem temporadas de teatro ao ar livre.\n",
      "Score 0.0 - Resultado: A cultura do café em Zagreb é bastante forte, com muitos cafés históricos.\n",
      "Score 0.0 - Resultado: As águas da Dalmácia são ideais para esportes aquáticos.\n",
      "Score 0.0 - Resultado: O forte de St. Marco, no Marjan de Split, oferece belas vistas.\n",
      "Score 0.0 - Resultado: A arquitetura de Zagreb tem influências secessionista, barroca e moderna.\n",
      "Score 0.0 - Resultado: Há várias estâncias de esqui no inverno, como Platak e Sljeme.\n",
      "Score 0.0 - Resultado: O verão mediterrâneo é quente e seco, ideal para turismo no Adriático.\n",
      "Score 0.0 - Resultado: Na Páscoa, as tradições religiosas são profundamente observadas.\n",
      "Score 0.0 - Resultado: O “licitar” é um biscoito colorido tradicional, com decoração romântica.\n",
      "Score 0.0 - Resultado: O festival de cinema de Pula é realizado no anfiteatro romano.\n",
      "Score 0.0 - Resultado: As cidades croatas frequentemente têm feiras ao ar livre semanais.\n",
      "Score 0.0 - Resultado: O turismo é responsável por cerca de 20% do PIB croata.\n",
      "Score 0.0 - Resultado: O canal de Velebit é um lugar admirado por mergulhadores.\n",
      "Score 0.0 - Resultado: Há ruínas romanas espalhadas por todo o território croata.\n",
      "Score 0.0 - Resultado: A montanha Biokovo oferece um Skywalk, passarela de vidro sobre o mar.\n",
      "Score 0.0 - Resultado: A redescoberta de tradições locais tem revitalizado artesanato e gastronomia.\n"
     ]
    }
   ],
   "source": [
    "#Mostrando resultados com texto correspondente do documento\n",
    "for idx, score in  resultados_ordenados:\n",
    "    print(f\"Score {score[0]} - Resultado: {documentos[idx]}\")"
   ]
  },
  {
   "cell_type": "markdown",
   "id": "3a6684bb-649f-4429-ad90-017d779ddea0",
   "metadata": {},
   "source": [
    "# Boolean Retrieval Model"
   ]
  },
  {
   "cell_type": "code",
   "execution_count": 16,
   "id": "c1d42041-a314-4587-814b-77c63ac7022f",
   "metadata": {},
   "outputs": [],
   "source": [
    "# Pré Processamento de dados igual a outra mas deixando as palavras para busca\n",
    "def processar_texto_boolean(entrada):\n",
    "    tokens = nltk.word_tokenize(entrada.lower(), language='portuguese')\n",
    "    tokens = [palavra for palavra in tokens if palavra.isalnum()]\n",
    "    stopwords = set(nltk.corpus.stopwords.words(\"portuguese\")) - {\"não\",\"e\",\"ou\"}\n",
    "    tokens = [palavra for palavra in tokens if palavra not in stopwords]\n",
    "    return tokens"
   ]
  },
  {
   "cell_type": "code",
   "execution_count": 17,
   "id": "381989a6-06c5-483a-9b2d-fa1d72ede9dd",
   "metadata": {},
   "outputs": [],
   "source": [
    "# Função para a busca booleana\n",
    "def busca_booleana(query, documentos):\n",
    "    query_tokens = processar_texto_boolean(query)\n",
    "\n",
    "    resultados = []\n",
    "\n",
    "    for doc_id, doc in enumerate(documentos):\n",
    "        doc_tokens = set(processar_texto_boolean(doc)) # set transforma lista em dicionário\n",
    "        include_doc = False\n",
    "\n",
    "        for i, token in enumerate(query_tokens):\n",
    "            # Cuidado dos operados \"AND\", \"OR\", ou \"NOT\"\n",
    "            if token == \"e\" and i + 1 < len(query_tokens):\n",
    "                # Se o operador AND for encontrado, checar se o próximo token esta no texto\n",
    "                include_doc = include_doc and (query_tokens[i + 1] in doc_tokens)\n",
    "\n",
    "            elif token == \"ou\" and i + 1 < len(query_tokens):\n",
    "                # Se o operador OR for encontrado, checar se o próximo token esta no texto\n",
    "                include_doc = include_doc or (query_tokens[i + 1] in doc_tokens)\n",
    "\n",
    "            elif token == \"não\" and i + 1 < len(query_tokens):\n",
    "                # Se o operador NOT for encontrado, excluir o texto se o token estiver presente nesse texto\n",
    "                if query_tokens[i + 1] in doc_tokens:\n",
    "                    include_doc = False\n",
    "                    break\n",
    "\n",
    "            else:\n",
    "                # Para documentos normais, checar se o texto deve ser incluído.\n",
    "                include_doc = token in doc_tokens or include_doc\n",
    "\n",
    "        if include_doc:\n",
    "            resultados.append((doc_id, doc))\n",
    "\n",
    "    return resultados"
   ]
  },
  {
   "cell_type": "code",
   "execution_count": 18,
   "id": "204bd82a-60ad-4c04-be26-3a97033a1673",
   "metadata": {},
   "outputs": [
    {
     "name": "stdout",
     "output_type": "stream",
     "text": [
      "ID do Documento: 0 -> Documento: A Croácia está localizada na região dos Bálcãs, no sudeste da Europa.\n",
      "ID do Documento: 66 -> Documento: Em Zagreb acontece o Advento, considerado um dos melhores mercados natalinos da Europa.\n"
     ]
    }
   ],
   "source": [
    "# Query de busca\n",
    "query = \"Croácia e europa\"\n",
    "\n",
    "# Fazendo a busca booleana\n",
    "resultados_booleanos = busca_booleana(query, documentos)\n",
    "\n",
    "# Exibindo resultados\n",
    "for doc_id, doc in resultados_booleanos:\n",
    "    print(\"ID do Documento: {} -> Documento: {}\".format(doc_id, doc))"
   ]
  },
  {
   "cell_type": "markdown",
   "id": "7aaceac9-9977-4a66-8127-6deae4fbb6af",
   "metadata": {},
   "source": [
    "# Probabilistic Retrieval Model\n",
    "Mais complexo / Requer conhecimento"
   ]
  },
  {
   "cell_type": "code",
   "execution_count": 19,
   "id": "8ae7a150-8b3f-4913-a198-3a4d935cb06a",
   "metadata": {},
   "outputs": [],
   "source": [
    "#!pip install rank_bm25"
   ]
  },
  {
   "cell_type": "code",
   "execution_count": 20,
   "id": "9c48aeca-a1d2-4f89-a0d1-75a30a85d73e",
   "metadata": {},
   "outputs": [],
   "source": [
    "from rank_bm25 import BM25Okapi # 25O não 250"
   ]
  },
  {
   "cell_type": "code",
   "execution_count": 24,
   "id": "7c5dc95d-2c28-4ca9-8b67-0e8c202abfac",
   "metadata": {},
   "outputs": [],
   "source": [
    "# Tokenizar todas as palavras\n",
    "tokenized_docs = [processar_texto(doc) for doc in documentos]\n",
    "#tokenized_docs"
   ]
  },
  {
   "cell_type": "code",
   "execution_count": 25,
   "id": "039e29d1-007e-4081-857e-658d12e55376",
   "metadata": {},
   "outputs": [],
   "source": [
    "# Inicializar modelo\n",
    "model = BM25Okapi(tokenized_docs)"
   ]
  },
  {
   "cell_type": "code",
   "execution_count": 26,
   "id": "ed2b5bd7-f132-4e00-b134-42a8041429c8",
   "metadata": {},
   "outputs": [],
   "source": [
    "# Função de busca probabilistica\n",
    "def busca_bm25(query, model):\n",
    "    query_tokens = processar_texto(query)\n",
    "    doc_scores = model.get_scores(query_tokens)\n",
    "    return doc_scores"
   ]
  },
  {
   "cell_type": "code",
   "execution_count": 31,
   "id": "4888375d-0674-4efa-9507-797a79fcea53",
   "metadata": {},
   "outputs": [],
   "source": [
    "# Testando\n",
    "query = \"Onde passear na Croácia\"\n",
    "resultados_bm25 = busca_bm25(query, model)"
   ]
  },
  {
   "cell_type": "code",
   "execution_count": 32,
   "id": "7b2e3ae4-c834-4e3e-876e-b424054e938a",
   "metadata": {},
   "outputs": [
    {
     "name": "stdout",
     "output_type": "stream",
     "text": [
      "Score: 1.760 - Documento: A Croácia também tem tradição no basquete e no tênis.\n",
      "Score: 1.619 - Documento: A Croácia fez parte do Império Austro-Húngaro até 1918.\n",
      "Score: 1.619 - Documento: A Croácia tem geografia montanhosa no interior central.\n",
      "Score: 1.619 - Documento: Croácia conquistou a independência da Iugoslávia em 1991.\n",
      "Score: 1.499 - Documento: A Croácia tem altos níveis de alfabetização, acima de 98%.\n",
      "Score: 1.499 - Documento: A Croácia foi campeã mundial de handebol em diversas ocasiões.\n",
      "Score: 1.499 - Documento: A Croácia está localizada na região dos Bálcãs, no sudeste da Europa.\n",
      "Score: 1.499 - Documento: Croácia tem festa da sardinha em algumas cidades costeiras.\n",
      "Score: 1.499 - Documento: A trufa negra também é colhida na região norte da Croácia.\n",
      "Score: 1.396 - Documento: A Croácia adota o alfabeto latino com algumas letras especiais.\n",
      "Score: 1.396 - Documento: A Croácia possui alguns dos mais claros e limpos mares do mundo.\n",
      "Score: 1.396 - Documento: O Rio Danúbio não passa na Croácia, mas o Drava e o Sava sim.\n",
      "Score: 1.396 - Documento: A Croácia tem uma tradição folclórica rica, com danças e trajes típicos.\n",
      "Score: 1.396 - Documento: A Croácia exporta peixes, azeite, vinho e produtos de madeira.\n",
      "Score: 1.396 - Documento: Croácia tem um selo postal especial para a lenda de Dundo Maroje.\n",
      "Score: 1.306 - Documento: A Croácia tem várias rotas de trilhas, incluindo as Montanhas Velebit e Biokovo.\n",
      "Score: 1.306 - Documento: A Croácia possui 8 parques nacionais e dezenas de parques naturais.\n",
      "Score: 1.306 - Documento: Croácia produz azeites de alta qualidade principalmente na Dalmácia e Istria.\n",
      "Score: 0.000 - Documento: Há ruínas romanas espalhadas por todo o território croata.\n",
      "Score: 0.000 - Documento: Um dos festivais culturais mais antigos é de verão em Dubrovnik.\n",
      "Score: 0.000 - Documento: Na ilha de Hvar acontecem temporadas de teatro ao ar livre.\n",
      "Score: 0.000 - Documento: A cultura do café em Zagreb é bastante forte, com muitos cafés históricos.\n",
      "Score: 0.000 - Documento: As águas da Dalmácia são ideais para esportes aquáticos.\n",
      "Score: 0.000 - Documento: A arquitetura de Zagreb tem influências secessionista, barroca e moderna.\n",
      "Score: 0.000 - Documento: O forte de St. Marco, no Marjan de Split, oferece belas vistas.\n",
      "Score: 0.000 - Documento: A redescoberta de tradições locais tem revitalizado artesanato e gastronomia.\n",
      "Score: 0.000 - Documento: A montanha Biokovo oferece um Skywalk, passarela de vidro sobre o mar.\n",
      "Score: 0.000 - Documento: O verão mediterrâneo é quente e seco, ideal para turismo no Adriático.\n",
      "Score: 0.000 - Documento: Há várias estâncias de esqui no inverno, como Platak e Sljeme.\n",
      "Score: 0.000 - Documento: O turismo é responsável por cerca de 20% do PIB croata.\n",
      "Score: 0.000 - Documento: O canal de Velebit é um lugar admirado por mergulhadores.\n",
      "Score: 0.000 - Documento: O festival de cinema de Pula é realizado no anfiteatro romano.\n",
      "Score: 0.000 - Documento: O “licitar” é um biscoito colorido tradicional, com decoração romântica.\n",
      "Score: 0.000 - Documento: Na Páscoa, as tradições religiosas são profundamente observadas.\n",
      "Score: 0.000 - Documento: As cidades croatas frequentemente têm feiras ao ar livre semanais.\n",
      "Score: 0.000 - Documento: Outubro é o mês da trufa branca em Istria e Gorski Kotar.\n",
      "Score: 0.000 - Documento: Em Zagreb acontece o Advento, considerado um dos melhores mercados natalinos da Europa.\n",
      "Score: 0.000 - Documento: O dálmata, raça de cachorro, tem origem ou forte tradição na região da Dalmácia.\n",
      "Score: 0.000 - Documento: O Parque Nacional Risnjak é ideal para caminhadas e por avistar linces.\n",
      "Score: 0.000 - Documento: O idioma croata tem quatro casos gramaticais principais.\n",
      "Score: 0.000 - Documento: O porto de Rijeka é o maior porto marítimo croata.\n",
      "Score: 0.000 - Documento: A ilha de Cres tem uma população fixa pequena e vida tranquila.\n",
      "Score: 0.000 - Documento: A costa croata é um importante destino de cruzeiros.\n",
      "Score: 0.000 - Documento: A Premantura é o ponto mais ao sul da península de Istria.\n",
      "Score: 0.000 - Documento: Zagreb é dividida em Gornji Grad (cidade alta) e Donji Grad (cidade baixa).\n",
      "Score: 0.000 - Documento: O grandioso mar Negro no ambiente croata é considerado reserva.\n",
      "Score: 0.000 - Documento: A ilha de Pag é famosa pela música eletrônica e festas de verão.\n",
      "Score: 0.000 - Documento: Novalja, em Pag, é conhecida pela festa Zrće.\n",
      "Score: 0.000 - Documento: A Universidade de Zagreb foi fundada em 1669.\n",
      "Score: 0.000 - Documento: O transporte público inclui trens, ônibus e balsas entre ilhas.\n",
      "Score: 0.000 - Documento: O aeroporto de Dubrovnik é o terceiro mais movimentado do país.\n",
      "Score: 0.000 - Documento: Hoje Vis é um destino turístico popular por praias e vinhos.\n",
      "Score: 0.000 - Documento: A fortaleza de Klis foi usada no set de Game of Thrones.\n",
      "Score: 0.000 - Documento: Um dos monumentos mais antigos é a Catedral de São Tiago em Šibenik.\n",
      "Score: 0.000 - Documento: A ilha de Vis foi base militar durante o período iugoslavo.\n",
      "Score: 0.000 - Documento: Pratos típicos incluem risotos, peixe fresco, olive oil e trufas.\n",
      "Score: 0.000 - Documento: A culinária mescla influências mediterrâneas e centro‑europeias.\n",
      "Score: 0.000 - Documento: O azeite de oliva croata é premiado em competições internacionais.\n",
      "Score: 0.000 - Documento: O queijo de Pag é famoso e exportado para várias partes do mundo.\n",
      "Score: 0.000 - Documento: Zadar tem o famoso Órgão do Mar que ‘toca’ com movimento das ondas.\n",
      "Score: 0.000 - Documento: O Relógio Solar de Zadar cria efeitos visuais ao amanhecer e entardecer.\n",
      "Score: 0.000 - Documento: A cidade de Trogir tem um centro histórico medieval convidativo.\n",
      "Score: 0.000 - Documento: O kayak e vela são populares na costa do Adriático.\n",
      "Score: 0.000 - Documento: O país tem uma forte tradição em remo e esportes náuticos.\n",
      "Score: 0.000 - Documento: Há diversas universidades de renome como a Universidade de Zagreb.\n",
      "Score: 0.000 - Documento: O sistema de saúde pública é universal e gratuito.\n",
      "Score: 0.000 - Documento: A rede rodoviária conecta Zagreb ao litoral por autoestradas modernas.\n",
      "Score: 0.000 - Documento: O festival musical Outlook acontece em Pula e Tisno.\n",
      "Score: 0.000 - Documento: O verão atrai turistas para cidades como Zadar e Pula.\n",
      "Score: 0.000 - Documento: A cidade de Pula é célebre por seu anfiteatro romano bem preservado.\n",
      "Score: 0.000 - Documento: O canal de Ston é famoso por suas ostras e mariscos.\n",
      "Score: 0.000 - Documento: Mljet é um parque nacional em uma ilha coberta por florestas.\n",
      "Score: 0.000 - Documento: Existem museus famosos, como o Museu Afrodisias e o Museu de Arte Contemporânea de Zagreb.\n",
      "Score: 0.000 - Documento: Rijeka foi Capital Europeia da Cultura em 2020.\n",
      "Score: 0.000 - Documento: O arquipélago de Kornati faz parte de um parque nacional marítimo.\n",
      "Score: 0.000 - Documento: O clima varia entre mediterrâneo na costa e continental no interior.\n",
      "Score: 0.000 - Documento: O território croata tem cerca de 56.594 km².\n",
      "Score: 0.000 - Documento: Entou na OTAN em 2009.\n",
      "Score: 0.000 - Documento: Tem uma população aproximada de 4 milhões de habitantes.\n",
      "Score: 0.000 - Documento: O país é membro da União Europeia desde 2013.\n",
      "Score: 0.000 - Documento: O Plavac Mali é uma uva típica usada em vinhos locais.\n",
      "Score: 0.000 - Documento: O vinho croata é mundialmente reconhecido, especialmente o da região de Istria.\n",
      "Score: 0.000 - Documento: Tradições como o Carnaval de Rijeka também são populares.\n",
      "Score: 0.000 - Documento: O futebol é o esporte mais popular no país.\n",
      "Score: 0.000 - Documento: A seleção croata foi vice-campeã na Copa do Mundo de 2018.\n",
      "Score: 0.000 - Documento: O maratonista Blanka Vlasic é um dos principais atletas croatas.\n",
      "Score: 0.000 - Documento: Split foi fundada pelo imperador romano Diocleciano.\n",
      "Score: 0.000 - Documento: O Parque Nacional dos Lagos de Plitvice está na UNESCO desde 1979.\n",
      "Score: 0.000 - Documento: O idioma oficial é o croata, uma língua eslava do sul.\n",
      "Score: 0.000 - Documento: Entre eles, o Palácio de Diocleciano em Split.\n",
      "Score: 0.000 - Documento: Existem oito sítios croatas no Patrimônio Mundial da UNESCO.\n",
      "Score: 0.000 - Documento: A moeda oficial desde janeiro de 2023 é o euro.\n",
      "Score: 0.000 - Documento: Antigamente, usava-se a kuna como moeda.\n",
      "Score: 0.000 - Documento: Dubrovnik é conhecida como a 'Pérola do Mar Adriático'.\n",
      "Score: 0.000 - Documento: As muralhas de Dubrovnik foram usadas como cenário de King's Landing em Game of Thrones.\n",
      "Score: 0.000 - Documento: A Ilha de Korčula é considerada o local de nascimento de Marco Polo.\n",
      "Score: 0.000 - Documento: O litoral croata é banhado pelo mar Adriático.\n",
      "Score: 0.000 - Documento: O país possui mais de mil ilhas, com destaque para Hvar e Brač.\n",
      "Score: 0.000 - Documento: Sua capital e maior cidade é Zagreb.\n"
     ]
    }
   ],
   "source": [
    "# Ordenando resultados e exibindo\n",
    "resultados_bm25_ordenados = np.argsort(resultados_bm25)[::-1]\n",
    "for idx in resultados_bm25_ordenados:\n",
    "    print(\"Score: {:.3f} - Documento: {}\".format(resultados_bm25[idx], documentos[idx]))"
   ]
  },
  {
   "cell_type": "code",
   "execution_count": null,
   "id": "67509062-6e4a-4753-b794-b9ee6d71521a",
   "metadata": {},
   "outputs": [],
   "source": []
  }
 ],
 "metadata": {
  "kernelspec": {
   "display_name": "Python 3 (ipykernel)",
   "language": "python",
   "name": "python3"
  },
  "language_info": {
   "codemirror_mode": {
    "name": "ipython",
    "version": 3
   },
   "file_extension": ".py",
   "mimetype": "text/x-python",
   "name": "python",
   "nbconvert_exporter": "python",
   "pygments_lexer": "ipython3",
   "version": "3.13.5"
  }
 },
 "nbformat": 4,
 "nbformat_minor": 5
}
