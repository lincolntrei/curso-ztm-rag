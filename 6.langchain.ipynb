{
 "cells": [
  {
   "cell_type": "markdown",
   "id": "aede4ab7-b88c-4197-ae98-d54203b6adc2",
   "metadata": {},
   "source": [
    "# Langchain\n",
    "Aprendendo sobre langchain"
   ]
  },
  {
   "cell_type": "code",
   "execution_count": 1,
   "id": "a9d73ece-0037-46cf-b502-1950c83eef90",
   "metadata": {},
   "outputs": [],
   "source": [
    "# Carregando chave openai\n",
    "import os\n",
    "from dotenv import load_dotenv\n",
    "\n",
    "load_dotenv()\n",
    "openai_api_key = os.getenv(\"OPENAI_API_KEY\")"
   ]
  },
  {
   "cell_type": "markdown",
   "id": "d4708509-4315-4c8c-a4ef-819d8e1106d9",
   "metadata": {},
   "source": [
    "## Exemplo\n",
    "Exemplo de código langchain"
   ]
  },
  {
   "cell_type": "code",
   "execution_count": 2,
   "id": "10958569-2d69-47d8-928e-b965b485f1b7",
   "metadata": {},
   "outputs": [
    {
     "name": "stdout",
     "output_type": "stream",
     "text": [
      "Neural networks are computer systems that are designed to mimic the way the human brain learns and processes information. \n",
      "\n",
      "At its most basic, a neural network takes in inputs, which it then processes in hidden layers using weights that are adjusted during training. Then it gives an output. The weights are adjusted to find patterns in data.\n",
      "\n",
      "These networks consist of three main parts: the input layer, hidden layers, and output layer. The input layer receives various forms of information from the outside world; this is the data that the network will learn about. The hidden layers process this input by weighing its importance (i.e., assigning numerical values), and then create connections between various inputs based on these values. Finally, the output layer provides the result – what the network\n"
     ]
    }
   ],
   "source": [
    "from langchain_openai import ChatOpenAI\n",
    "\n",
    "# Initialize the OpenAI model\n",
    "model = ChatOpenAI(\n",
    "    openai_api_key=openai_api_key,  # Your OpenAI API key\n",
    "    model=\"gpt-4\",                  # Model name, e.g., \"gpt-4o\", \"gpt-4o-mini\"\n",
    "    temperature=0.7,                # Controls creativity of the output; 0.0 for deterministic, higher for more diverse outputs\n",
    "    max_tokens=150,                 # Maximum number of tokens to generate\n",
    "    n=1,                            # Number of completions to generate\n",
    "    stop=None,                      # Stop sequence; can be a string or list of strings where the API should stop generating further tokens\n",
    "    presence_penalty=0.6,           # Penalizes new tokens based on their presence in the text so far; helps avoid repetition\n",
    "    frequency_penalty=0.5           # Penalizes new tokens based on their frequency in the text so far; reduces repetition\n",
    ")\n",
    "\n",
    "# Define the prompt\n",
    "prompt = \"Explain the basics of neural networks in simple terms.\"\n",
    "\n",
    "# Generate the response\n",
    "response = model.invoke(prompt)\n",
    "\n",
    "# Display the result\n",
    "print(response.content)"
   ]
  },
  {
   "cell_type": "markdown",
   "id": "2cc95b50-0e09-41a3-9a98-e60a71742979",
   "metadata": {},
   "source": [
    "## Instalando bibliotecas"
   ]
  },
  {
   "cell_type": "markdown",
   "id": "beef402f-e065-44d4-969d-2c0621826016",
   "metadata": {},
   "source": [
    "!pip install langchain-community unstructured langchain-openai openai faiss-cpu"
   ]
  },
  {
   "cell_type": "markdown",
   "id": "8d5a2ff8-6b88-4f51-b94b-276fe9754c18",
   "metadata": {},
   "source": [
    "## Excel"
   ]
  },
  {
   "cell_type": "code",
   "execution_count": 1,
   "id": "03831778-4dd5-480d-b563-29221794c4c5",
   "metadata": {},
   "outputs": [],
   "source": [
    "from langchain_community.document_loaders import UnstructuredExcelLoader\n",
    "from langchain.text_splitter import RecursiveCharacterTextSplitter\n",
    "from langchain_openai import ChatOpenAI, OpenAIEmbeddings\n",
    "from langchain.vectorstores.faiss import FAISS\n",
    "from IPython.display import display, Markdown"
   ]
  },
  {
   "cell_type": "code",
   "execution_count": 4,
   "id": "3f0765fa-1029-492e-a00e-815b29b37a51",
   "metadata": {},
   "outputs": [
    {
     "ename": "ModuleNotFoundError",
     "evalue": "No module named 'msoffcrypto'",
     "output_type": "error",
     "traceback": [
      "\u001b[31m---------------------------------------------------------------------------\u001b[39m",
      "\u001b[31mModuleNotFoundError\u001b[39m                       Traceback (most recent call last)",
      "\u001b[36mCell\u001b[39m\u001b[36m \u001b[39m\u001b[32mIn[4]\u001b[39m\u001b[32m, line 4\u001b[39m\n\u001b[32m      1\u001b[39m \u001b[38;5;66;03m# Carregar dados excel\u001b[39;00m\n\u001b[32m      2\u001b[39m \u001b[38;5;66;03m# mode=elements ira dividir os dados em componentes individuais\u001b[39;00m\n\u001b[32m      3\u001b[39m loader = UnstructuredExcelLoader(\u001b[33m\"\u001b[39m\u001b[33m6.langchain/Reviews.xlsx\u001b[39m\u001b[33m\"\u001b[39m, mode=\u001b[33m\"\u001b[39m\u001b[33melements\u001b[39m\u001b[33m\"\u001b[39m)\n\u001b[32m----> \u001b[39m\u001b[32m4\u001b[39m docs = loader.load()\n\u001b[32m      6\u001b[39m \u001b[38;5;66;03m# Mostrar os 5 primeiros elementos\u001b[39;00m\n\u001b[32m      7\u001b[39m docs[:\u001b[32m5\u001b[39m]\n",
      "\u001b[36mFile \u001b[39m\u001b[32m~/Codigos/Projetos/envs/ztm-rag/lib/python3.13/site-packages/langchain_core/document_loaders/base.py:32\u001b[39m, in \u001b[36mBaseLoader.load\u001b[39m\u001b[34m(self)\u001b[39m\n\u001b[32m     30\u001b[39m \u001b[38;5;28;01mdef\u001b[39;00m\u001b[38;5;250m \u001b[39m\u001b[34mload\u001b[39m(\u001b[38;5;28mself\u001b[39m) -> \u001b[38;5;28mlist\u001b[39m[Document]:\n\u001b[32m     31\u001b[39m \u001b[38;5;250m    \u001b[39m\u001b[33;03m\"\"\"Load data into Document objects.\"\"\"\u001b[39;00m\n\u001b[32m---> \u001b[39m\u001b[32m32\u001b[39m     \u001b[38;5;28;01mreturn\u001b[39;00m \u001b[38;5;28mlist\u001b[39m(\u001b[38;5;28mself\u001b[39m.lazy_load())\n",
      "\u001b[36mFile \u001b[39m\u001b[32m~/Codigos/Projetos/envs/ztm-rag/lib/python3.13/site-packages/langchain_community/document_loaders/unstructured.py:107\u001b[39m, in \u001b[36mUnstructuredBaseLoader.lazy_load\u001b[39m\u001b[34m(self)\u001b[39m\n\u001b[32m    105\u001b[39m \u001b[38;5;28;01mdef\u001b[39;00m\u001b[38;5;250m \u001b[39m\u001b[34mlazy_load\u001b[39m(\u001b[38;5;28mself\u001b[39m) -> Iterator[Document]:\n\u001b[32m    106\u001b[39m \u001b[38;5;250m    \u001b[39m\u001b[33;03m\"\"\"Load file.\"\"\"\u001b[39;00m\n\u001b[32m--> \u001b[39m\u001b[32m107\u001b[39m     elements = \u001b[38;5;28mself\u001b[39m._get_elements()\n\u001b[32m    108\u001b[39m     \u001b[38;5;28mself\u001b[39m._post_process_elements(elements)\n\u001b[32m    109\u001b[39m     \u001b[38;5;28;01mif\u001b[39;00m \u001b[38;5;28mself\u001b[39m.mode == \u001b[33m\"\u001b[39m\u001b[33melements\u001b[39m\u001b[33m\"\u001b[39m:\n",
      "\u001b[36mFile \u001b[39m\u001b[32m~/Codigos/Projetos/envs/ztm-rag/lib/python3.13/site-packages/langchain_community/document_loaders/excel.py:50\u001b[39m, in \u001b[36mUnstructuredExcelLoader._get_elements\u001b[39m\u001b[34m(self)\u001b[39m\n\u001b[32m     49\u001b[39m \u001b[38;5;28;01mdef\u001b[39;00m\u001b[38;5;250m \u001b[39m\u001b[34m_get_elements\u001b[39m(\u001b[38;5;28mself\u001b[39m) -> List:\n\u001b[32m---> \u001b[39m\u001b[32m50\u001b[39m     \u001b[38;5;28;01mfrom\u001b[39;00m\u001b[38;5;250m \u001b[39m\u001b[34;01munstructured\u001b[39;00m\u001b[34;01m.\u001b[39;00m\u001b[34;01mpartition\u001b[39;00m\u001b[34;01m.\u001b[39;00m\u001b[34;01mxlsx\u001b[39;00m\u001b[38;5;250m \u001b[39m\u001b[38;5;28;01mimport\u001b[39;00m partition_xlsx\n\u001b[32m     52\u001b[39m     \u001b[38;5;28;01mreturn\u001b[39;00m partition_xlsx(filename=\u001b[38;5;28mself\u001b[39m.file_path, **\u001b[38;5;28mself\u001b[39m.unstructured_kwargs)\n",
      "\u001b[36mFile \u001b[39m\u001b[32m~/Codigos/Projetos/envs/ztm-rag/lib/python3.13/site-packages/unstructured/partition/xlsx.py:11\u001b[39m\n\u001b[32m      9\u001b[39m \u001b[38;5;28;01mimport\u001b[39;00m\u001b[38;5;250m \u001b[39m\u001b[34;01mnumpy\u001b[39;00m\u001b[38;5;250m \u001b[39m\u001b[38;5;28;01mas\u001b[39;00m\u001b[38;5;250m \u001b[39m\u001b[34;01mnp\u001b[39;00m\n\u001b[32m     10\u001b[39m \u001b[38;5;28;01mimport\u001b[39;00m\u001b[38;5;250m \u001b[39m\u001b[34;01mpandas\u001b[39;00m\u001b[38;5;250m \u001b[39m\u001b[38;5;28;01mas\u001b[39;00m\u001b[38;5;250m \u001b[39m\u001b[34;01mpd\u001b[39;00m\n\u001b[32m---> \u001b[39m\u001b[32m11\u001b[39m \u001b[38;5;28;01mfrom\u001b[39;00m\u001b[38;5;250m \u001b[39m\u001b[34;01mmsoffcrypto\u001b[39;00m\u001b[38;5;250m \u001b[39m\u001b[38;5;28;01mimport\u001b[39;00m OfficeFile\n\u001b[32m     12\u001b[39m \u001b[38;5;28;01mfrom\u001b[39;00m\u001b[38;5;250m \u001b[39m\u001b[34;01mmsoffcrypto\u001b[39;00m\u001b[34;01m.\u001b[39;00m\u001b[34;01mexceptions\u001b[39;00m\u001b[38;5;250m \u001b[39m\u001b[38;5;28;01mimport\u001b[39;00m FileFormatError\n\u001b[32m     13\u001b[39m \u001b[38;5;28;01mfrom\u001b[39;00m\u001b[38;5;250m \u001b[39m\u001b[34;01mtyping_extensions\u001b[39;00m\u001b[38;5;250m \u001b[39m\u001b[38;5;28;01mimport\u001b[39;00m Self, TypeAlias\n",
      "\u001b[31mModuleNotFoundError\u001b[39m: No module named 'msoffcrypto'"
     ]
    }
   ],
   "source": [
    "# Carregar dados excel\n",
    "# mode=elements ira dividir os dados em componentes individuais\n",
    "loader = UnstructuredExcelLoader(\"6.langchain/Reviews.xlsx\", mode=\"elements\")\n",
    "docs = loader.load()\n",
    "\n",
    "# Mostrar os 5 primeiros elementos\n",
    "docs[:5]"
   ]
  },
  {
   "cell_type": "code",
   "execution_count": null,
   "id": "b3b3918b-4535-4d6f-bf4d-2dc4caa15a9a",
   "metadata": {},
   "outputs": [],
   "source": []
  }
 ],
 "metadata": {
  "kernelspec": {
   "display_name": "Python 3 (ipykernel)",
   "language": "python",
   "name": "python3"
  },
  "language_info": {
   "codemirror_mode": {
    "name": "ipython",
    "version": 3
   },
   "file_extension": ".py",
   "mimetype": "text/x-python",
   "name": "python",
   "nbconvert_exporter": "python",
   "pygments_lexer": "ipython3",
   "version": "3.13.5"
  }
 },
 "nbformat": 4,
 "nbformat_minor": 5
}
