{
 "cells": [
  {
   "cell_type": "markdown",
   "id": "aede4ab7-b88c-4197-ae98-d54203b6adc2",
   "metadata": {},
   "source": [
    "# Langchain\n",
    "Aprendendo sobre langchain"
   ]
  },
  {
   "cell_type": "code",
   "execution_count": 1,
   "id": "a9d73ece-0037-46cf-b502-1950c83eef90",
   "metadata": {},
   "outputs": [],
   "source": [
    "# Carregando chave openai\n",
    "import os\n",
    "from dotenv import load_dotenv\n",
    "\n",
    "load_dotenv()\n",
    "openai_api_key = os.getenv(\"OPENAI_API_KEY\")"
   ]
  },
  {
   "cell_type": "markdown",
   "id": "d4708509-4315-4c8c-a4ef-819d8e1106d9",
   "metadata": {},
   "source": [
    "## Exemplo\n",
    "Exemplo de código langchain"
   ]
  },
  {
   "cell_type": "code",
   "execution_count": 2,
   "id": "10958569-2d69-47d8-928e-b965b485f1b7",
   "metadata": {},
   "outputs": [
    {
     "name": "stdout",
     "output_type": "stream",
     "text": [
      "Neural networks are computer systems that are designed to mimic the way the human brain learns and processes information. \n",
      "\n",
      "At its most basic, a neural network takes in inputs, which it then processes in hidden layers using weights that are adjusted during training. Then it gives an output. The weights are adjusted to find patterns in data.\n",
      "\n",
      "These networks consist of three main parts: the input layer, hidden layers, and output layer. The input layer receives various forms of information from the outside world; this is the data that the network will learn about. The hidden layers process this input by weighing its importance (i.e., assigning numerical values), and then create connections between various inputs based on these values. Finally, the output layer provides the result – what the network\n"
     ]
    }
   ],
   "source": [
    "from langchain_openai import ChatOpenAI\n",
    "\n",
    "# Initialize the OpenAI model\n",
    "model = ChatOpenAI(\n",
    "    openai_api_key=openai_api_key,  # Your OpenAI API key\n",
    "    model=\"gpt-4\",                  # Model name, e.g., \"gpt-4o\", \"gpt-4o-mini\"\n",
    "    temperature=0.7,                # Controls creativity of the output; 0.0 for deterministic, higher for more diverse outputs\n",
    "    max_tokens=150,                 # Maximum number of tokens to generate\n",
    "    n=1,                            # Number of completions to generate\n",
    "    stop=None,                      # Stop sequence; can be a string or list of strings where the API should stop generating further tokens\n",
    "    presence_penalty=0.6,           # Penalizes new tokens based on their presence in the text so far; helps avoid repetition\n",
    "    frequency_penalty=0.5           # Penalizes new tokens based on their frequency in the text so far; reduces repetition\n",
    ")\n",
    "\n",
    "# Define the prompt\n",
    "prompt = \"Explain the basics of neural networks in simple terms.\"\n",
    "\n",
    "# Generate the response\n",
    "response = model.invoke(prompt)\n",
    "\n",
    "# Display the result\n",
    "print(response.content)"
   ]
  },
  {
   "cell_type": "markdown",
   "id": "2cc95b50-0e09-41a3-9a98-e60a71742979",
   "metadata": {},
   "source": [
    "## Instalando bibliotecas"
   ]
  },
  {
   "cell_type": "markdown",
   "id": "beef402f-e065-44d4-969d-2c0621826016",
   "metadata": {},
   "source": [
    "!pip install langchain-community unstructured langchain-openai openai faiss-cpu"
   ]
  },
  {
   "cell_type": "markdown",
   "id": "998481fb-98ae-4e56-a741-cb3c7732abb2",
   "metadata": {},
   "source": [
    "!pip install msoffcrypto-tool    #pediu para instalar no erro ao rodar o \"load()\" do ExcelLoader"
   ]
  },
  {
   "cell_type": "markdown",
   "id": "8d5a2ff8-6b88-4f51-b94b-276fe9754c18",
   "metadata": {},
   "source": [
    "## Excel"
   ]
  },
  {
   "cell_type": "code",
   "execution_count": 2,
   "id": "03831778-4dd5-480d-b563-29221794c4c5",
   "metadata": {},
   "outputs": [],
   "source": [
    "from langchain_community.document_loaders import UnstructuredExcelLoader\n",
    "from langchain.text_splitter import RecursiveCharacterTextSplitter\n",
    "from langchain_openai import ChatOpenAI, OpenAIEmbeddings\n",
    "from langchain.vectorstores.faiss import FAISS\n",
    "from IPython.display import display, Markdown"
   ]
  },
  {
   "cell_type": "code",
   "execution_count": 36,
   "id": "0eb35350-8933-4346-bb9c-08170fa688b4",
   "metadata": {},
   "outputs": [],
   "source": [
    "excel_path = \"6.langchain/Reviews.xlsx\""
   ]
  },
  {
   "cell_type": "code",
   "execution_count": 29,
   "id": "3f0765fa-1029-492e-a00e-815b29b37a51",
   "metadata": {},
   "outputs": [],
   "source": [
    "# Carregar dados excel\n",
    "# mode=elements ira dividir os dados em componentes individuais\n",
    "loader = UnstructuredExcelLoader(excel_path, mode=\"elements\")\n",
    "docs = loader.load()"
   ]
  },
  {
   "cell_type": "code",
   "execution_count": null,
   "id": "e647ccdf-8a0a-4bcb-91d9-8355e2f0f63f",
   "metadata": {},
   "outputs": [],
   "source": [
    "# Mostrar os 5 primeiros elementos\n",
    "docs[:5]"
   ]
  },
  {
   "cell_type": "code",
   "execution_count": 34,
   "id": "136ce880-e4da-4b24-a136-525b2c844865",
   "metadata": {},
   "outputs": [],
   "source": [
    "# Dividir os documentos em chunks\n",
    "text_splitter = RecursiveCharacterTextSplitter(\n",
    "    chunk_size = 2000,\n",
    "    chunk_overlap = 200\n",
    ")\n",
    "chunks = text_splitter.split_documents(docs)"
   ]
  },
  {
   "cell_type": "code",
   "execution_count": null,
   "id": "ff6c5928-9b42-449c-a6a2-2a92da3b0d9e",
   "metadata": {},
   "outputs": [],
   "source": [
    "# Mostrar primeiros 5 chunks\n",
    "chunks[:5]"
   ]
  },
  {
   "cell_type": "code",
   "execution_count": 11,
   "id": "b3b3918b-4535-4d6f-bf4d-2dc4caa15a9a",
   "metadata": {},
   "outputs": [
    {
     "data": {
      "text/plain": [
       "<langchain_community.vectorstores.faiss.FAISS at 0x709044c0acf0>"
      ]
     },
     "execution_count": 11,
     "metadata": {},
     "output_type": "execute_result"
    }
   ],
   "source": [
    "# Embeddings com OPenAI Embedding model\n",
    "embeddings = OpenAIEmbeddings(\n",
    "    openai_api_key=openai_api_key,\n",
    "    model=\"text-embedding-3-large\"\n",
    ")\n",
    "\n",
    "# Criando index FAISS\n",
    "db_faiss = FAISS.from_documents(chunks, embeddings)\n",
    "db_faiss"
   ]
  },
  {
   "cell_type": "code",
   "execution_count": 30,
   "id": "449eedee-aca2-41cd-8e3e-9fdd553b1613",
   "metadata": {},
   "outputs": [],
   "source": [
    "# Tentativa de Retrieval System\n",
    "query = \"give me my worst reviews\"\n",
    "\n",
    "# Retrieve o contexto -> Langchain usa Cosine Distance Metric\n",
    "docs_faiss = db_faiss.similarity_search_with_score(query, k = 5)"
   ]
  },
  {
   "cell_type": "code",
   "execution_count": null,
   "id": "8bca9ab6-d3fa-4d1a-a981-edbfd769ae2e",
   "metadata": {},
   "outputs": [],
   "source": [
    "# Mostrar os 5 primeiros elementos\n",
    "docs[:5]"
   ]
  },
  {
   "cell_type": "code",
   "execution_count": 25,
   "id": "8550c44e-9770-400e-9315-e5731867e415",
   "metadata": {},
   "outputs": [
    {
     "data": {
      "text/plain": [
       "'2021-12-20 08:30:29+00:00 5 Master Time Series Analysis and Forecasting with Python 2024 Leo TiÅ¡ljariÄ‡ 2021-12-18 16:56:12+00:00 5 Master Time Series Analysis and Forecasting with Python 2024 Nikhitha 2021-12-18 10:51:14+00:00 4.5 Econometrics and Statistics for Business in R & Python Konstantinos Tsiamasiotis 2021-12-18 04:59:38+00:00 5 Econometrics and Statistics for Business in R & Python Angeliki Kafritsa 2021-12-17 08:37:51+00:00 5 Econometrics and Statistics for Business in R & Python Rosie Liu 2021-12-16 22:21:46+00:00 4 Econometrics and Statistics for Business in R & Python Renuka Gusain 2021-12-16 11:10:09+00:00 4.5 Master Time Series Analysis and Forecasting with Python 2024 Yhasreen Abrahim 2021-12-16 10:33:42+00:00 3 content too simple and basic time series XGBoost for Business: Machine Learning Course in Python & R Jacob Lackey 2021-12-16 04:00:47+00:00 3 Too many spelling errors and grammatical mistakes on the powerpoint slides Econometrics and Statistics for Business in R & Python Anonymized User 2021-12-15 21:12:28+00:00 4 Econometrics and Statistics for Business in R & Python Hugo Roche 2021-12-15 20:28:19+00:00 5 Forecasting Models & Time Series Analysis for Business in R Harkirat Singh 2021-12-15 09:37:48+00:00 5 Econometrics and Statistics for Business in R & Python Cielocruz 2021-12-15 00:11:03+00:00 4.5 To soon to tell if it will go above any expectations I may have had. Master Python for Data Analysis and Business Analytics 2024 Shivramkrishen Maharajh 2021-12-14 21:47:18+00:00 5 Master Time Series Analysis and Forecasting with Python 2024 Edward Chia 2021-12-14 17:57:43+00:00 5 XGBoost for Business: Machine Learning Course in Python & R Ranvirsinh Patil 2021-12-14 06:16:44+00:00 4 Master Time Series Analysis and Forecasting with Python 2024 Mehdi Rhouzlane 2021-12-13 22:21:41+00:00 4.5 Master Time Series Analysis and Forecasting with Python 2024 Anand Sureshkumar 2021-12-12 13:50:33+00:00 5 XGBoost for Business: Machine Learning Course in'"
      ]
     },
     "execution_count": 25,
     "metadata": {},
     "output_type": "execute_result"
    }
   ],
   "source": [
    "# inspecionando o docs_faiss\n",
    "docs_faiss[0][0].page_content"
   ]
  },
  {
   "cell_type": "code",
   "execution_count": 22,
   "id": "d43320a5-471a-4d97-81f0-dc82e1c4ec61",
   "metadata": {},
   "outputs": [
    {
     "data": {
      "text/plain": [
       "\"2021-12-20 08:30:29+00:00 5 Master Time Series Analysis and Forecasting with Python 2024 Leo TiÅ¡ljariÄ‡ 2021-12-18 16:56:12+00:00 5 Master Time Series Analysis and Forecasting with Python 2024 Nikhitha 2021-12-18 10:51:14+00:00 4.5 Econometrics and Statistics for Business in R & Python Konstantinos Tsiamasiotis 2021-12-18 04:59:38+00:00 5 Econometrics and Statistics for Business in R & Python Angeliki Kafritsa 2021-12-17 08:37:51+00:00 5 Econometrics and Statistics for Business in R & Python Rosie Liu 2021-12-16 22:21:46+00:00 4 Econometrics and Statistics for Business in R & Python Renuka Gusain 2021-12-16 11:10:09+00:00 4.5 Master Time Series Analysis and Forecasting with Python 2024 Yhasreen Abrahim 2021-12-16 10:33:42+00:00 3 content too simple and basic time series XGBoost for Business: Machine Learning Course in Python & R Jacob Lackey 2021-12-16 04:00:47+00:00 3 Too many spelling errors and grammatical mistakes on the powerpoint slides Econometrics and Statistics for Business in R & Python Anonymized User 2021-12-15 21:12:28+00:00 4 Econometrics and Statistics for Business in R & Python Hugo Roche 2021-12-15 20:28:19+00:00 5 Forecasting Models & Time Series Analysis for Business in R Harkirat Singh 2021-12-15 09:37:48+00:00 5 Econometrics and Statistics for Business in R & Python Cielocruz 2021-12-15 00:11:03+00:00 4.5 To soon to tell if it will go above any expectations I may have had. Master Python for Data Analysis and Business Analytics 2024 Shivramkrishen Maharajh 2021-12-14 21:47:18+00:00 5 Master Time Series Analysis and Forecasting with Python 2024 Edward Chia 2021-12-14 17:57:43+00:00 5 XGBoost for Business: Machine Learning Course in Python & R Ranvirsinh Patil 2021-12-14 06:16:44+00:00 4 Master Time Series Analysis and Forecasting with Python 2024 Mehdi Rhouzlane 2021-12-13 22:21:41+00:00 4.5 Master Time Series Analysis and Forecasting with Python 2024 Anand Sureshkumar 2021-12-12 13:50:33+00:00 5 XGBoost for Business: Machine Learning Course in\\n\\n08:21:22+00:00 3 Master Time Series Analysis and Forecasting with Python 2024 Namita Menon 2022-01-20 04:55:45+00:00 3.5 Master Time Series Analysis and Forecasting with Python 2024 Sourishmoy Samanta 2022-01-18 19:57:07+00:00 5 Excellent Course. Wonderful delivery and course content! One suggestion and feedback to Diogo -> It would be immensely helpful if you can include a LSTM RNN (like DeepAR) based section. Econometrics and Statistics for Business in R & Python Adarsh Balan 2022-01-18 16:25:07+00:00 5 Forecasting Models & Time Series Analysis for Business in R Matthew Luckey 2022-01-16 22:12:38+00:00 5 I really enjoy how you take us through the help menu, and understand where to look to build our scripts. Also you go back through previous chunks of code to refresh what we have already done. Excellent course so far. Forecasting Models & Time Series Analysis for Business in R Anonymized User 2022-01-16 15:59:08+00:00 4 Forecasting Models & Time Series Analysis for Business in R Bramandika 2022-01-16 12:22:27+00:00 5 Forecasting Models & Time Series Analysis for Business in R Alisha S 2022-01-16 07:15:52+00:00 3.5 Econometrics and Statistics for Business in R & Python Advik Keshary 2022-01-13 17:28:43+00:00 5 Econometrics and Statistics for Business in R & Python Anonymized User 2022-01-12 01:21:01+00:00 3 Forecasting Models & Time Series Analysis for Business in R JÃ¶rn Harbers 2022-01-11 15:40:33+00:00 3.5 Econometrics and Statistics for Business in R & Python Nikita Khomrach 2022-01-11 09:29:52+00:00 5 Data Mining for Business Analytics & Data Analysis in Python MD umar farooque 2022-01-07 17:38:56+00:00 5 Data Mining for Business Analytics & Data Analysis in Python Ruan 2022-01-07 12:35:49+00:00 5 Forecasting Models & Time Series Analysis for Business in R Abdalrhman Mohammed Bormah 2022-01-07 05:13:08+00:00 5 Great content, quick response instructor, well explained materials Econometrics and Statistics for Business in R & Python Ruben Ruiz 2022-01-07\\n\\nUser 2022-06-21 20:02:37+00:00 5 Econometrics and Statistics for Business in R & Python Anonymized User 2022-06-21 18:08:29+00:00 5 Data Mining for Business Analytics & Data Analysis in Python Kiran Godbole 2022-06-21 14:53:24+00:00 5 THANKS YOU SIR, THIS COURSE REALLY HELP ME A LOT. Econometrics and Statistics for Business in R & Python Brian Turaki 2022-06-20 19:56:07+00:00 5 Master Time Series Analysis and Forecasting with Python 2024 Anish H S 2022-06-20 04:33:44+00:00 3.5 Forecasting Models & Time Series Analysis for Business in R Anonymized User 2022-06-19 20:48:45+00:00 3.5 Master Time Series Analysis and Forecasting with Python 2024 Arthur Gonsales 2022-06-19 20:33:59+00:00 5 This course is amazing, it made a lot of things clear to me in the regard of time series modeling. It goes from the very basic algorithms to the most advanced models with a perfect explanation and a perfect balance between theory and practice. :) Econometrics and Statistics for Business in R & Python Yean Yik Yong 2022-06-19 17:06:50+00:00 4 Master Time Series Analysis and Forecasting with Python 2024 Udit Gupta 2022-06-19 00:50:58+00:00 3 Forecasting Models & Time Series Analysis for Business in R Hasan 2022-06-18 19:47:21+00:00 5 Econometrics and Statistics for Business in R & Python ç™½è€•ç«¹ 2022-06-17 07:06:58+00:00 4 Econometrics and Statistics for Business in R & Python Alberto Andolfatto 2022-06-15 21:05:20+00:00 4.5 Forecasting Models & Time Series Analysis for Business in R Michael Nisan 2022-06-15 18:49:44+00:00 5 Master Time Series Analysis and Forecasting with Python 2024 Rajesh Gaddipati 2022-06-15 07:23:25+00:00 5 Master Time Series Analysis and Forecasting with Python 2024 Milagros RodrÃ\\xadguez SaÃ¡ 2022-06-14 19:33:50+00:00 4.5 Forecasting Models & Time Series Analysis for Business in R Tian Ming Zhao 2022-06-14 09:47:52+00:00 5 Econometrics and Statistics for Business in R & Python Bhakti Lad 2022-06-14 09:17:47+00:00 5 Econometrics and Statistics for Business in R &\\n\\nProblem Solving & Critical Thinking Hemanth Jonnadula 2023-11-11 14:45:35+00:00 4.5 Business Data Analytics & Intelligence with Python Daniel MariÃ±o 2023-11-10 19:30:20+00:00 5 Master Time Series Analysis and Forecasting with Python 2024 Ruhail Ahmad 2023-11-10 16:59:43+00:00 4.5 Data Literacy and Business Analytics for Business Leaders Artemis Lentziou 2023-11-10 14:51:25+00:00 5 Decision Making with Problem Solving & Critical Thinking Rashika Ghodki 2023-11-10 09:55:49+00:00 3.5 Decision Making with Problem Solving & Critical Thinking Guljar Ahmed Shaik 2023-11-10 09:18:43+00:00 5 Its worth taking the course Decision Making with Problem Solving & Critical Thinking Shaik Nusrath Naaz 2023-11-10 04:33:06+00:00 3.5 Master Time Series Analysis and Forecasting with Python 2024 Enrique Campbell 2023-11-09 16:41:51+00:00 5 Decision Making with Problem Solving & Critical Thinking Veena Sreeramadas 2023-11-09 07:43:06+00:00 4 Decision Making with Problem Solving & Critical Thinking 2023-11-09 07:19:36+00:00 3 Good Decision Making with Problem Solving & Critical Thinking Anonymized User 2023-11-09 07:15:16+00:00 4.5 Data Mining for Business Analytics & Data Analysis in Python Khushboo Shukla 2023-11-09 06:48:51+00:00 5 Decision Making with Problem Solving & Critical Thinking Kiran Kumar Potnuru 2023-11-09 06:43:25+00:00 4.5 good Decision Making with Problem Solving & Critical Thinking Saloni Behera 2023-11-09 06:14:01+00:00 4.5 Decision Making with Problem Solving & Critical Thinking M Dafa Rosa Putra Maulana 2023-11-09 04:32:21+00:00 4.5 Business Data Analytics & Intelligence with Python LoÃ¯c Legros 2023-11-08 17:02:11+00:00 1 Not a good course :\\\\n1- some python code are not up to date and doesn't work.\\\\n2- the course doesn't add any value compare to the simple reading of either wikipedia article or documentation of python module used. Considered this course as a audio version of those.\\\\n3- instructor doesn't really know python and code could easily be improved\\\\n4-\\n\\n4 Forecasting Models & Time Series Analysis for Business in R Terence Choo Boon Leong 2021-09-26 08:28:21+00:00 5 Am over half way through and have seen enough to give it 5 stars. I have some knowledge of R, have completed some simple ML projects with Caret and was looking at an introduction to Time Series Forecasting.\\\\n\\\\nThis course is pegged at the right level and (contrary to some other reviewers), I like the code template approach very much for 2 reasons - resusability of code for future and reinforcement of concepts, with a standard framework used. Look forward to completing the course shortly! Data Mining for Business Analytics & Data Analysis in Python Lim Zhe Xuan 2021-09-25 08:41:04+00:00 4.5 Master Time Series Analysis and Forecasting with Python 2024 Terrence White 2021-09-21 17:56:10+00:00 5 Master Time Series Analysis and Forecasting with Python 2024 Shashi Singh 2021-09-17 16:54:49+00:00 4 Forecasting Models & Time Series Analysis for Business in R Geji Anne Thomas (15434) 2021-09-15 14:59:42+00:00 4 Master Time Series Analysis and Forecasting with Python 2024 Ana Chaves 2021-09-15 10:38:36+00:00 5 Econometrics and Statistics for Business in R & Python Suhas Patil 2021-09-14 21:09:42+00:00 4 Econometrics and Statistics for Business in R & Python Benjamin Alfonso Ramos Islas 2021-09-14 01:11:19+00:00 3.5 I really like the explanations, only that I would like explanations a little bit more dynamic, but I think it's not so important. Econometrics and Statistics for Business in R & Python Lucas Rodrigues Amaral 2021-09-13 21:24:44+00:00 5 Master Time Series Analysis and Forecasting with Python 2024 Mohamed Ali Mahmoud Khodeir 2021-09-13 17:24:43+00:00 5 Forecasting Models & Time Series Analysis for Business in R Alanoud Allohidan 2021-09-12 07:53:11+00:00 5 Master Time Series Analysis and Forecasting with Python 2024 TamÃ¡s Farkas 2021-09-11 19:41:24+00:00 3 Econometrics and Statistics for Business in R & Python Sumsum 2021-09-10 07:30:08+00:00 5 Master\""
      ]
     },
     "execution_count": 22,
     "metadata": {},
     "output_type": "execute_result"
    }
   ],
   "source": [
    "context_text = \"\\n\\n\".join([doc.page_content for doc, _score in docs_faiss])\n",
    "context_text"
   ]
  },
  {
   "cell_type": "code",
   "execution_count": 26,
   "id": "b9f93c68-5781-4133-bdb0-56e9576f0296",
   "metadata": {},
   "outputs": [],
   "source": [
    "# Criando um prompt simples para o RAG System\n",
    "prompt = f\"\"\"\n",
    "based on this context {context_text}\n",
    "please answer this question {query}\n",
    "if you don't know the answer just say you don't know.\n",
    "\"\"\""
   ]
  },
  {
   "cell_type": "code",
   "execution_count": 31,
   "id": "bcd56292-d963-4018-844e-eb6c419a1962",
   "metadata": {},
   "outputs": [],
   "source": [
    "# Chamando a OpenAI API com langchain\n",
    "model = ChatOpenAI(\n",
    "    openai_api_key=openai_api_key,\n",
    "    model=\"gpt-4o-mini\",\n",
    "    temperature=0\n",
    ")\n",
    "response_text = model.invoke(prompt)"
   ]
  },
  {
   "cell_type": "code",
   "execution_count": 32,
   "id": "ed71251d-4f5c-47e6-95e1-bd3a7d93f0c1",
   "metadata": {},
   "outputs": [
    {
     "data": {
      "text/markdown": [
       "Based on the provided context, here are the worst reviews:\n",
       "\n",
       "1. **Loïc Legros (2023-11-08)**: Rating: 1\n",
       "   - Comments: \"Not a good course :\\n1- some python code are not up to date and doesn't work.\\n2- the course doesn't add any value compare to the simple reading of either wikipedia article or documentation of python module used. Considered this course as a audio version of those.\\n3- instructor doesn't really know python and code could easily be improved.\"\n",
       "\n",
       "2. **Anonymized User (2021-12-16)**: Rating: 3\n",
       "   - Comments: \"content too simple and basic time series.\"\n",
       "\n",
       "3. **Anonymized User (2021-12-16)**: Rating: 3\n",
       "   - Comments: \"Too many spelling errors and grammatical mistakes on the powerpoint slides.\"\n",
       "\n",
       "4. **Udit Gupta (2022-06-19)**: Rating: 3\n",
       "   - Comments: \"Forecasting Models & Time Series Analysis for Business in R.\"\n",
       "\n",
       "5. **Advik Keshary (2022-01-16)**: Rating: 3.5\n",
       "   - Comments: \"Econometrics and Statistics for Business in R & Python.\"\n",
       "\n",
       "These reviews reflect lower ratings and negative feedback regarding course content, quality, and instructor effectiveness."
      ],
      "text/plain": [
       "<IPython.core.display.Markdown object>"
      ]
     },
     "metadata": {},
     "output_type": "display_data"
    }
   ],
   "source": [
    "# Exibindo resultados\n",
    "display(Markdown(response_text.content))"
   ]
  },
  {
   "cell_type": "code",
   "execution_count": 33,
   "id": "ff291388-a94a-4001-8bf5-44bd4ec8ec23",
   "metadata": {},
   "outputs": [],
   "source": [
    "# Preparando os dados não-estruturados\n",
    "def prepare_excel(file_path):\n",
    "    # Carregando os dados\n",
    "    loader = UnstructuredExcelLoader(file_path, mode=\"elements\")\n",
    "    docs = loader.load()\n",
    "    \n",
    "    # Divindo o texto em chunks\n",
    "    text_splitter = RecursiveCharacterTextSplitter(\n",
    "        chunk_size=2000,\n",
    "        chunk_overlap=200\n",
    "    )\n",
    "    chunks = text_splitter.split_documents(docs)\n",
    "    \n",
    "    # Preparando os embeddings\n",
    "    embeddings = OpenAIEmbeddings(\n",
    "        openai_api_key=openai_api_key,\n",
    "        model=\"text-embedding-3-large\"\n",
    "    )\n",
    "\n",
    "    # FAISS Index\n",
    "    db_faiss = FAISS.from_documents(chunks, embeddings)\n",
    "\n",
    "    return db_faiss"
   ]
  },
  {
   "cell_type": "code",
   "execution_count": 35,
   "id": "3f25911a-3aed-44ed-84d3-f988ad7e779e",
   "metadata": {},
   "outputs": [],
   "source": [
    "# Preparar a função retrieve e generate (RAG)\n",
    "def ask(db, query, k):\n",
    "    # Pegando o contexto\n",
    "    docs_faiss = db.similarity_search_with_score(query, k=k)\n",
    "    context_text = \"\\n\\n\".join([doc.page_content for doc, _score in docs_faiss])\n",
    "\n",
    "    # Definindo o prompt\n",
    "    prompt = f\"\"\"\n",
    "    based on this context {context_text}\n",
    "    please answer this question {query}\n",
    "    if you don't know the answer just say you don't know.\n",
    "    \"\"\"\n",
    "    \n",
    "    # Chamando a LLM\n",
    "    model = ChatOpenAI(\n",
    "        openai_api_key=openai_api_key,\n",
    "        model=\"gpt-4o-mini\",\n",
    "        temperature=0\n",
    "    )\n",
    "    return model.invoke(prompt)"
   ]
  },
  {
   "cell_type": "code",
   "execution_count": 37,
   "id": "19eade60-0e66-4035-bee4-e4ac4e119ecb",
   "metadata": {},
   "outputs": [],
   "source": [
    "# Preparar os dados excel\n",
    "db_excel = prepare_excel(excel_path)"
   ]
  },
  {
   "cell_type": "code",
   "execution_count": 38,
   "id": "e91dd6ec-1dc8-4cce-97a9-4a531b3f9595",
   "metadata": {},
   "outputs": [],
   "source": [
    "# Definir query\n",
    "query = \"\"\"\n",
    "Analyse the reviews, choose the ones with the worst comments, and transcribe them\n",
    "\"\"\""
   ]
  },
  {
   "cell_type": "code",
   "execution_count": 40,
   "id": "fc887bd1-fe75-4eeb-94fd-0697e47f78a3",
   "metadata": {},
   "outputs": [],
   "source": [
    "# Perguntar\n",
    "response = ask(db_excel, query, 5)"
   ]
  },
  {
   "cell_type": "code",
   "execution_count": 42,
   "id": "c7c03ab1-11af-43f6-9e4e-e0e7fdf0ea44",
   "metadata": {},
   "outputs": [
    {
     "data": {
      "text/markdown": [
       "Based on the provided context, here are the reviews with the worst comments transcribed:\n",
       "\n",
       "1. **Loïc Legros** (2023-11-08 17:02:11+00:00) - Rating: 1\n",
       "   - \"Not a good course :\\n1- some python code are not up to date and doesn't work.\\n2- the course doesn't add any value compare to the simple reading of either wikipedia article or documentation of python module used. Considered this course as a audio version of those.\\n3- instructor doesn't really know python and code could easily be improved.\"\n",
       "\n",
       "2. **Anish** (2023-05-20 16:11:20+00:00) - Rating: 2\n",
       "   - \"Please speak clear English, so that we can understand you courses. I am not able to understand some words while you are speaking. This is the basic things for any courses. Audience should understand what you speak.\"\n",
       "\n",
       "3. **Yestantis Dobson** (2024-03-12 18:34:04+00:00) - Rating: 2\n",
       "   - \"I think it needs to provide opportunities to practice using the formula.\"\n",
       "\n",
       "4. **Kalagana Venkata Rao** (2023-06-18 11:20:37+00:00) - Rating: 2.5\n",
       "   - No specific comment provided, but the rating indicates dissatisfaction.\n",
       "\n",
       "These reviews highlight significant issues with course content, instructor clarity, and overall value."
      ],
      "text/plain": [
       "<IPython.core.display.Markdown object>"
      ]
     },
     "metadata": {},
     "output_type": "display_data"
    }
   ],
   "source": [
    "# Mostrar resposta\n",
    "display(Markdown(response.content))"
   ]
  },
  {
   "cell_type": "code",
   "execution_count": null,
   "id": "d051254f-71a6-4ed7-9bf7-2ab29ceb67cd",
   "metadata": {},
   "outputs": [],
   "source": []
  }
 ],
 "metadata": {
  "kernelspec": {
   "display_name": "Python 3 (ipykernel)",
   "language": "python",
   "name": "python3"
  },
  "language_info": {
   "codemirror_mode": {
    "name": "ipython",
    "version": 3
   },
   "file_extension": ".py",
   "mimetype": "text/x-python",
   "name": "python",
   "nbconvert_exporter": "python",
   "pygments_lexer": "ipython3",
   "version": "3.13.5"
  }
 },
 "nbformat": 4,
 "nbformat_minor": 5
}
