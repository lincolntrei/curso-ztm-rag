{
 "cells": [
  {
   "cell_type": "markdown",
   "id": "56fa74ea-3974-41e9-b95e-669df72fbb3f",
   "metadata": {},
   "source": [
    "# Langchain"
   ]
  },
  {
   "cell_type": "markdown",
   "id": "98ef6562-f88b-43c7-bbf5-75fa32826c81",
   "metadata": {},
   "source": [
    "### Instalação"
   ]
  },
  {
   "cell_type": "markdown",
   "id": "a659301d-3b36-4793-9f9f-3a856eeca45e",
   "metadata": {},
   "source": [
    "!pip install langchain"
   ]
  },
  {
   "cell_type": "markdown",
   "id": "c7df344c-61d2-4ab3-9663-0d8715526b4e",
   "metadata": {},
   "source": [
    "!pip install langchain_community"
   ]
  },
  {
   "cell_type": "markdown",
   "id": "6f7b11b2-b1b2-4446-88bb-889426b43fa2",
   "metadata": {},
   "source": [
    "!pip install -U langchain-openai"
   ]
  },
  {
   "cell_type": "markdown",
   "id": "b2477ef2-b20e-43f6-9a02-6c7d0fe0413b",
   "metadata": {},
   "source": [
    "!pip install openai"
   ]
  },
  {
   "cell_type": "code",
   "execution_count": 7,
   "id": "b9fa05c0-9e43-4a45-8d18-1c92961359f3",
   "metadata": {},
   "outputs": [],
   "source": [
    "import os\n",
    "from dotenv import load_dotenv\n",
    "from langchain_openai import ChatOpenAI, OpenAI"
   ]
  },
  {
   "cell_type": "code",
   "execution_count": 2,
   "id": "5fbddf31-08a0-4f60-b50b-ea9a591b642a",
   "metadata": {},
   "outputs": [
    {
     "data": {
      "text/plain": [
       "True"
      ]
     },
     "execution_count": 2,
     "metadata": {},
     "output_type": "execute_result"
    }
   ],
   "source": [
    "load_dotenv()"
   ]
  },
  {
   "cell_type": "code",
   "execution_count": 3,
   "id": "815905d3-8b26-4603-9368-49b97e86b6e0",
   "metadata": {},
   "outputs": [],
   "source": [
    "llm = ChatOpenAI(model=\"gpt-4o\", temperature=0.5)\n",
    "\n",
    "texto = \"Quem nasceu em 1938 tem quantos anos hoje em dia?\"\n",
    "\n",
    "response = llm.invoke(texto)"
   ]
  },
  {
   "cell_type": "code",
   "execution_count": 4,
   "id": "13921aac-861b-4388-af28-5f39950837ef",
   "metadata": {},
   "outputs": [
    {
     "name": "stdout",
     "output_type": "stream",
     "text": [
      "Se alguém nasceu em 1938, em 2023 essa pessoa completaria 85 anos, assumindo que já tenha passado o aniversário dela neste ano. Caso o aniversário ainda não tenha ocorrido, essa pessoa teria 84 anos.\n"
     ]
    }
   ],
   "source": [
    "print(response.content)"
   ]
  },
  {
   "cell_type": "markdown",
   "id": "8356fc30-ee03-4da0-8bdd-4e643ab013d3",
   "metadata": {},
   "source": [
    "!pip install wikipedia"
   ]
  },
  {
   "cell_type": "code",
   "execution_count": 5,
   "id": "c22c80e3-66bb-48b2-8667-433ece4d8e55",
   "metadata": {},
   "outputs": [],
   "source": [
    "from langchain.agents import load_tools, initialize_agent"
   ]
  },
  {
   "cell_type": "code",
   "execution_count": 12,
   "id": "85e78460-2441-4080-88cf-3a103ac1b087",
   "metadata": {},
   "outputs": [],
   "source": [
    "llm = OpenAI(temperature=1)\n",
    "tools = load_tools([\"wikipedia\"], llm=llm) # dentro da lista pode haver várias tools"
   ]
  },
  {
   "cell_type": "code",
   "execution_count": 14,
   "id": "3578d972-9e87-4649-9366-97b7a02fd34f",
   "metadata": {},
   "outputs": [],
   "source": [
    "agent = initialize_agent(tools, llm, agent=\"zero-shot-react-description\", verbose=True)"
   ]
  },
  {
   "cell_type": "code",
   "execution_count": 16,
   "id": "ffa0ecef-68b8-4745-afe3-42a50c56a4cf",
   "metadata": {},
   "outputs": [
    {
     "name": "stdout",
     "output_type": "stream",
     "text": [
      "\n",
      "\n",
      "\u001b[1m> Entering new AgentExecutor chain...\u001b[0m\n",
      "\u001b[32;1m\u001b[1;3m Eu devo, primeiro, pesquisar se existem artigos específicos sobre Sorocaba no wikipedia\n",
      "Action: wikipedia\n",
      "Action Input: Sorocaba\u001b[0m\n",
      "Observation: \u001b[36;1m\u001b[1;3mPage: Sorocaba\n",
      "Summary: Sorocaba (Portuguese pronunciation: [soɾoˈkabɐ]) is a municipality in the interior of the state of São Paulo, Brazil. With over 723,000 inhabitants, it is the seventh-largest city in the state and the second-largest outside the Greater São Paulo region, ranking behind only Campinas. It forms its own Metropolitan Region of Sorocaba, comprising 27 municipalities with a total population of 2 million inhabitants, the 15th most populous in Brazil.\n",
      "With a surface area of 450,38 km² (or about 170 sq mi), Sorocaba is integrated with Greater São Paulo and the Metropolitan Regions of Campinas, Jundiaí, Paraíba Valley and North Coast and Baixada Santista, forming the São Paulo macrometropolis, which is home to over 30 million people, about three quarters of the state's population and the first such urban agglomeration in the Southern Hemisphere.\n",
      "The city is highly industrialized, with its industrial production reaching over 120 countries and a GDP of over R$ 32 billion, the 19th-largest in Brazil, surpassing state capitals such as São Luís, Belém, Vitória, Natal, and Florianópolis. Over 22,000 companies operate in the city, 2,000 of which are industries.\n",
      "\n",
      "Page: Faculdade de Engenharia de Sorocaba\n",
      "Summary: Faculdade de Engenharia de Sorocaba (FACENS)\n",
      "The Sorocaba Engineering School (FACENS) is the first higher education institution of the sector founded in Sorocaba. Maintained by the Sorocaba Cultural Association for Technological Renovation (ACRTS), it is considered to be a nonprofit and philanthropic Federal Organization certified by the National Welfare Council. Subsequently, it offers numerous grants to students who have socio-economic needs. The organization also invests all of its profits in the College, making FACENS an educational center that is growing constantly.\n",
      "It currently offers eight courses: Civil, Electrical, Mechanical, Computer, Mechatronics, Chemistry, Production Engineering and Technology in Digital Gaming, as well as graduate courses and specializations.\n",
      "Its level of education is recognized throughout the job market, generating extremely high percentages of graduate employability (average of 94% over the past eight years).\n",
      "FACENS has outstanding professional and academic faculty as well as a great infrastructure, supported by well-equipped and technologically advanced labs.\n",
      "These are decisive factors for the recognition of the educational programs the College develops, and, more specifically, for the quality of professionals who graduate here.\n",
      "Address\n",
      "Rodovia Senador José Ermírio de Moraes, 1425,  Castelinho km 1,5 - Alto da Boa Vista - SOROCABA/SP - CEP 18087-125\n",
      "\n",
      "Page: 2025 Copa América de Futsal Femenina\n",
      "Summary: The 2025 Copa América de Futsal Femenina was the 9th edition of the Copa América de Futsal Femenina, the international futsal championship organised by CONMEBOL for the women's national teams of South America. The tournament took place in Sorocaba, São Paulo, Brazil from March 22 to 30, 2025.\n",
      "This edition marked the tournament's debut as the CONMEBOL qualifiers for the FIFA Women's Futsal World Cup. The top three teams qualified for the 2025 FIFA Futsal Women's World Cup in the Philippines as CONMEBOL representatives.\n",
      "Brazil were three-time defending champions, having won the last three editions. and they successfully defended their title, overcoming Argentina in their third straight final to secure their eighth title.\u001b[0m\n",
      "\u001b[32;1m\u001b[1;3m A sorceress está traduzindo, efetivamente, o título?\n",
      "Action: wikipedia\n",
      "Action Input: 2025 Copa América de Futsal Femenina\u001b[0m\n",
      "Observation: \u001b[36;1m\u001b[1;3mPage: 2025 Copa América de Futsal Femenina\n",
      "Summary: The 2025 Copa América de Futsal Femenina was the 9th edition of the Copa América de Futsal Femenina, the international futsal championship organised by CONMEBOL for the women's national teams of South America. The tournament took place in Sorocaba, São Paulo, Brazil from March 22 to 30, 2025.\n",
      "This edition marked the tournament's debut as the CONMEBOL qualifiers for the FIFA Women's Futsal World Cup. The top three teams qualified for the 2025 FIFA Futsal Women's World Cup in the Philippines as CONMEBOL representatives.\n",
      "Brazil were three-time defending champions, having won the last three editions. and they successfully defended their title, overcoming Argentina in their third straight final to secure their eighth title.\n",
      "\n",
      "Page: Copa América Femenina\n",
      "Summary: The Copa América Femenina (Copa América Feminina in Portuguese), previously the Campeonato Sudamericano de Fútbol Femenino (Campeonato Sul-Americano de Futebol Feminino), usually shortened to Sudamericano Femenino (Sul-Americano Feminino), is the main competition in women's association football for national teams that are affiliated with CONMEBOL. It is the women's version of the Copa América.\n",
      "It was first held in 1991. In the first two editions of the tournament, only one team (the champions) qualified for the FIFA Women's World Cup. In the third edition, the champions qualified automatically, while the runners-up faced a team from the CONCACAF region in a play-off match to earn a spot in the World Cup. In the fourth to sixth editions, two automatic spots were given to the top two teams for the 2003 to 2011 World Cups respectively. The seventh and eighth had the top two and the play-off winners qualify for the 2015 and 2019 World Cups. The ninth edition, the last one to serve as a World Cup qualification, gave automatic slots for the 2023 World Cup to the top three.\n",
      "In December 2020, CONMEBOL announced the tournament would be held every two years instead of every four years, actually starting with 2025, three years after 2022. The confederation introduced a separate South American qualifier for the Women's World Cup in December 2024. Hence, the Copa America Fémenina from 2025 will serve as the path to women's football at the Pan American Games and as the CONMEBOL women's pre-Olympic tournament.\n",
      "There are also Under-20 and Under-17 versions of this tournament.\n",
      "\n",
      "\n",
      "\n",
      "Page: Copa América de Futsal Femenina\n",
      "Summary: The Copa América de Futsal Femenina, officially known as the CONMEBOL Copa América Futsal Femenina, is the premier women's national futsal tournament for member nations of CONMEBOL. The competition was first held in 2005 under the name Sudamericano Femenino de Futsal, a title it retained through the 2011 edition. Beginning in 2025, the tournament also serves as the CONMEBOL qualifying tournament for the FIFA Futsal Women's World Cup.\u001b[0m\n",
      "\u001b[32;1m\u001b[1;3m Então, a partir de 2025, será necessário vencer a Copa América de Futsal Femenina para representar a CONMEBOL na Copa do Mundo de Futsal Feminino?\n",
      "Action: wikipedia\n",
      "Action Input: Copa América de Futsal Femenina\u001b[0m\n",
      "Observation: \u001b[36;1m\u001b[1;3mPage: Copa América de Futsal Femenina\n",
      "Summary: The Copa América de Futsal Femenina, officially known as the CONMEBOL Copa América Futsal Femenina, is the premier women's national futsal tournament for member nations of CONMEBOL. The competition was first held in 2005 under the name Sudamericano Femenino de Futsal, a title it retained through the 2011 edition. Beginning in 2025, the tournament also serves as the CONMEBOL qualifying tournament for the FIFA Futsal Women's World Cup.\n",
      "\n",
      "Page: 2025 Copa América de Futsal Femenina\n",
      "Summary: The 2025 Copa América de Futsal Femenina was the 9th edition of the Copa América de Futsal Femenina, the international futsal championship organised by CONMEBOL for the women's national teams of South America. The tournament took place in Sorocaba, São Paulo, Brazil from March 22 to 30, 2025.\n",
      "This edition marked the tournament's debut as the CONMEBOL qualifiers for the FIFA Women's Futsal World Cup. The top three teams qualified for the 2025 FIFA Futsal Women's World Cup in the Philippines as CONMEBOL representatives.\n",
      "Brazil were three-time defending champions, having won the last three editions. and they successfully defended their title, overcoming Argentina in their third straight final to secure their eighth title.\n",
      "\n",
      "Page: Copa América de Futsal\n",
      "Summary: The CONMEBOL Copa América de Futsal is the main national futsal competition of the CONMEBOL nations. It was first held in 1964 and was organized by the Confederación Sudamericana de Fútbol de Salón (CSFS) and the Asociación Mundial de Futsal (AMF) as \"Sudamericano de Futsal\". The tournament was also a qualifier for the AMF Futsal World Cup. The CFS and AMF organised the championship until 1989.\n",
      "In 1992, Conmebol organized its first South American in Aracaju under the name \"Campeonato Conmebol de Futsal (FIFA)\". In that tournament only 4 national teams participated (Brazil, Argentina, Paraguay and Ecuador) and it was used as a World Cup qualifier as well than the tournaments of 1996 and 2000 that were called with the same name.\n",
      "The other tournaments played between 1995 and 1999 were played in Brazil and were called \"Taça América de Futsal FIFA\". The dominance was always of the local team although those tournaments were only competitive without prior classification to any contest.\n",
      "As of the 2003 edition, it began to be called the \"Copa América de Futsal\", and the venue of the tournament began to rotate, just as it is done with the traditional Copa América. The first two editions were World Cup qualifying, but Conmebol created the South American Futsal Qualifiers in 2012, which were repeated in 2016 and 2020. Starting in 2024, the Copa América was used again to determine qualification for the FIFA Futsal World Cup.\u001b[0m\n",
      "\u001b[32;1m\u001b[1;3m Se a primeira Copa América de Futsal Femenina foi realizada em 2005, isso significa que as mulheres não participaram do torneio antes desse ano?\n",
      "Action: wikipedia\n",
      "Action Input: Copa América de Futsal\u001b[0m\n",
      "Observation: \u001b[36;1m\u001b[1;3mPage: Copa América de Futsal\n",
      "Summary: The CONMEBOL Copa América de Futsal is the main national futsal competition of the CONMEBOL nations. It was first held in 1964 and was organized by the Confederación Sudamericana de Fútbol de Salón (CSFS) and the Asociación Mundial de Futsal (AMF) as \"Sudamericano de Futsal\". The tournament was also a qualifier for the AMF Futsal World Cup. The CFS and AMF organised the championship until 1989.\n",
      "In 1992, Conmebol organized its first South American in Aracaju under the name \"Campeonato Conmebol de Futsal (FIFA)\". In that tournament only 4 national teams participated (Brazil, Argentina, Paraguay and Ecuador) and it was used as a World Cup qualifier as well than the tournaments of 1996 and 2000 that were called with the same name.\n",
      "The other tournaments played between 1995 and 1999 were played in Brazil and were called \"Taça América de Futsal FIFA\". The dominance was always of the local team although those tournaments were only competitive without prior classification to any contest.\n",
      "As of the 2003 edition, it began to be called the \"Copa América de Futsal\", and the venue of the tournament began to rotate, just as it is done with the traditional Copa América. The first two editions were World Cup qualifying, but Conmebol created the South American Futsal Qualifiers in 2012, which were repeated in 2016 and 2020. Starting in 2024, the Copa América was used again to determine qualification for the FIFA Futsal World Cup.\n",
      "\n",
      "Page: 2025 Copa América de Futsal Femenina\n",
      "Summary: The 2025 Copa América de Futsal Femenina was the 9th edition of the Copa América de Futsal Femenina, the international futsal championship organised by CONMEBOL for the women's national teams of South America. The tournament took place in Sorocaba, São Paulo, Brazil from March 22 to 30, 2025.\n",
      "This edition marked the tournament's debut as the CONMEBOL qualifiers for the FIFA Women's Futsal World Cup. The top three teams qualified for the 2025 FIFA Futsal Women's World Cup in the Philippines as CONMEBOL representatives.\n",
      "Brazil were three-time defending champions, having won the last three editions. and they successfully defended their title, overcoming Argentina in their third straight final to secure their eighth title.\n",
      "\n",
      "Page: Copa América Femenina\n",
      "Summary: The Copa América Femenina (Copa América Feminina in Portuguese), previously the Campeonato Sudamericano de Fútbol Femenino (Campeonato Sul-Americano de Futebol Feminino), usually shortened to Sudamericano Femenino (Sul-Americano Feminino), is the main competition in women's association football for national teams that are affiliated with CONMEBOL. It is the women's version of the Copa América.\n",
      "It was first held in 1991. In the first two editions of the tournament, only one team (the champions) qualified for the FIFA Women's World Cup. In the third edition, the champions qualified automatically, while the runners-up faced a team from the CONCACAF region in a play-off match to earn a spot in the World Cup. In the fourth to sixth editions, two automatic spots were given to the top two teams for the 2003 to 2011 World Cups respectively. The seventh and eighth had the top two and the play-off winners qualify for the 2015 and 2019 World Cups. The ninth edition, the last one to serve as a World Cup qualification, gave automatic slots for the 2023 World Cup to the top three.\n",
      "In December 2020, CONMEBOL announced the tournament would be held every two years instead of every four years, actually starting with 2025, three years after 2022. The confederation introduced a separate South American qualifier for the Women's World Cup in December 2024. Hence, the Copa America Fémenina from 2025 will serve as the path to women's football at the Pan American Games and as the CONMEBOL women's pre-Olympic tournament.\n",
      "There are also Under-20 and Under-17 versions of this tournament.\n",
      "\n",
      "\u001b[0m\n",
      "\u001b[32;1m\u001b[1;3m Então, a Copa América Femenina também é usada como qualificatória para a Copa do Mundo Feminina?\n",
      "Action: wikipedia\n",
      "Action Input: Copa América Femenina\u001b[0m\n",
      "Observation: \u001b[36;1m\u001b[1;3mPage: Copa América Femenina\n",
      "Summary: The Copa América Femenina (Copa América Feminina in Portuguese), previously the Campeonato Sudamericano de Fútbol Femenino (Campeonato Sul-Americano de Futebol Feminino), usually shortened to Sudamericano Femenino (Sul-Americano Feminino), is the main competition in women's association football for national teams that are affiliated with CONMEBOL. It is the women's version of the Copa América.\n",
      "It was first held in 1991. In the first two editions of the tournament, only one team (the champions) qualified for the FIFA Women's World Cup. In the third edition, the champions qualified automatically, while the runners-up faced a team from the CONCACAF region in a play-off match to earn a spot in the World Cup. In the fourth to sixth editions, two automatic spots were given to the top two teams for the 2003 to 2011 World Cups respectively. The seventh and eighth had the top two and the play-off winners qualify for the 2015 and 2019 World Cups. The ninth edition, the last one to serve as a World Cup qualification, gave automatic slots for the 2023 World Cup to the top three.\n",
      "In December 2020, CONMEBOL announced the tournament would be held every two years instead of every four years, actually starting with 2025, three years after 2022. The confederation introduced a separate South American qualifier for the Women's World Cup in December 2024. Hence, the Copa America Fémenina from 2025 will serve as the path to women's football at the Pan American Games and as the CONMEBOL women's pre-Olympic tournament.\n",
      "There are also Under-20 and Under-17 versions of this tournament.\n",
      "\n",
      "\n",
      "\n",
      "Page: 2025 Copa América Femenina\n",
      "Summary: The 2025 Copa América Femenina was the 10th edition of the main international women's football championship in South America, the Copa América Femenina, for national teams affiliated with CONMEBOL. The competition was held in Ecuador from 11 July to 2 August 2025. The tournament was originally scheduled to begin on 12 July 2025, but CONMEBOL announced on 3 July 2025 that the first match would be played on 11 July 2025.\n",
      "In the final, Brazil defeated Colombia in a penalty shoot-out after a 4–4 draw in extra time to win their fifth consecutive and ninth overall title.\n",
      "Unlike all previous editions, the tournament did not act as South American qualification for the 2027 FIFA Women's World Cup with a separate qualifying tournament being organised instead. However, it did provide two slots for the 2028 Summer Olympics women's football tournament. In addition to Peru (who qualified automatically as hosts) it also provided three more places for the 2027 Pan American Games tournament.\n",
      "\n",
      "\n",
      "\n",
      "Page: 2022 Copa América Femenina\n",
      "Summary: The 2022 Copa América Femenina was the 9th edition of the main international women's football championship in South America, the Copa América Femenina, for national teams affiliated with CONMEBOL. The competition was held in Colombia from 8 to 30 July 2022.\n",
      "The tournament acted as South American qualification for the 2023 FIFA Women's World Cup in Australia and New Zealand, providing three direct qualifying places and two play-off places for the Women's World Cup, and three more places for the 2023 Pan American Games women's football tournament in Chile (in addition to Chile who qualified automatically as hosts). \n",
      "In addition, the two finalists qualified for the women's football tournament at the 2024 Summer Olympics in France. The top four teams also qualified for the 2024 CONCACAF W Gold Cup in the United States. After this edition, the tournament would be held every two years instead of four in odd-number years, no longer a Women's World Cup qualifier anymore, and serve as a path to women's football at the Pan American Games and the Summer Olympics.\n",
      "Brazil, the three-time defending champions, defeated Colombia 1–0 in the final to win their 8th title. As winners, they competed in the inaugural 2023 Women's Finalissima against England, winners of UEFA Women's Euro 2022.\u001b[0m\n",
      "Thought:"
     ]
    },
    {
     "ename": "BadRequestError",
     "evalue": "Error code: 400 - {'error': {'message': \"This model's maximum context length is 4097 tokens, however you requested 4639 tokens (4383 in your prompt; 256 for the completion). Please reduce your prompt; or completion length.\", 'type': 'invalid_request_error', 'param': None, 'code': None}}",
     "output_type": "error",
     "traceback": [
      "\u001b[31m---------------------------------------------------------------------------\u001b[39m",
      "\u001b[31mBadRequestError\u001b[39m                           Traceback (most recent call last)",
      "\u001b[36mCell\u001b[39m\u001b[36m \u001b[39m\u001b[32mIn[16]\u001b[39m\u001b[32m, line 1\u001b[39m\n\u001b[32m----> \u001b[39m\u001b[32m1\u001b[39m agent.invoke(\u001b[33m\"\u001b[39m\u001b[33mExiste alguma wikipedia sobre a cidade de Sorocaba?\u001b[39m\u001b[33m\"\u001b[39m)\n",
      "\u001b[36mFile \u001b[39m\u001b[32m~/Codigos/Projetos/envs/ztm-rag/lib/python3.13/site-packages/langchain/chains/base.py:165\u001b[39m, in \u001b[36mChain.invoke\u001b[39m\u001b[34m(self, input, config, **kwargs)\u001b[39m\n\u001b[32m    162\u001b[39m \u001b[38;5;28;01mtry\u001b[39;00m:\n\u001b[32m    163\u001b[39m     \u001b[38;5;28mself\u001b[39m._validate_inputs(inputs)\n\u001b[32m    164\u001b[39m     outputs = (\n\u001b[32m--> \u001b[39m\u001b[32m165\u001b[39m         \u001b[38;5;28mself\u001b[39m._call(inputs, run_manager=run_manager)\n\u001b[32m    166\u001b[39m         \u001b[38;5;28;01mif\u001b[39;00m new_arg_supported\n\u001b[32m    167\u001b[39m         \u001b[38;5;28;01melse\u001b[39;00m \u001b[38;5;28mself\u001b[39m._call(inputs)\n\u001b[32m    168\u001b[39m     )\n\u001b[32m    170\u001b[39m     final_outputs: \u001b[38;5;28mdict\u001b[39m[\u001b[38;5;28mstr\u001b[39m, Any] = \u001b[38;5;28mself\u001b[39m.prep_outputs(\n\u001b[32m    171\u001b[39m         inputs,\n\u001b[32m    172\u001b[39m         outputs,\n\u001b[32m    173\u001b[39m         return_only_outputs,\n\u001b[32m    174\u001b[39m     )\n\u001b[32m    175\u001b[39m \u001b[38;5;28;01mexcept\u001b[39;00m \u001b[38;5;167;01mBaseException\u001b[39;00m \u001b[38;5;28;01mas\u001b[39;00m e:\n",
      "\u001b[36mFile \u001b[39m\u001b[32m~/Codigos/Projetos/envs/ztm-rag/lib/python3.13/site-packages/langchain/agents/agent.py:1625\u001b[39m, in \u001b[36mAgentExecutor._call\u001b[39m\u001b[34m(self, inputs, run_manager)\u001b[39m\n\u001b[32m   1623\u001b[39m \u001b[38;5;66;03m# We now enter the agent loop (until it returns something).\u001b[39;00m\n\u001b[32m   1624\u001b[39m \u001b[38;5;28;01mwhile\u001b[39;00m \u001b[38;5;28mself\u001b[39m._should_continue(iterations, time_elapsed):\n\u001b[32m-> \u001b[39m\u001b[32m1625\u001b[39m     next_step_output = \u001b[38;5;28mself\u001b[39m._take_next_step(\n\u001b[32m   1626\u001b[39m         name_to_tool_map,\n\u001b[32m   1627\u001b[39m         color_mapping,\n\u001b[32m   1628\u001b[39m         inputs,\n\u001b[32m   1629\u001b[39m         intermediate_steps,\n\u001b[32m   1630\u001b[39m         run_manager=run_manager,\n\u001b[32m   1631\u001b[39m     )\n\u001b[32m   1632\u001b[39m     \u001b[38;5;28;01mif\u001b[39;00m \u001b[38;5;28misinstance\u001b[39m(next_step_output, AgentFinish):\n\u001b[32m   1633\u001b[39m         \u001b[38;5;28;01mreturn\u001b[39;00m \u001b[38;5;28mself\u001b[39m._return(\n\u001b[32m   1634\u001b[39m             next_step_output,\n\u001b[32m   1635\u001b[39m             intermediate_steps,\n\u001b[32m   1636\u001b[39m             run_manager=run_manager,\n\u001b[32m   1637\u001b[39m         )\n",
      "\u001b[36mFile \u001b[39m\u001b[32m~/Codigos/Projetos/envs/ztm-rag/lib/python3.13/site-packages/langchain/agents/agent.py:1325\u001b[39m, in \u001b[36mAgentExecutor._take_next_step\u001b[39m\u001b[34m(self, name_to_tool_map, color_mapping, inputs, intermediate_steps, run_manager)\u001b[39m\n\u001b[32m   1316\u001b[39m \u001b[38;5;28;01mdef\u001b[39;00m\u001b[38;5;250m \u001b[39m\u001b[34m_take_next_step\u001b[39m(\n\u001b[32m   1317\u001b[39m     \u001b[38;5;28mself\u001b[39m,\n\u001b[32m   1318\u001b[39m     name_to_tool_map: \u001b[38;5;28mdict\u001b[39m[\u001b[38;5;28mstr\u001b[39m, BaseTool],\n\u001b[32m   (...)\u001b[39m\u001b[32m   1322\u001b[39m     run_manager: Optional[CallbackManagerForChainRun] = \u001b[38;5;28;01mNone\u001b[39;00m,\n\u001b[32m   1323\u001b[39m ) -> Union[AgentFinish, \u001b[38;5;28mlist\u001b[39m[\u001b[38;5;28mtuple\u001b[39m[AgentAction, \u001b[38;5;28mstr\u001b[39m]]]:\n\u001b[32m   1324\u001b[39m     \u001b[38;5;28;01mreturn\u001b[39;00m \u001b[38;5;28mself\u001b[39m._consume_next_step(\n\u001b[32m-> \u001b[39m\u001b[32m1325\u001b[39m         \u001b[38;5;28mlist\u001b[39m(\n\u001b[32m   1326\u001b[39m             \u001b[38;5;28mself\u001b[39m._iter_next_step(\n\u001b[32m   1327\u001b[39m                 name_to_tool_map,\n\u001b[32m   1328\u001b[39m                 color_mapping,\n\u001b[32m   1329\u001b[39m                 inputs,\n\u001b[32m   1330\u001b[39m                 intermediate_steps,\n\u001b[32m   1331\u001b[39m                 run_manager,\n\u001b[32m   1332\u001b[39m             ),\n\u001b[32m   1333\u001b[39m         ),\n\u001b[32m   1334\u001b[39m     )\n",
      "\u001b[36mFile \u001b[39m\u001b[32m~/Codigos/Projetos/envs/ztm-rag/lib/python3.13/site-packages/langchain/agents/agent.py:1352\u001b[39m, in \u001b[36mAgentExecutor._iter_next_step\u001b[39m\u001b[34m(self, name_to_tool_map, color_mapping, inputs, intermediate_steps, run_manager)\u001b[39m\n\u001b[32m   1349\u001b[39m     intermediate_steps = \u001b[38;5;28mself\u001b[39m._prepare_intermediate_steps(intermediate_steps)\n\u001b[32m   1351\u001b[39m     \u001b[38;5;66;03m# Call the LLM to see what to do.\u001b[39;00m\n\u001b[32m-> \u001b[39m\u001b[32m1352\u001b[39m     output = \u001b[38;5;28mself\u001b[39m._action_agent.plan(\n\u001b[32m   1353\u001b[39m         intermediate_steps,\n\u001b[32m   1354\u001b[39m         callbacks=run_manager.get_child() \u001b[38;5;28;01mif\u001b[39;00m run_manager \u001b[38;5;28;01melse\u001b[39;00m \u001b[38;5;28;01mNone\u001b[39;00m,\n\u001b[32m   1355\u001b[39m         **inputs,\n\u001b[32m   1356\u001b[39m     )\n\u001b[32m   1357\u001b[39m \u001b[38;5;28;01mexcept\u001b[39;00m OutputParserException \u001b[38;5;28;01mas\u001b[39;00m e:\n\u001b[32m   1358\u001b[39m     \u001b[38;5;28;01mif\u001b[39;00m \u001b[38;5;28misinstance\u001b[39m(\u001b[38;5;28mself\u001b[39m.handle_parsing_errors, \u001b[38;5;28mbool\u001b[39m):\n",
      "\u001b[36mFile \u001b[39m\u001b[32m~/Codigos/Projetos/envs/ztm-rag/lib/python3.13/site-packages/langchain/agents/agent.py:800\u001b[39m, in \u001b[36mAgent.plan\u001b[39m\u001b[34m(self, intermediate_steps, callbacks, **kwargs)\u001b[39m\n\u001b[32m    788\u001b[39m \u001b[38;5;250m\u001b[39m\u001b[33;03m\"\"\"Given input, decided what to do.\u001b[39;00m\n\u001b[32m    789\u001b[39m \n\u001b[32m    790\u001b[39m \u001b[33;03mArgs:\u001b[39;00m\n\u001b[32m   (...)\u001b[39m\u001b[32m    797\u001b[39m \u001b[33;03m    Action specifying what tool to use.\u001b[39;00m\n\u001b[32m    798\u001b[39m \u001b[33;03m\"\"\"\u001b[39;00m\n\u001b[32m    799\u001b[39m full_inputs = \u001b[38;5;28mself\u001b[39m.get_full_inputs(intermediate_steps, **kwargs)\n\u001b[32m--> \u001b[39m\u001b[32m800\u001b[39m full_output = \u001b[38;5;28mself\u001b[39m.llm_chain.predict(callbacks=callbacks, **full_inputs)\n\u001b[32m    801\u001b[39m \u001b[38;5;28;01mreturn\u001b[39;00m \u001b[38;5;28mself\u001b[39m.output_parser.parse(full_output)\n",
      "\u001b[36mFile \u001b[39m\u001b[32m~/Codigos/Projetos/envs/ztm-rag/lib/python3.13/site-packages/langchain/chains/llm.py:325\u001b[39m, in \u001b[36mLLMChain.predict\u001b[39m\u001b[34m(self, callbacks, **kwargs)\u001b[39m\n\u001b[32m    310\u001b[39m \u001b[38;5;28;01mdef\u001b[39;00m\u001b[38;5;250m \u001b[39m\u001b[34mpredict\u001b[39m(\u001b[38;5;28mself\u001b[39m, callbacks: Callbacks = \u001b[38;5;28;01mNone\u001b[39;00m, **kwargs: Any) -> \u001b[38;5;28mstr\u001b[39m:\n\u001b[32m    311\u001b[39m \u001b[38;5;250m    \u001b[39m\u001b[33;03m\"\"\"Format prompt with kwargs and pass to LLM.\u001b[39;00m\n\u001b[32m    312\u001b[39m \n\u001b[32m    313\u001b[39m \u001b[33;03m    Args:\u001b[39;00m\n\u001b[32m   (...)\u001b[39m\u001b[32m    323\u001b[39m \u001b[33;03m            completion = llm.predict(adjective=\"funny\")\u001b[39;00m\n\u001b[32m    324\u001b[39m \u001b[33;03m    \"\"\"\u001b[39;00m\n\u001b[32m--> \u001b[39m\u001b[32m325\u001b[39m     \u001b[38;5;28;01mreturn\u001b[39;00m \u001b[38;5;28mself\u001b[39m(kwargs, callbacks=callbacks)[\u001b[38;5;28mself\u001b[39m.output_key]\n",
      "\u001b[36mFile \u001b[39m\u001b[32m~/Codigos/Projetos/envs/ztm-rag/lib/python3.13/site-packages/langchain_core/_api/deprecation.py:189\u001b[39m, in \u001b[36mdeprecated.<locals>.deprecate.<locals>.warning_emitting_wrapper\u001b[39m\u001b[34m(*args, **kwargs)\u001b[39m\n\u001b[32m    187\u001b[39m     warned = \u001b[38;5;28;01mTrue\u001b[39;00m\n\u001b[32m    188\u001b[39m     emit_warning()\n\u001b[32m--> \u001b[39m\u001b[32m189\u001b[39m \u001b[38;5;28;01mreturn\u001b[39;00m wrapped(*args, **kwargs)\n",
      "\u001b[36mFile \u001b[39m\u001b[32m~/Codigos/Projetos/envs/ztm-rag/lib/python3.13/site-packages/langchain/chains/base.py:410\u001b[39m, in \u001b[36mChain.__call__\u001b[39m\u001b[34m(self, inputs, return_only_outputs, callbacks, tags, metadata, run_name, include_run_info)\u001b[39m\n\u001b[32m    378\u001b[39m \u001b[38;5;250m\u001b[39m\u001b[33;03m\"\"\"Execute the chain.\u001b[39;00m\n\u001b[32m    379\u001b[39m \n\u001b[32m    380\u001b[39m \u001b[33;03mArgs:\u001b[39;00m\n\u001b[32m   (...)\u001b[39m\u001b[32m    401\u001b[39m \u001b[33;03m        `Chain.output_keys`.\u001b[39;00m\n\u001b[32m    402\u001b[39m \u001b[33;03m\"\"\"\u001b[39;00m\n\u001b[32m    403\u001b[39m config = {\n\u001b[32m    404\u001b[39m     \u001b[33m\"\u001b[39m\u001b[33mcallbacks\u001b[39m\u001b[33m\"\u001b[39m: callbacks,\n\u001b[32m    405\u001b[39m     \u001b[33m\"\u001b[39m\u001b[33mtags\u001b[39m\u001b[33m\"\u001b[39m: tags,\n\u001b[32m    406\u001b[39m     \u001b[33m\"\u001b[39m\u001b[33mmetadata\u001b[39m\u001b[33m\"\u001b[39m: metadata,\n\u001b[32m    407\u001b[39m     \u001b[33m\"\u001b[39m\u001b[33mrun_name\u001b[39m\u001b[33m\"\u001b[39m: run_name,\n\u001b[32m    408\u001b[39m }\n\u001b[32m--> \u001b[39m\u001b[32m410\u001b[39m \u001b[38;5;28;01mreturn\u001b[39;00m \u001b[38;5;28mself\u001b[39m.invoke(\n\u001b[32m    411\u001b[39m     inputs,\n\u001b[32m    412\u001b[39m     cast(RunnableConfig, {k: v \u001b[38;5;28;01mfor\u001b[39;00m k, v \u001b[38;5;129;01min\u001b[39;00m config.items() \u001b[38;5;28;01mif\u001b[39;00m v \u001b[38;5;129;01mis\u001b[39;00m \u001b[38;5;129;01mnot\u001b[39;00m \u001b[38;5;28;01mNone\u001b[39;00m}),\n\u001b[32m    413\u001b[39m     return_only_outputs=return_only_outputs,\n\u001b[32m    414\u001b[39m     include_run_info=include_run_info,\n\u001b[32m    415\u001b[39m )\n",
      "\u001b[36mFile \u001b[39m\u001b[32m~/Codigos/Projetos/envs/ztm-rag/lib/python3.13/site-packages/langchain/chains/base.py:165\u001b[39m, in \u001b[36mChain.invoke\u001b[39m\u001b[34m(self, input, config, **kwargs)\u001b[39m\n\u001b[32m    162\u001b[39m \u001b[38;5;28;01mtry\u001b[39;00m:\n\u001b[32m    163\u001b[39m     \u001b[38;5;28mself\u001b[39m._validate_inputs(inputs)\n\u001b[32m    164\u001b[39m     outputs = (\n\u001b[32m--> \u001b[39m\u001b[32m165\u001b[39m         \u001b[38;5;28mself\u001b[39m._call(inputs, run_manager=run_manager)\n\u001b[32m    166\u001b[39m         \u001b[38;5;28;01mif\u001b[39;00m new_arg_supported\n\u001b[32m    167\u001b[39m         \u001b[38;5;28;01melse\u001b[39;00m \u001b[38;5;28mself\u001b[39m._call(inputs)\n\u001b[32m    168\u001b[39m     )\n\u001b[32m    170\u001b[39m     final_outputs: \u001b[38;5;28mdict\u001b[39m[\u001b[38;5;28mstr\u001b[39m, Any] = \u001b[38;5;28mself\u001b[39m.prep_outputs(\n\u001b[32m    171\u001b[39m         inputs,\n\u001b[32m    172\u001b[39m         outputs,\n\u001b[32m    173\u001b[39m         return_only_outputs,\n\u001b[32m    174\u001b[39m     )\n\u001b[32m    175\u001b[39m \u001b[38;5;28;01mexcept\u001b[39;00m \u001b[38;5;167;01mBaseException\u001b[39;00m \u001b[38;5;28;01mas\u001b[39;00m e:\n",
      "\u001b[36mFile \u001b[39m\u001b[32m~/Codigos/Projetos/envs/ztm-rag/lib/python3.13/site-packages/langchain/chains/llm.py:127\u001b[39m, in \u001b[36mLLMChain._call\u001b[39m\u001b[34m(self, inputs, run_manager)\u001b[39m\n\u001b[32m    122\u001b[39m \u001b[38;5;28;01mdef\u001b[39;00m\u001b[38;5;250m \u001b[39m\u001b[34m_call\u001b[39m(\n\u001b[32m    123\u001b[39m     \u001b[38;5;28mself\u001b[39m,\n\u001b[32m    124\u001b[39m     inputs: \u001b[38;5;28mdict\u001b[39m[\u001b[38;5;28mstr\u001b[39m, Any],\n\u001b[32m    125\u001b[39m     run_manager: Optional[CallbackManagerForChainRun] = \u001b[38;5;28;01mNone\u001b[39;00m,\n\u001b[32m    126\u001b[39m ) -> \u001b[38;5;28mdict\u001b[39m[\u001b[38;5;28mstr\u001b[39m, \u001b[38;5;28mstr\u001b[39m]:\n\u001b[32m--> \u001b[39m\u001b[32m127\u001b[39m     response = \u001b[38;5;28mself\u001b[39m.generate([inputs], run_manager=run_manager)\n\u001b[32m    128\u001b[39m     \u001b[38;5;28;01mreturn\u001b[39;00m \u001b[38;5;28mself\u001b[39m.create_outputs(response)[\u001b[32m0\u001b[39m]\n",
      "\u001b[36mFile \u001b[39m\u001b[32m~/Codigos/Projetos/envs/ztm-rag/lib/python3.13/site-packages/langchain/chains/llm.py:139\u001b[39m, in \u001b[36mLLMChain.generate\u001b[39m\u001b[34m(self, input_list, run_manager)\u001b[39m\n\u001b[32m    137\u001b[39m callbacks = run_manager.get_child() \u001b[38;5;28;01mif\u001b[39;00m run_manager \u001b[38;5;28;01melse\u001b[39;00m \u001b[38;5;28;01mNone\u001b[39;00m\n\u001b[32m    138\u001b[39m \u001b[38;5;28;01mif\u001b[39;00m \u001b[38;5;28misinstance\u001b[39m(\u001b[38;5;28mself\u001b[39m.llm, BaseLanguageModel):\n\u001b[32m--> \u001b[39m\u001b[32m139\u001b[39m     \u001b[38;5;28;01mreturn\u001b[39;00m \u001b[38;5;28mself\u001b[39m.llm.generate_prompt(\n\u001b[32m    140\u001b[39m         prompts,\n\u001b[32m    141\u001b[39m         stop,\n\u001b[32m    142\u001b[39m         callbacks=callbacks,\n\u001b[32m    143\u001b[39m         **\u001b[38;5;28mself\u001b[39m.llm_kwargs,\n\u001b[32m    144\u001b[39m     )\n\u001b[32m    145\u001b[39m results = \u001b[38;5;28mself\u001b[39m.llm.bind(stop=stop, **\u001b[38;5;28mself\u001b[39m.llm_kwargs).batch(\n\u001b[32m    146\u001b[39m     cast(\u001b[38;5;28mlist\u001b[39m, prompts),\n\u001b[32m    147\u001b[39m     {\u001b[33m\"\u001b[39m\u001b[33mcallbacks\u001b[39m\u001b[33m\"\u001b[39m: callbacks},\n\u001b[32m    148\u001b[39m )\n\u001b[32m    149\u001b[39m generations: \u001b[38;5;28mlist\u001b[39m[\u001b[38;5;28mlist\u001b[39m[Generation]] = []\n",
      "\u001b[36mFile \u001b[39m\u001b[32m~/Codigos/Projetos/envs/ztm-rag/lib/python3.13/site-packages/langchain_core/language_models/llms.py:766\u001b[39m, in \u001b[36mBaseLLM.generate_prompt\u001b[39m\u001b[34m(self, prompts, stop, callbacks, **kwargs)\u001b[39m\n\u001b[32m    757\u001b[39m \u001b[38;5;129m@override\u001b[39m\n\u001b[32m    758\u001b[39m \u001b[38;5;28;01mdef\u001b[39;00m\u001b[38;5;250m \u001b[39m\u001b[34mgenerate_prompt\u001b[39m(\n\u001b[32m    759\u001b[39m     \u001b[38;5;28mself\u001b[39m,\n\u001b[32m   (...)\u001b[39m\u001b[32m    763\u001b[39m     **kwargs: Any,\n\u001b[32m    764\u001b[39m ) -> LLMResult:\n\u001b[32m    765\u001b[39m     prompt_strings = [p.to_string() \u001b[38;5;28;01mfor\u001b[39;00m p \u001b[38;5;129;01min\u001b[39;00m prompts]\n\u001b[32m--> \u001b[39m\u001b[32m766\u001b[39m     \u001b[38;5;28;01mreturn\u001b[39;00m \u001b[38;5;28mself\u001b[39m.generate(prompt_strings, stop=stop, callbacks=callbacks, **kwargs)\n",
      "\u001b[36mFile \u001b[39m\u001b[32m~/Codigos/Projetos/envs/ztm-rag/lib/python3.13/site-packages/langchain_core/language_models/llms.py:971\u001b[39m, in \u001b[36mBaseLLM.generate\u001b[39m\u001b[34m(self, prompts, stop, callbacks, tags, metadata, run_name, run_id, **kwargs)\u001b[39m\n\u001b[32m    956\u001b[39m \u001b[38;5;28;01mif\u001b[39;00m (\u001b[38;5;28mself\u001b[39m.cache \u001b[38;5;129;01mis\u001b[39;00m \u001b[38;5;28;01mNone\u001b[39;00m \u001b[38;5;129;01mand\u001b[39;00m get_llm_cache() \u001b[38;5;129;01mis\u001b[39;00m \u001b[38;5;28;01mNone\u001b[39;00m) \u001b[38;5;129;01mor\u001b[39;00m \u001b[38;5;28mself\u001b[39m.cache \u001b[38;5;129;01mis\u001b[39;00m \u001b[38;5;28;01mFalse\u001b[39;00m:\n\u001b[32m    957\u001b[39m     run_managers = [\n\u001b[32m    958\u001b[39m         callback_manager.on_llm_start(\n\u001b[32m    959\u001b[39m             \u001b[38;5;28mself\u001b[39m._serialized,\n\u001b[32m   (...)\u001b[39m\u001b[32m    969\u001b[39m         )\n\u001b[32m    970\u001b[39m     ]\n\u001b[32m--> \u001b[39m\u001b[32m971\u001b[39m     \u001b[38;5;28;01mreturn\u001b[39;00m \u001b[38;5;28mself\u001b[39m._generate_helper(\n\u001b[32m    972\u001b[39m         prompts,\n\u001b[32m    973\u001b[39m         stop,\n\u001b[32m    974\u001b[39m         run_managers,\n\u001b[32m    975\u001b[39m         new_arg_supported=\u001b[38;5;28mbool\u001b[39m(new_arg_supported),\n\u001b[32m    976\u001b[39m         **kwargs,\n\u001b[32m    977\u001b[39m     )\n\u001b[32m    978\u001b[39m \u001b[38;5;28;01mif\u001b[39;00m \u001b[38;5;28mlen\u001b[39m(missing_prompts) > \u001b[32m0\u001b[39m:\n\u001b[32m    979\u001b[39m     run_managers = [\n\u001b[32m    980\u001b[39m         callback_managers[idx].on_llm_start(\n\u001b[32m    981\u001b[39m             \u001b[38;5;28mself\u001b[39m._serialized,\n\u001b[32m   (...)\u001b[39m\u001b[32m    988\u001b[39m         \u001b[38;5;28;01mfor\u001b[39;00m idx \u001b[38;5;129;01min\u001b[39;00m missing_prompt_idxs\n\u001b[32m    989\u001b[39m     ]\n",
      "\u001b[36mFile \u001b[39m\u001b[32m~/Codigos/Projetos/envs/ztm-rag/lib/python3.13/site-packages/langchain_core/language_models/llms.py:792\u001b[39m, in \u001b[36mBaseLLM._generate_helper\u001b[39m\u001b[34m(self, prompts, stop, run_managers, new_arg_supported, **kwargs)\u001b[39m\n\u001b[32m    781\u001b[39m \u001b[38;5;28;01mdef\u001b[39;00m\u001b[38;5;250m \u001b[39m\u001b[34m_generate_helper\u001b[39m(\n\u001b[32m    782\u001b[39m     \u001b[38;5;28mself\u001b[39m,\n\u001b[32m    783\u001b[39m     prompts: \u001b[38;5;28mlist\u001b[39m[\u001b[38;5;28mstr\u001b[39m],\n\u001b[32m   (...)\u001b[39m\u001b[32m    788\u001b[39m     **kwargs: Any,\n\u001b[32m    789\u001b[39m ) -> LLMResult:\n\u001b[32m    790\u001b[39m     \u001b[38;5;28;01mtry\u001b[39;00m:\n\u001b[32m    791\u001b[39m         output = (\n\u001b[32m--> \u001b[39m\u001b[32m792\u001b[39m             \u001b[38;5;28mself\u001b[39m._generate(\n\u001b[32m    793\u001b[39m                 prompts,\n\u001b[32m    794\u001b[39m                 stop=stop,\n\u001b[32m    795\u001b[39m                 \u001b[38;5;66;03m# TODO: support multiple run managers\u001b[39;00m\n\u001b[32m    796\u001b[39m                 run_manager=run_managers[\u001b[32m0\u001b[39m] \u001b[38;5;28;01mif\u001b[39;00m run_managers \u001b[38;5;28;01melse\u001b[39;00m \u001b[38;5;28;01mNone\u001b[39;00m,\n\u001b[32m    797\u001b[39m                 **kwargs,\n\u001b[32m    798\u001b[39m             )\n\u001b[32m    799\u001b[39m             \u001b[38;5;28;01mif\u001b[39;00m new_arg_supported\n\u001b[32m    800\u001b[39m             \u001b[38;5;28;01melse\u001b[39;00m \u001b[38;5;28mself\u001b[39m._generate(prompts, stop=stop)\n\u001b[32m    801\u001b[39m         )\n\u001b[32m    802\u001b[39m     \u001b[38;5;28;01mexcept\u001b[39;00m \u001b[38;5;167;01mBaseException\u001b[39;00m \u001b[38;5;28;01mas\u001b[39;00m e:\n\u001b[32m    803\u001b[39m         \u001b[38;5;28;01mfor\u001b[39;00m run_manager \u001b[38;5;129;01min\u001b[39;00m run_managers:\n",
      "\u001b[36mFile \u001b[39m\u001b[32m~/Codigos/Projetos/envs/ztm-rag/lib/python3.13/site-packages/langchain_openai/llms/base.py:332\u001b[39m, in \u001b[36mBaseOpenAI._generate\u001b[39m\u001b[34m(self, prompts, stop, run_manager, **kwargs)\u001b[39m\n\u001b[32m    316\u001b[39m     choices.append(\n\u001b[32m    317\u001b[39m         {\n\u001b[32m    318\u001b[39m             \u001b[33m\"\u001b[39m\u001b[33mtext\u001b[39m\u001b[33m\"\u001b[39m: generation.text,\n\u001b[32m   (...)\u001b[39m\u001b[32m    329\u001b[39m         }\n\u001b[32m    330\u001b[39m     )\n\u001b[32m    331\u001b[39m \u001b[38;5;28;01melse\u001b[39;00m:\n\u001b[32m--> \u001b[39m\u001b[32m332\u001b[39m     response = \u001b[38;5;28mself\u001b[39m.client.create(prompt=_prompts, **params)\n\u001b[32m    333\u001b[39m     \u001b[38;5;28;01mif\u001b[39;00m \u001b[38;5;129;01mnot\u001b[39;00m \u001b[38;5;28misinstance\u001b[39m(response, \u001b[38;5;28mdict\u001b[39m):\n\u001b[32m    334\u001b[39m         \u001b[38;5;66;03m# V1 client returns the response in an PyDantic object instead of\u001b[39;00m\n\u001b[32m    335\u001b[39m         \u001b[38;5;66;03m# dict. For the transition period, we deep convert it to dict.\u001b[39;00m\n\u001b[32m    336\u001b[39m         response = response.model_dump()\n",
      "\u001b[36mFile \u001b[39m\u001b[32m~/Codigos/Projetos/envs/ztm-rag/lib/python3.13/site-packages/openai/_utils/_utils.py:287\u001b[39m, in \u001b[36mrequired_args.<locals>.inner.<locals>.wrapper\u001b[39m\u001b[34m(*args, **kwargs)\u001b[39m\n\u001b[32m    285\u001b[39m             msg = \u001b[33mf\u001b[39m\u001b[33m\"\u001b[39m\u001b[33mMissing required argument: \u001b[39m\u001b[38;5;132;01m{\u001b[39;00mquote(missing[\u001b[32m0\u001b[39m])\u001b[38;5;132;01m}\u001b[39;00m\u001b[33m\"\u001b[39m\n\u001b[32m    286\u001b[39m     \u001b[38;5;28;01mraise\u001b[39;00m \u001b[38;5;167;01mTypeError\u001b[39;00m(msg)\n\u001b[32m--> \u001b[39m\u001b[32m287\u001b[39m \u001b[38;5;28;01mreturn\u001b[39;00m func(*args, **kwargs)\n",
      "\u001b[36mFile \u001b[39m\u001b[32m~/Codigos/Projetos/envs/ztm-rag/lib/python3.13/site-packages/openai/resources/completions.py:541\u001b[39m, in \u001b[36mCompletions.create\u001b[39m\u001b[34m(self, model, prompt, best_of, echo, frequency_penalty, logit_bias, logprobs, max_tokens, n, presence_penalty, seed, stop, stream, stream_options, suffix, temperature, top_p, user, extra_headers, extra_query, extra_body, timeout)\u001b[39m\n\u001b[32m    512\u001b[39m \u001b[38;5;129m@required_args\u001b[39m([\u001b[33m\"\u001b[39m\u001b[33mmodel\u001b[39m\u001b[33m\"\u001b[39m, \u001b[33m\"\u001b[39m\u001b[33mprompt\u001b[39m\u001b[33m\"\u001b[39m], [\u001b[33m\"\u001b[39m\u001b[33mmodel\u001b[39m\u001b[33m\"\u001b[39m, \u001b[33m\"\u001b[39m\u001b[33mprompt\u001b[39m\u001b[33m\"\u001b[39m, \u001b[33m\"\u001b[39m\u001b[33mstream\u001b[39m\u001b[33m\"\u001b[39m])\n\u001b[32m    513\u001b[39m \u001b[38;5;28;01mdef\u001b[39;00m\u001b[38;5;250m \u001b[39m\u001b[34mcreate\u001b[39m(\n\u001b[32m    514\u001b[39m     \u001b[38;5;28mself\u001b[39m,\n\u001b[32m   (...)\u001b[39m\u001b[32m    539\u001b[39m     timeout: \u001b[38;5;28mfloat\u001b[39m | httpx.Timeout | \u001b[38;5;28;01mNone\u001b[39;00m | NotGiven = NOT_GIVEN,\n\u001b[32m    540\u001b[39m ) -> Completion | Stream[Completion]:\n\u001b[32m--> \u001b[39m\u001b[32m541\u001b[39m     \u001b[38;5;28;01mreturn\u001b[39;00m \u001b[38;5;28mself\u001b[39m._post(\n\u001b[32m    542\u001b[39m         \u001b[33m\"\u001b[39m\u001b[33m/completions\u001b[39m\u001b[33m\"\u001b[39m,\n\u001b[32m    543\u001b[39m         body=maybe_transform(\n\u001b[32m    544\u001b[39m             {\n\u001b[32m    545\u001b[39m                 \u001b[33m\"\u001b[39m\u001b[33mmodel\u001b[39m\u001b[33m\"\u001b[39m: model,\n\u001b[32m    546\u001b[39m                 \u001b[33m\"\u001b[39m\u001b[33mprompt\u001b[39m\u001b[33m\"\u001b[39m: prompt,\n\u001b[32m    547\u001b[39m                 \u001b[33m\"\u001b[39m\u001b[33mbest_of\u001b[39m\u001b[33m\"\u001b[39m: best_of,\n\u001b[32m    548\u001b[39m                 \u001b[33m\"\u001b[39m\u001b[33mecho\u001b[39m\u001b[33m\"\u001b[39m: echo,\n\u001b[32m    549\u001b[39m                 \u001b[33m\"\u001b[39m\u001b[33mfrequency_penalty\u001b[39m\u001b[33m\"\u001b[39m: frequency_penalty,\n\u001b[32m    550\u001b[39m                 \u001b[33m\"\u001b[39m\u001b[33mlogit_bias\u001b[39m\u001b[33m\"\u001b[39m: logit_bias,\n\u001b[32m    551\u001b[39m                 \u001b[33m\"\u001b[39m\u001b[33mlogprobs\u001b[39m\u001b[33m\"\u001b[39m: logprobs,\n\u001b[32m    552\u001b[39m                 \u001b[33m\"\u001b[39m\u001b[33mmax_tokens\u001b[39m\u001b[33m\"\u001b[39m: max_tokens,\n\u001b[32m    553\u001b[39m                 \u001b[33m\"\u001b[39m\u001b[33mn\u001b[39m\u001b[33m\"\u001b[39m: n,\n\u001b[32m    554\u001b[39m                 \u001b[33m\"\u001b[39m\u001b[33mpresence_penalty\u001b[39m\u001b[33m\"\u001b[39m: presence_penalty,\n\u001b[32m    555\u001b[39m                 \u001b[33m\"\u001b[39m\u001b[33mseed\u001b[39m\u001b[33m\"\u001b[39m: seed,\n\u001b[32m    556\u001b[39m                 \u001b[33m\"\u001b[39m\u001b[33mstop\u001b[39m\u001b[33m\"\u001b[39m: stop,\n\u001b[32m    557\u001b[39m                 \u001b[33m\"\u001b[39m\u001b[33mstream\u001b[39m\u001b[33m\"\u001b[39m: stream,\n\u001b[32m    558\u001b[39m                 \u001b[33m\"\u001b[39m\u001b[33mstream_options\u001b[39m\u001b[33m\"\u001b[39m: stream_options,\n\u001b[32m    559\u001b[39m                 \u001b[33m\"\u001b[39m\u001b[33msuffix\u001b[39m\u001b[33m\"\u001b[39m: suffix,\n\u001b[32m    560\u001b[39m                 \u001b[33m\"\u001b[39m\u001b[33mtemperature\u001b[39m\u001b[33m\"\u001b[39m: temperature,\n\u001b[32m    561\u001b[39m                 \u001b[33m\"\u001b[39m\u001b[33mtop_p\u001b[39m\u001b[33m\"\u001b[39m: top_p,\n\u001b[32m    562\u001b[39m                 \u001b[33m\"\u001b[39m\u001b[33muser\u001b[39m\u001b[33m\"\u001b[39m: user,\n\u001b[32m    563\u001b[39m             },\n\u001b[32m    564\u001b[39m             completion_create_params.CompletionCreateParamsStreaming\n\u001b[32m    565\u001b[39m             \u001b[38;5;28;01mif\u001b[39;00m stream\n\u001b[32m    566\u001b[39m             \u001b[38;5;28;01melse\u001b[39;00m completion_create_params.CompletionCreateParamsNonStreaming,\n\u001b[32m    567\u001b[39m         ),\n\u001b[32m    568\u001b[39m         options=make_request_options(\n\u001b[32m    569\u001b[39m             extra_headers=extra_headers, extra_query=extra_query, extra_body=extra_body, timeout=timeout\n\u001b[32m    570\u001b[39m         ),\n\u001b[32m    571\u001b[39m         cast_to=Completion,\n\u001b[32m    572\u001b[39m         stream=stream \u001b[38;5;129;01mor\u001b[39;00m \u001b[38;5;28;01mFalse\u001b[39;00m,\n\u001b[32m    573\u001b[39m         stream_cls=Stream[Completion],\n\u001b[32m    574\u001b[39m     )\n",
      "\u001b[36mFile \u001b[39m\u001b[32m~/Codigos/Projetos/envs/ztm-rag/lib/python3.13/site-packages/openai/_base_client.py:1249\u001b[39m, in \u001b[36mSyncAPIClient.post\u001b[39m\u001b[34m(self, path, cast_to, body, options, files, stream, stream_cls)\u001b[39m\n\u001b[32m   1235\u001b[39m \u001b[38;5;28;01mdef\u001b[39;00m\u001b[38;5;250m \u001b[39m\u001b[34mpost\u001b[39m(\n\u001b[32m   1236\u001b[39m     \u001b[38;5;28mself\u001b[39m,\n\u001b[32m   1237\u001b[39m     path: \u001b[38;5;28mstr\u001b[39m,\n\u001b[32m   (...)\u001b[39m\u001b[32m   1244\u001b[39m     stream_cls: \u001b[38;5;28mtype\u001b[39m[_StreamT] | \u001b[38;5;28;01mNone\u001b[39;00m = \u001b[38;5;28;01mNone\u001b[39;00m,\n\u001b[32m   1245\u001b[39m ) -> ResponseT | _StreamT:\n\u001b[32m   1246\u001b[39m     opts = FinalRequestOptions.construct(\n\u001b[32m   1247\u001b[39m         method=\u001b[33m\"\u001b[39m\u001b[33mpost\u001b[39m\u001b[33m\"\u001b[39m, url=path, json_data=body, files=to_httpx_files(files), **options\n\u001b[32m   1248\u001b[39m     )\n\u001b[32m-> \u001b[39m\u001b[32m1249\u001b[39m     \u001b[38;5;28;01mreturn\u001b[39;00m cast(ResponseT, \u001b[38;5;28mself\u001b[39m.request(cast_to, opts, stream=stream, stream_cls=stream_cls))\n",
      "\u001b[36mFile \u001b[39m\u001b[32m~/Codigos/Projetos/envs/ztm-rag/lib/python3.13/site-packages/openai/_base_client.py:1037\u001b[39m, in \u001b[36mSyncAPIClient.request\u001b[39m\u001b[34m(self, cast_to, options, stream, stream_cls)\u001b[39m\n\u001b[32m   1034\u001b[39m             err.response.read()\n\u001b[32m   1036\u001b[39m         log.debug(\u001b[33m\"\u001b[39m\u001b[33mRe-raising status error\u001b[39m\u001b[33m\"\u001b[39m)\n\u001b[32m-> \u001b[39m\u001b[32m1037\u001b[39m         \u001b[38;5;28;01mraise\u001b[39;00m \u001b[38;5;28mself\u001b[39m._make_status_error_from_response(err.response) \u001b[38;5;28;01mfrom\u001b[39;00m\u001b[38;5;250m \u001b[39m\u001b[38;5;28;01mNone\u001b[39;00m\n\u001b[32m   1039\u001b[39m     \u001b[38;5;28;01mbreak\u001b[39;00m\n\u001b[32m   1041\u001b[39m \u001b[38;5;28;01massert\u001b[39;00m response \u001b[38;5;129;01mis\u001b[39;00m \u001b[38;5;129;01mnot\u001b[39;00m \u001b[38;5;28;01mNone\u001b[39;00m, \u001b[33m\"\u001b[39m\u001b[33mcould not resolve response (should never happen)\u001b[39m\u001b[33m\"\u001b[39m\n",
      "\u001b[31mBadRequestError\u001b[39m: Error code: 400 - {'error': {'message': \"This model's maximum context length is 4097 tokens, however you requested 4639 tokens (4383 in your prompt; 256 for the completion). Please reduce your prompt; or completion length.\", 'type': 'invalid_request_error', 'param': None, 'code': None}}"
     ]
    }
   ],
   "source": [
    "agent.invoke(\"Existe alguma wikipedia sobre a cidade de Sorocaba?\")"
   ]
  },
  {
   "cell_type": "code",
   "execution_count": null,
   "id": "da9e6237-0945-4826-875c-29991fa42552",
   "metadata": {},
   "outputs": [],
   "source": []
  }
 ],
 "metadata": {
  "kernelspec": {
   "display_name": "Python 3 (ipykernel)",
   "language": "python",
   "name": "python3"
  },
  "language_info": {
   "codemirror_mode": {
    "name": "ipython",
    "version": 3
   },
   "file_extension": ".py",
   "mimetype": "text/x-python",
   "name": "python",
   "nbconvert_exporter": "python",
   "pygments_lexer": "ipython3",
   "version": "3.13.5"
  }
 },
 "nbformat": 4,
 "nbformat_minor": 5
}
