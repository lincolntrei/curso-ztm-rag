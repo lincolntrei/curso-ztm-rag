{
 "cells": [
  {
   "cell_type": "code",
   "execution_count": 1,
   "id": "d5eae502-2047-4632-ad23-f1d8e1871dd8",
   "metadata": {},
   "outputs": [],
   "source": [
    "import spacy"
   ]
  },
  {
   "cell_type": "code",
   "execution_count": 2,
   "id": "e4638fa1-f7a1-4538-9938-ce6dcdd5317d",
   "metadata": {},
   "outputs": [],
   "source": [
    "nlp = spacy.load('pt_core_news_sm')"
   ]
  },
  {
   "cell_type": "code",
   "execution_count": 3,
   "id": "e1ac97b7-ad48-4622-b9c8-715617d21180",
   "metadata": {},
   "outputs": [],
   "source": [
    "# Função de pré-processamento: lowercase, alfanumérico e sem stopwords\n",
    "def preprocessamento(entrada):\n",
    "    doc = nlp(entrada.lower())\n",
    "    tokens = [\n",
    "        token.text for token in doc\n",
    "        if token.is_alpha and not token.is_stop\n",
    "    ]\n",
    "    return tokens"
   ]
  },
  {
   "cell_type": "code",
   "execution_count": 4,
   "id": "92762693-a7a0-498c-8439-7cdc14e63f18",
   "metadata": {},
   "outputs": [],
   "source": [
    "documentos = [\n",
    "    \"Na primeira vez, ele pegou um martelo e bateu bem forte!\",\n",
    "    \"Na segunda vez, ele pegou uma marreta e bateu não tão forte.\",\n",
    "    \"Na terceira e ultima vez, ele pegou um machado e conseguiu quebrar a madeira.\"\n",
    "]"
   ]
  },
  {
   "cell_type": "code",
   "execution_count": 5,
   "id": "a2296b67-463a-4f2d-9c13-89842350c646",
   "metadata": {},
   "outputs": [
    {
     "name": "stdout",
     "output_type": "stream",
     "text": [
      "['pegou martelo bateu forte', 'pegou marreta bateu forte', 'ultima pegou machado conseguiu quebrar madeira']\n"
     ]
    }
   ],
   "source": [
    "preprocessed_docs = [' '.join(preprocessamento(doc)) for doc in documentos]\n",
    "print(preprocessed_docs)"
   ]
  },
  {
   "cell_type": "code",
   "execution_count": null,
   "id": "a804482e-aab7-49d6-85f8-49b64caac52a",
   "metadata": {},
   "outputs": [],
   "source": []
  }
 ],
 "metadata": {
  "kernelspec": {
   "display_name": "Python 3 (ipykernel)",
   "language": "python",
   "name": "python3"
  },
  "language_info": {
   "codemirror_mode": {
    "name": "ipython",
    "version": 3
   },
   "file_extension": ".py",
   "mimetype": "text/x-python",
   "name": "python",
   "nbconvert_exporter": "python",
   "pygments_lexer": "ipython3",
   "version": "3.13.5"
  }
 },
 "nbformat": 4,
 "nbformat_minor": 5
}
