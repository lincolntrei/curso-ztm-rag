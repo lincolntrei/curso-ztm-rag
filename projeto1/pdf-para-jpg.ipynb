{
 "cells": [
  {
   "cell_type": "markdown",
   "id": "75153acd-fb40-4c72-be71-4c6e7083de86",
   "metadata": {},
   "source": [
    "# PDF para imagens\n",
    "Esse código visa converter pdf para imagens jpg."
   ]
  },
  {
   "cell_type": "markdown",
   "id": "6ea2f7fc-534f-48ab-96c4-e34c9332d996",
   "metadata": {},
   "source": [
    "!pip install pdf2image"
   ]
  },
  {
   "cell_type": "code",
   "execution_count": 1,
   "id": "49f0c83f-8537-4e7b-9016-6ce5d7ba39db",
   "metadata": {},
   "outputs": [],
   "source": [
    "from pdf2image import convert_from_path\n",
    "import os, glob"
   ]
  },
  {
   "cell_type": "code",
   "execution_count": 2,
   "id": "501ec834-2287-4f95-bfdc-43f53782bbd9",
   "metadata": {},
   "outputs": [],
   "source": [
    "def get_pdf(caminho_pdf):\n",
    "    padrao = os.path.join(caminho_pdf, \"*.pdf\")\n",
    "    return glob.glob(padrao)"
   ]
  },
  {
   "cell_type": "code",
   "execution_count": 3,
   "id": "b75719f3-080d-4681-934e-625376fb2dc3",
   "metadata": {},
   "outputs": [],
   "source": [
    "def pdf_para_imagens(lista_pdf, caminho_saida, dpi=500):\n",
    "    for pdf in lista_pdf:\n",
    "        paginas = convert_from_path(pdf, dpi=dpi)\n",
    "        nome_pdf = os.path.basename(pdf)\n",
    "        nome_pdf = os.path.splitext(nome_pdf)[0]\n",
    "        for i, pagina in enumerate(paginas):\n",
    "            pagina.save(f\"{caminho_saida}/{nome_pdf}_pag{i + 1}.jpg\", 'JPEG')"
   ]
  },
  {
   "cell_type": "code",
   "execution_count": 4,
   "id": "a241f23b-7633-4086-b8ad-629db80ea89c",
   "metadata": {},
   "outputs": [],
   "source": [
    "caminho_pdf = \"pdf\"\n",
    "caminho_img = \"img\"\n",
    "\n",
    "lista_pdf = get_pdf(caminho_pdf)\n",
    "pdf_para_imagens(lista_pdf, caminho_img)"
   ]
  }
 ],
 "metadata": {
  "kernelspec": {
   "display_name": "Python 3 (ipykernel)",
   "language": "python",
   "name": "python3"
  },
  "language_info": {
   "codemirror_mode": {
    "name": "ipython",
    "version": 3
   },
   "file_extension": ".py",
   "mimetype": "text/x-python",
   "name": "python",
   "nbconvert_exporter": "python",
   "pygments_lexer": "ipython3",
   "version": "3.13.5"
  }
 },
 "nbformat": 4,
 "nbformat_minor": 5
}
