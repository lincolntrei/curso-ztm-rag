{
 "cells": [
  {
   "cell_type": "markdown",
   "id": "f7f898e0-9083-4d55-a96f-db1d406553c0",
   "metadata": {},
   "source": [
    "# Conversão de img para excel"
   ]
  },
  {
   "cell_type": "markdown",
   "id": "8388bc70-c843-45e7-b1aa-63ab50f5548a",
   "metadata": {},
   "source": [
    "Conversão de img para excel, pegando dados tabulares de imagens e colocando em excel"
   ]
  },
  {
   "cell_type": "markdown",
   "id": "ad87625b-4403-4769-ac85-ffc8ea85018b",
   "metadata": {},
   "source": [
    "!pip install openpyxl"
   ]
  },
  {
   "cell_type": "code",
   "execution_count": 37,
   "id": "3146e71d-ae15-4d56-98ae-b0362385e579",
   "metadata": {},
   "outputs": [],
   "source": [
    "import os, base64, glob\n",
    "import pandas as pd\n",
    "from dotenv import load_dotenv\n",
    "from openai import OpenAI\n",
    "#from io import StringIO\n",
    "from IPython.display import Markdown, display"
   ]
  },
  {
   "cell_type": "code",
   "execution_count": 2,
   "id": "13e1a1fd-a7dd-4b37-b354-64ad36919f59",
   "metadata": {},
   "outputs": [],
   "source": [
    "load_dotenv()\n",
    "openai_api_key = os.getenv(\"OPENAI_API_KEY\")\n",
    "\n",
    "client = OpenAI(api_key = openai_api_key)"
   ]
  },
  {
   "cell_type": "code",
   "execution_count": 3,
   "id": "2c36e3a0-049a-44a2-ae04-de0b7b60d12d",
   "metadata": {},
   "outputs": [],
   "source": [
    "def get_path_imagens(imagens_path):\n",
    "    imagens = sorted([f for f in os.listdir(imagens_path) if f.lower().endswith(('.png', '.jpg', '.jpeg'))])\n",
    "    return [os.path.join(imagens_path, i) for i in imagens]"
   ]
  },
  {
   "cell_type": "code",
   "execution_count": 38,
   "id": "af08bd0f-3d3c-4386-919e-5cb7d21f58a6",
   "metadata": {},
   "outputs": [],
   "source": [
    "def get_path_imagens_filtradas(img_path, padrao = \"jpg\"):\n",
    "    path_img_padrao = os.path.join(img_path, f\"*.{padrao}\")\n",
    "    return glob.glob(path_img_padrao)"
   ]
  },
  {
   "cell_type": "code",
   "execution_count": 4,
   "id": "49bd6997-d2ca-4b23-bd3f-618fe0867d3d",
   "metadata": {},
   "outputs": [],
   "source": [
    "def converter_imagem(file_path):\n",
    "    with open(file_path, \"rb\") as arquivo_imagem:\n",
    "        return base64.b64encode(arquivo_imagem.read()).decode(\"utf-8\")"
   ]
  },
  {
   "cell_type": "code",
   "execution_count": 5,
   "id": "bd52f641-52a5-47c6-a0c4-acd4d1d52d4a",
   "metadata": {},
   "outputs": [],
   "source": [
    "def montar_user_content(imagem_base64):\n",
    "    user_content = [\n",
    "        {\"type\": \"text\",\n",
    "         \"text\": \"Convert this menu image into structured Excel Sheet Format.\"},\n",
    "        {\"type\": \"image_url\",\n",
    "         \"image_url\": {\n",
    "             \"url\": f\"data:image/jpeg;base64,{imagem_base64}\",\n",
    "             \"detail\": \"high\"}}\n",
    "    ]\n",
    "    return user_content"
   ]
  },
  {
   "cell_type": "code",
   "execution_count": 6,
   "id": "24849fb9-5c43-49cd-8afa-afdd2bf0e189",
   "metadata": {},
   "outputs": [],
   "source": [
    "def gerar_conteudo(client, system_prompt, imagem_b64, MODEL = \"gpt-4o\"):\n",
    "    response = client.chat.completions.create(\n",
    "        model=MODEL,\n",
    "        messages=[\n",
    "            {\"role\": \"system\", \"content\": system_prompt},\n",
    "            {\"role\": \"user\", \"content\": montar_user_content(imagem_b64)}\n",
    "        ],\n",
    "        temperature=0\n",
    "    )\n",
    "    return response.choices[0].message.content"
   ]
  },
  {
   "cell_type": "code",
   "execution_count": 7,
   "id": "500587b4-2b58-4659-b4fd-ec73d7003022",
   "metadata": {},
   "outputs": [],
   "source": [
    "def get_df_menu():\n",
    "    return pd.DataFrame(columns=['CategoryTitle', 'CategoryTitleEnglish', 'SubcategoryTitle', 'SubcategoryTitleEnglish',\n",
    "                                 'ItemName', 'ItemNameEnglish', 'ItemPrice', 'Calories', 'PortionSize', 'Availability', \n",
    "                                 'ItemDescription', 'ItemDescriptionEnglish'])"
   ]
  },
  {
   "cell_type": "code",
   "execution_count": 29,
   "id": "a5879411-d7fd-4a0e-a461-d1edb65cd477",
   "metadata": {},
   "outputs": [],
   "source": [
    "def add_linhas(df, conteudo):\n",
    "    for linha in conteudo.split('\\n'):\n",
    "        if linha.startswith('|') and not linha.startswith('|-'): # Garantindo que sejam dados e não header format\n",
    "            colunas = [col.strip() for col in linha.split('|')[1:-1]]\n",
    "            if len(colunas) == len(df.columns):\n",
    "                if 'CategoryTitle' in colunas: continue # Garantindo que linha não seja header\n",
    "                nova_linha = pd.Series(colunas, index=df.columns)\n",
    "                df = pd.concat([df, pd.DataFrame([nova_linha])], ignore_index=True)\n",
    "            else:\n",
    "                print(f\"Pulando linha {linha}\")\n",
    "    return df"
   ]
  },
  {
   "cell_type": "code",
   "execution_count": 9,
   "id": "4af75200-3e11-4ba6-a058-17521b0f8373",
   "metadata": {},
   "outputs": [],
   "source": [
    "system_prompt = \"\"\"\n",
    "Convert the menu image(s) to a structured excel sheet following the provided template and instructions\n",
    "You are a data assistant that converts restaurant or cafe menus into structured Excel sheet that adheres to a specific template.\n",
    "The template includes categories, subcategories, item names, prices, \n",
    "Your task is to interpret and extract the data according to the following rules and structure:\n",
    "\n",
    "Overview:\n",
    "- Each row in the spreadsheet represents a unique menu item.\n",
    "- Items are organized under categories or subcategories.\n",
    "- Category and Subcategory names are repeated for all items that belong to the same group.\n",
    "- Some fields (e.g., subcategory columns) may be blank when not applicable.\n",
    "- Item details such as names, prices, descriptions, etc., should be unique for each row.\n",
    "- The price of each item must not have currency simbol.\n",
    "- The uploaded menu will be appended to the current menu. Do not delete or modify any existing menu items.\n",
    "\n",
    "Column Guide:\n",
    "- **Column A — CategoryTitle:** Required. Up to 256 characters. Example: \"Bebidas\"\n",
    "- **Column B — CategoryTitleEnglish:** Optional. Up to 256 characters. Example: \"Beverages\"\n",
    "- **Column C — SubcategoryTitle:** Optional. Up to 256 characters or leave blank. Example: \"Sucos\"\n",
    "- **Column D — SubcategoryTitleEnglish:** Optional. Up to 256 characters or leave blank. Example: \"Juices\"\n",
    "- **Column E — ItemName:** Required. Up to 256 characters. Example: \"Água Mineral\"\n",
    "- **Column F — ItemNameEnglish:** Optional. Up to 256 characters or leave blank. Example: \"Mineral Water\"\n",
    "- **Column G — ItemPrice:** Required. Accept formats: \"2.50\" or \"2,50\"\n",
    "- **Column H — Calories:** Optional. Numeric only. Example: \"150\"\n",
    "- **Column I — PortionSize:** Required. Text value. Example: \"500ml\"\n",
    "- **Column J — Availability:** Optional. Accepts only 1 (available) or 0 (not available)\n",
    "- **Column K — ItemDescription:** Optional. Up to 500 characters. Example: \"Contém minerais essenciais\"\n",
    "- **Column L — ItemDescriptionEnglish:** Optional. Up to 500 characters. Example: \"Contains essential minerals\"\n",
    "\n",
    "Notes:\n",
    "- Make sure all data strictly follows the accepted formats and values to maintain consistency.\n",
    "- Always check for accuracy and consistency before processing the spreadsheet.\n",
    "- Your role is to extract structured and clean data from these Excel rows based on this specification.\n",
    "\"\"\""
   ]
  },
  {
   "cell_type": "markdown",
   "id": "f9dcc1d7-1b7e-45d0-b7df-e30bc7822f0b",
   "metadata": {},
   "source": [
    "## Testes"
   ]
  },
  {
   "cell_type": "code",
   "execution_count": 10,
   "id": "6edd98b3-0cc6-4334-a697-a950563f3284",
   "metadata": {},
   "outputs": [],
   "source": [
    "imagens_path = os.path.join(os.getcwd(), \"img\")"
   ]
  },
  {
   "cell_type": "code",
   "execution_count": 11,
   "id": "d5e72873-b150-45e6-8d79-c000e3ae3844",
   "metadata": {},
   "outputs": [],
   "source": [
    "imagens_path_list = get_path_imagens(imagens_path)\n",
    "imagens_b64 = [converter_imagem(i) for i in imagens_path_list]"
   ]
  },
  {
   "cell_type": "code",
   "execution_count": 35,
   "id": "572c69f1-58c5-4337-bfd6-1cedaf4aae1e",
   "metadata": {},
   "outputs": [],
   "source": [
    "df = get_df_menu()\n",
    "for imagem in imagens_b64:\n",
    "    conteudo = gerar_conteudo(client, system_prompt, imagem)\n",
    "    df = add_linhas(df, conteudo)"
   ]
  },
  {
   "cell_type": "code",
   "execution_count": 39,
   "id": "c80bea30-d446-4781-bd42-ec43aaea9a98",
   "metadata": {},
   "outputs": [],
   "source": [
    "df.to_excel(\"dados.xlsx\", index=False)"
   ]
  }
 ],
 "metadata": {
  "kernelspec": {
   "display_name": "Python 3 (ipykernel)",
   "language": "python",
   "name": "python3"
  },
  "language_info": {
   "codemirror_mode": {
    "name": "ipython",
    "version": 3
   },
   "file_extension": ".py",
   "mimetype": "text/x-python",
   "name": "python",
   "nbconvert_exporter": "python",
   "pygments_lexer": "ipython3",
   "version": "3.13.5"
  }
 },
 "nbformat": 4,
 "nbformat_minor": 5
}
