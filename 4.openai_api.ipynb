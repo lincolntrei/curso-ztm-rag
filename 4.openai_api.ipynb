{
 "cells": [
  {
   "cell_type": "markdown",
   "id": "a98be931-2333-4d1a-8867-1a482864fa18",
   "metadata": {},
   "source": [
    "# Trabalhando com a api da Open AI"
   ]
  },
  {
   "cell_type": "markdown",
   "id": "771d356f-ab56-4a18-a293-f4731023389b",
   "metadata": {},
   "source": [
    "##### Instalando a biblioteca\n",
    "!pip install openai"
   ]
  },
  {
   "cell_type": "markdown",
   "id": "0c5f4337-ec53-424e-90a3-5d9c713aa64f",
   "metadata": {},
   "source": [
    "!pip install dotenv"
   ]
  },
  {
   "cell_type": "code",
   "execution_count": 4,
   "id": "4a03225a-50d5-4d95-b5d2-1caa18c9b338",
   "metadata": {},
   "outputs": [],
   "source": [
    "import os\n",
    "from dotenv import load_dotenv\n",
    "load_dotenv() # Carrega as variáveis do arquivo .env\n",
    "openai_api_key = os.getenv(\"OPENAI_API_KEY\") # Acessa a variável como se fosse do sistema"
   ]
  },
  {
   "cell_type": "code",
   "execution_count": null,
   "id": "bcaa0bf6-3549-4bc8-8d50-1a0f005d33be",
   "metadata": {},
   "outputs": [],
   "source": []
  }
 ],
 "metadata": {
  "kernelspec": {
   "display_name": "Python 3 (ipykernel)",
   "language": "python",
   "name": "python3"
  },
  "language_info": {
   "codemirror_mode": {
    "name": "ipython",
    "version": 3
   },
   "file_extension": ".py",
   "mimetype": "text/x-python",
   "name": "python",
   "nbconvert_exporter": "python",
   "pygments_lexer": "ipython3",
   "version": "3.13.5"
  }
 },
 "nbformat": 4,
 "nbformat_minor": 5
}
