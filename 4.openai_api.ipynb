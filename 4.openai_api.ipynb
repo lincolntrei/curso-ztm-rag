{
 "cells": [
  {
   "cell_type": "markdown",
   "id": "a98be931-2333-4d1a-8867-1a482864fa18",
   "metadata": {},
   "source": [
    "# Trabalhando com a api da Open AI"
   ]
  },
  {
   "cell_type": "markdown",
   "id": "53675ead-5a41-4ef0-ab8f-2c399a313d62",
   "metadata": {},
   "source": [
    "Maior parte dos comentários serão em inglês para adaptação a língua."
   ]
  },
  {
   "cell_type": "markdown",
   "id": "6acf8bf2-4af3-49ad-81a0-82d5959dfac9",
   "metadata": {},
   "source": [
    "É interessante testar os prompts e os parâmetros no playground:\n",
    "https://platform.openai.com/playground/prompts?models=gpt-4.1"
   ]
  },
  {
   "cell_type": "markdown",
   "id": "771d356f-ab56-4a18-a293-f4731023389b",
   "metadata": {},
   "source": [
    "##### Instalando a biblioteca\n",
    "!pip install openai"
   ]
  },
  {
   "cell_type": "markdown",
   "id": "0c5f4337-ec53-424e-90a3-5d9c713aa64f",
   "metadata": {},
   "source": [
    "!pip install dotenv"
   ]
  },
  {
   "cell_type": "code",
   "execution_count": 1,
   "id": "4a03225a-50d5-4d95-b5d2-1caa18c9b338",
   "metadata": {},
   "outputs": [],
   "source": [
    "import os\n",
    "from dotenv import load_dotenv\n",
    "load_dotenv() # Carrega as variáveis do arquivo .env\n",
    "openai_api_key = os.getenv(\"OPENAI_API_KEY\") # Acessa a variável como se fosse do sistema"
   ]
  },
  {
   "cell_type": "code",
   "execution_count": 2,
   "id": "41b5bd91-1495-4300-8d57-7d2a9d62562e",
   "metadata": {},
   "outputs": [],
   "source": [
    "from openai import OpenAI"
   ]
  },
  {
   "cell_type": "code",
   "execution_count": 3,
   "id": "1aa8a3c2-8dc7-47b8-b183-1b18bddd4ada",
   "metadata": {},
   "outputs": [],
   "source": [
    "# Biblioteca para exibir resultados em markdown\n",
    "from IPython.display import Markdown, display"
   ]
  },
  {
   "cell_type": "code",
   "execution_count": 4,
   "id": "bcaa0bf6-3549-4bc8-8d50-1a0f005d33be",
   "metadata": {},
   "outputs": [],
   "source": [
    "# Define the URL of an image we will use later\n",
    "url = \"https://upload.wikimedia.org/wikipedia/commons/thumb/d/dd/Gfp-wisconsin-madison-the-nature-boardwalk.jpg/2560px-Gfp-wisconsin-madison-the-nature-boardwalk.jpg\""
   ]
  },
  {
   "cell_type": "code",
   "execution_count": 5,
   "id": "2d825ccc-c08a-4092-940f-d4775a211511",
   "metadata": {},
   "outputs": [],
   "source": [
    "MODEL = \"gpt-4o\""
   ]
  },
  {
   "cell_type": "code",
   "execution_count": 6,
   "id": "74538884-8655-4647-9aac-439ec0c215f4",
   "metadata": {},
   "outputs": [],
   "source": [
    "# Connect to the api key\n",
    "client = OpenAI(api_key = openai_api_key)"
   ]
  },
  {
   "cell_type": "markdown",
   "id": "432fbd0c-0816-469c-993c-53822b0f2fc0",
   "metadata": {},
   "source": [
    "## Texto"
   ]
  },
  {
   "cell_type": "code",
   "execution_count": 7,
   "id": "3d431923-1630-4e1e-b196-c541dde671b3",
   "metadata": {},
   "outputs": [],
   "source": [
    "# Define the system prompt\n",
    "system_prompt = \"You are Vegeta before Dragon Ball Super\"\n",
    "\n",
    "# Define the user prompt\n",
    "user_prompt = \"have you defeated Goku sometime?\""
   ]
  },
  {
   "cell_type": "code",
   "execution_count": 8,
   "id": "565f6c49-06d2-426d-a99a-fb7697ba5ace",
   "metadata": {},
   "outputs": [],
   "source": [
    "# Generating text with OpenAI\n",
    "response = client.chat.completions.create(\n",
    "    model=MODEL,\n",
    "    messages=[\n",
    "        {\"role\":\"system\", \"content\":system_prompt},\n",
    "        {\"role\":\"user\", \"content\":user_prompt}\n",
    "    ]\n",
    ")"
   ]
  },
  {
   "cell_type": "code",
   "execution_count": 9,
   "id": "828b9893-650e-4cd2-8417-62bdaf9d6b4b",
   "metadata": {},
   "outputs": [
    {
     "data": {
      "text/markdown": [
       "As Vegeta, I've faced Goku in battle several times throughout our history. The first major battle was when he first came to Earth. While I was initially stronger and nearly defeated him, things didn't go as planned, largely due to the intervention of his friends, as well as Goku’s incredible ability to grow stronger during a fight.\n",
       "\n",
       "Despite my early advantage, Goku and his allies managed to turn the tide. In subsequent battles, we continued to push each other to new limits. While I haven't decisively defeated Goku, our rivalry drives us both to become stronger. Each battle only serves to heighten our competitive spirit and mutual respect."
      ],
      "text/plain": [
       "<IPython.core.display.Markdown object>"
      ]
     },
     "metadata": {},
     "output_type": "display_data"
    }
   ],
   "source": [
    "# Displaying output\n",
    "#print(response.choices[0].message.content)\n",
    "display(Markdown(response.choices[0].message.content))"
   ]
  },
  {
   "cell_type": "markdown",
   "id": "ffaf0d55-b08b-4358-809b-6476e0adca9f",
   "metadata": {},
   "source": [
    "## Text Generation with Parameters"
   ]
  },
  {
   "cell_type": "markdown",
   "id": "7cfd49c0-77ec-47bb-b5f3-25e97a66e310",
   "metadata": {},
   "source": [
    "Geralmente é recomendável alterar \"temperature\" ou \"top_t\", mas não ambos"
   ]
  },
  {
   "cell_type": "code",
   "execution_count": 10,
   "id": "2e878845-dbf1-405b-82ef-ccb436e50bea",
   "metadata": {},
   "outputs": [
    {
     "data": {
      "text/markdown": [
       "I came close to defeating Kakarot during our first battle on Earth. I was definitely stronger than him at that time, and I had the upper hand for most of the fight. However, his stubbornness and the intervention of his friends turned the tide against me. Since then, we've both grown stronger and have had our share of intense battles, but outright defeating him has been elusive. Still, I'm always striving to surpass him."
      ],
      "text/plain": [
       "<IPython.core.display.Markdown object>"
      ]
     },
     "metadata": {},
     "output_type": "display_data"
    }
   ],
   "source": [
    "# Define the system and user prompt\n",
    "system_prompt = \"You are Vegeta before Dragon Ball Super\"\n",
    "user_prompt = \"have you defeated Goku sometime?\"\n",
    "\n",
    "# Generating text with OpenAI\n",
    "response = client.chat.completions.create(\n",
    "    model=MODEL,\n",
    "    messages=[\n",
    "        {\"role\":\"system\", \"content\":system_prompt},\n",
    "        {\"role\":\"user\", \"content\":user_prompt}\n",
    "    ],\n",
    "    temperature=1.1, # Precisão vs Criatividade. Entre 0 e 2.0. Padrão 1.0\n",
    "    top_p=0.8, # Porcentagem de gama de palavras consideradas para geração da proxima palavra. Ex: 0.3 = 30%\n",
    "    presence_penalty=0.5, # Penaliza repetição de ideias ou temas. Entre -2.0 e 2.0. Padrão 0\n",
    "    frequency_penalty=0 # Penaliza repetição de palavras. Entre -2.0 e 2.0. Padrão 0\n",
    ")\n",
    "\n",
    "# Displaying output\n",
    "display(Markdown(response.choices[0].message.content))"
   ]
  },
  {
   "cell_type": "markdown",
   "id": "089b04cc-45ab-4ca6-bac3-4ebfc80b6936",
   "metadata": {},
   "source": [
    "Há outros parâmetros a usar. Consultar: https://platform.openai.com/docs/api-reference/chat/create"
   ]
  },
  {
   "cell_type": "markdown",
   "id": "e315f533-5118-4e89-93da-4781cf987bb8",
   "metadata": {},
   "source": [
    "## Imagens"
   ]
  },
  {
   "cell_type": "markdown",
   "id": "1b256d10-3304-4b31-a2e5-2a67a440bfc8",
   "metadata": {},
   "source": [
    "#### Imagem por url"
   ]
  },
  {
   "cell_type": "code",
   "execution_count": 22,
   "id": "2b9f0695-9927-4fa0-b1fb-5126941eb237",
   "metadata": {},
   "outputs": [],
   "source": [
    "# Define the user content\n",
    "user_content = [\n",
    "    {\"type\": \"text\",\n",
    "     \"text\": \"Describe the image\"},\n",
    "    {\"type\": \"image_url\",\n",
    "     \"image_url\": {\n",
    "         \"url\": url,\n",
    "         \"detail\": \"high\" # Opcional. Se a llm deve analisar a imagem em grandes detalhes ou pequenos detalhes.\n",
    "     }}\n",
    "]"
   ]
  },
  {
   "cell_type": "code",
   "execution_count": 13,
   "id": "df0da7df-6434-460a-a69c-5b624e2182b4",
   "metadata": {},
   "outputs": [
    {
     "data": {
      "text/markdown": [
       "The image depicts a serene landscape featuring a wooden boardwalk winding through a lush green meadow. Lively grass surrounds the walkway, and the scene is set under a bright blue sky with scattered white clouds. In the background, there are trees and shrubs, adding depth to the peaceful, natural setting. The lighting suggests it is a bright, sunny day."
      ],
      "text/plain": [
       "<IPython.core.display.Markdown object>"
      ]
     },
     "metadata": {},
     "output_type": "display_data"
    }
   ],
   "source": [
    "# Use the chat.completions\n",
    "response = client.chat.completions.create(\n",
    "    model=MODEL,\n",
    "    messages=[\n",
    "        {\"role\": \"user\", \"content\": user_content}\n",
    "    ]\n",
    ")\n",
    "display(Markdown(response.choices[0].message.content))"
   ]
  },
  {
   "cell_type": "markdown",
   "id": "6ed34f6a-b222-4610-89b3-9760a68d9676",
   "metadata": {},
   "source": [
    "#### Imagem em base64"
   ]
  },
  {
   "cell_type": "code",
   "execution_count": 14,
   "id": "5443cf70-2a37-41bb-8cf8-5883b7b36915",
   "metadata": {},
   "outputs": [],
   "source": [
    "import base64"
   ]
  },
  {
   "cell_type": "code",
   "execution_count": 16,
   "id": "c27d1a46-9c44-4efc-9ed8-3dc9b4ad88ba",
   "metadata": {},
   "outputs": [],
   "source": [
    "file_name = \"4.open_ai/Thumbnail python FV1.jpg\" # pasta e arquivo dentro do projeto\n",
    "file_path = os.path.join(os.getcwd(), file_name) # os.getcwd() pega o caminho atual do projeto"
   ]
  },
  {
   "cell_type": "code",
   "execution_count": 18,
   "id": "e70f44f8-df82-4efb-804f-0a048a57de6d",
   "metadata": {},
   "outputs": [],
   "source": [
    "# Read image and convert to base64\n",
    "with open(file_path, \"rb\") as image_file: # rb significa \"read binary\"\n",
    "    image_base64 = base64.b64encode(image_file.read()).decode(\"utf-8\")"
   ]
  },
  {
   "cell_type": "code",
   "execution_count": 23,
   "id": "55dda660-d513-4bb8-8f26-e779efb6c898",
   "metadata": {},
   "outputs": [],
   "source": [
    "# Define user content\n",
    "user_content = [\n",
    "    {\"type\": \"text\",\n",
    "     \"text\": \"This is my thumbnail for Data Analysis course. Be brutal, mean and provide sarcastic suggestions\"},\n",
    "    {\"type\": \"image_url\",\n",
    "     \"image_url\": {\n",
    "         \"url\": f\"data:image/jpeg;base64,{image_base64}\", #significado = data que é imagem que é jpeg mas em base64. É uma sintaxe padrão.\n",
    "         \"detail\": \"high\"\n",
    "     }}\n",
    "]"
   ]
  },
  {
   "cell_type": "code",
   "execution_count": 20,
   "id": "9653a56b-6fe7-4339-a144-8a80a0de1a37",
   "metadata": {},
   "outputs": [
    {
     "data": {
      "text/markdown": [
       "Ah, the classic \"snake charmer\" approach to data analysis. Bold choice! The recorder really screams \"professional muso,\" doesn't it? Very avant-garde. Your background of binary numbers really drives home that complex, matrix-y vibe. Just be careful; you might hypnotize the entire internet with this masterpiece. Don't you just love how the colors clash ever so gracefully? It's like a visual symphony! Maybe add a few more random elements, like a cat on a unicycle, just for that extra sprinkle of chaos. Perfect for expressing the wild, unpredictable world of data. Bravo!"
      ],
      "text/plain": [
       "<IPython.core.display.Markdown object>"
      ]
     },
     "metadata": {},
     "output_type": "display_data"
    }
   ],
   "source": [
    "# Call the OpenAI API\n",
    "response = client.chat.completions.create(\n",
    "    model=MODEL,\n",
    "    messages=[\n",
    "        {\"role\": \"user\", \"content\": user_content}\n",
    "    ]\n",
    ")\n",
    "display(Markdown(response.choices[0].message.content))"
   ]
  },
  {
   "cell_type": "markdown",
   "id": "fa40e053-0bd0-45b7-a436-d41c7a6167ff",
   "metadata": {},
   "source": [
    "#### TESTES PESSOAIS"
   ]
  },
  {
   "cell_type": "code",
   "execution_count": 33,
   "id": "f0bd361a-2dda-4f33-a84a-e1cf049c8576",
   "metadata": {},
   "outputs": [],
   "source": [
    "def generate(file_path, query, model, client):\n",
    "    \n",
    "    with open(file_path, \"rb\") as image_file: # rb significa \"read binary\"\n",
    "        image_base64 = base64.b64encode(image_file.read()).decode(\"utf-8\")\n",
    "    user_content = [\n",
    "        {\"type\": \"text\",\n",
    "         \"text\": query},\n",
    "        {\"type\": \"image_url\",\n",
    "         \"image_url\": {\n",
    "             \"url\": f\"data:image/jpeg;base64,{image_base64}\",\n",
    "             \"detail\": \"high\"\n",
    "         }}\n",
    "    ]\n",
    "    response = client.chat.completions.create(\n",
    "        model=model,\n",
    "        messages=[\n",
    "            {\"role\": \"user\", \"content\": user_content}\n",
    "        ]\n",
    "    )\n",
    "    return response.choices[0].message.content"
   ]
  },
  {
   "cell_type": "code",
   "execution_count": 34,
   "id": "a197d633-1bf8-4a7c-ad4e-312500fd067a",
   "metadata": {},
   "outputs": [],
   "source": [
    "file_name = \"4.open_ai/Orizonte da Praia.jpg\"\n",
    "file_path = os.path.join(os.getcwd(), file_name)\n",
    "query = \"Desenhei esse desenho copiando uma imagem. Descreva a imagem e depois faça uma critica maldosa com sugestões sarcasticas.\""
   ]
  },
  {
   "cell_type": "code",
   "execution_count": 35,
   "id": "abc78b69-9dcc-472f-bea9-2ad2087d8a53",
   "metadata": {},
   "outputs": [
    {
     "data": {
      "text/markdown": [
       "A imagem mostra um desenho em lápis de dois coqueiros inclinados à beira de uma praia. Ao fundo, há o mar e algumas formações montanhosas. No canto inferior, uma cerca rústica e um pequeno barco estão presentes. Algumas aves estão voando no céu.\n",
       "\n",
       "Agora, a crítica maldosa:\n",
       "\n",
       "Parabéns por capturar a essência de uma \"obra-prima em potencial\"! É admirável como os coqueiros parecem ter um bad hair day tropical, e a perspectiva? Revolucionária! Quem precisa de proporção quando se pode desafiar as leis da física e da botânica ao mesmo tempo? A sugestão do barco é um toque de mestre – empresários do turismo definitivamente vão querer se inspirar nesse design. E o que dizer das montanhas? Esta é uma nova abordagem de topografia sem compromisso com a realidade.\n",
       "\n",
       "Para sua próxima criação, talvez considere desenhar a Mona Lisa em um cenário lunar. Afinal, a realidade nunca deve ser um obstáculo à sua criatividade singular."
      ],
      "text/plain": [
       "<IPython.core.display.Markdown object>"
      ]
     },
     "metadata": {},
     "output_type": "display_data"
    }
   ],
   "source": [
    "resposta = generate(file_path, query, MODEL, client)\n",
    "display(Markdown(resposta))"
   ]
  }
 ],
 "metadata": {
  "kernelspec": {
   "display_name": "Python 3 (ipykernel)",
   "language": "python",
   "name": "python3"
  },
  "language_info": {
   "codemirror_mode": {
    "name": "ipython",
    "version": 3
   },
   "file_extension": ".py",
   "mimetype": "text/x-python",
   "name": "python",
   "nbconvert_exporter": "python",
   "pygments_lexer": "ipython3",
   "version": "3.13.5"
  }
 },
 "nbformat": 4,
 "nbformat_minor": 5
}
