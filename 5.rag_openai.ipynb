{
 "cells": [
  {
   "cell_type": "markdown",
   "id": "5b67c251-cdc3-4715-a70b-c3b1cea6fb09",
   "metadata": {},
   "source": [
    "# Setup"
   ]
  },
  {
   "cell_type": "code",
   "execution_count": 1,
   "id": "ad56a868-09d3-4fcf-b99a-ece54c530303",
   "metadata": {},
   "outputs": [],
   "source": [
    "import os, base64\n",
    "from dotenv import load_dotenv\n",
    "from openai import OpenAI\n",
    "from pdf2image import convert_from_path\n",
    "\n",
    "load_dotenv()\n",
    "openai_api_key = os.getenv(\"OPENAI_API_KEY\")"
   ]
  },
  {
   "cell_type": "code",
   "execution_count": 2,
   "id": "a2437be9-aef7-44bd-9d71-8434f3d450a8",
   "metadata": {},
   "outputs": [],
   "source": [
    "from IPython.display import Markdown, display"
   ]
  },
  {
   "cell_type": "markdown",
   "id": "c0a42926-53b2-462d-8e8c-3d9f1f3c5b9b",
   "metadata": {},
   "source": [
    "# Perform OCR and transform to images"
   ]
  },
  {
   "cell_type": "code",
   "execution_count": 3,
   "id": "f5cd59bc-fb02-49cf-a126-81e699d652b4",
   "metadata": {},
   "outputs": [],
   "source": [
    "def pdf_to_images(pdf_path, output_folder):\n",
    "    if not os.path.exists(output_folder):\n",
    "        os.makedirs(output_folder)\n",
    "\n",
    "    imagens = convert_from_path(pdf_path)\n",
    "    image_paths = []\n",
    "\n",
    "    pdf_nome = os.path.splitext(os.path.basename(pdf_path))[0]\n",
    "    for i, imagem in enumerate(imagens):\n",
    "        image_path = os.path.join(output_folder, f\"{pdf_nome}_pg{i+1}.jpg\")\n",
    "        imagem.save(image_path, \"JPEG\")\n",
    "        image_paths.append(image_path)\n",
    "\n",
    "    return image_paths"
   ]
  },
  {
   "cell_type": "code",
   "execution_count": 4,
   "id": "cb8b6ed8-c620-472a-ab5e-2026d5e13418",
   "metadata": {},
   "outputs": [],
   "source": [
    "# Convertendo pdf para img\n",
    "main_folder = os.path.join(os.getcwd(), \"5.rag_openai\")\n",
    "receips_folder = os.path.join(main_folder, \"receips\")\n",
    "output_folder = os.path.join(main_folder, \"img\")\n",
    "\n",
    "pdf_path = os.path.join(receips_folder, \"Southern Cookbook of Fine Recipes.pdf\")\n",
    "image_paths = pdf_to_images(pdf_path, output_folder)"
   ]
  },
  {
   "cell_type": "code",
   "execution_count": 5,
   "id": "bc1114ac-3568-4632-8284-877c997a6b15",
   "metadata": {},
   "outputs": [],
   "source": [
    "client = OpenAI(api_key=openai_api_key)\n",
    "model = \"gpt-4o-mini\""
   ]
  },
  {
   "cell_type": "code",
   "execution_count": 7,
   "id": "e6e657df-bfdb-42a1-a4bb-68bd628e2c59",
   "metadata": {},
   "outputs": [],
   "source": [
    "# Read and encode one image\n",
    "image_path = os.path.join(output_folder, \"Southern Cookbook of Fine Recipes_pg9.jpg\")\n",
    "with open(image_path, \"rb\") as image_file:\n",
    "    image_data = base64.b64encode(image_file.read()).decode('utf-8')"
   ]
  },
  {
   "cell_type": "code",
   "execution_count": 8,
   "id": "3d6abfab-1163-4d2b-a42b-91a162a75e5e",
   "metadata": {},
   "outputs": [],
   "source": [
    "system_prompt = \"\"\"\n",
    "Analyse the content of this image and extract any related recipe information.\n",
    "\"\"\""
   ]
  },
  {
   "cell_type": "code",
   "execution_count": 14,
   "id": "0e524f64-be78-4bba-8ffd-2ba669559d17",
   "metadata": {},
   "outputs": [],
   "source": [
    "def generate(client, system_prompt, image, model=\"gpt-4o-mini\"):\n",
    "    response = client.chat.completions.create(\n",
    "        model=model,\n",
    "        messages=[\n",
    "            {\"role\": \"system\", \"content\": system_prompt},\n",
    "            {\"role\": \"user\", \"content\": [\n",
    "                \"This is the image from the recipe page.\",\n",
    "                {\"type\": \"image_url\",\n",
    "                 \"image_url\": {\"url\": f\"data:image/jpeg;base64,{image}\",\n",
    "                               \"detail\": \"high\"}}\n",
    "            ]}\n",
    "        ]\n",
    "    )\n",
    "    return response.choices[0].message.content"
   ]
  },
  {
   "cell_type": "code",
   "execution_count": 15,
   "id": "0b7ab6c2-ef6f-4e11-acb5-19829eccf375",
   "metadata": {},
   "outputs": [
    {
     "data": {
      "text/markdown": [
       "Here's a summary of the recipes included in the provided image:\n",
       "\n",
       "### Chicken Gumbo\n",
       "- **Ingredients**: \n",
       "  - 1 small stewing chicken\n",
       "  - 2 tablespoons flour\n",
       "  - 3 tablespoons butter, melted\n",
       "  - 1 onion, chopped\n",
       "  - 4 cups okra, sliced and chopped\n",
       "  - 2 cups tomato pulp\n",
       "  - Few sprigs parsley, chopped\n",
       "  - Salt and pepper to taste\n",
       "- **Instructions**: \n",
       "  1. Clean and cut chicken into portions.\n",
       "  2. Dredge chicken in flour.\n",
       "  3. Sauté in melted butter with chopped onion until browned.\n",
       "  4. Season with salt and pepper.\n",
       "  5. Cook slowly for about 2½ hours until chicken is tender.\n",
       "  6. Add okra and parsley, cooking until okra is well done.\n",
       "\n",
       "### Almond Chicken Soup\n",
       "- **Ingredients**: \n",
       "  - ½ cup blanched almonds\n",
       "  - 6 bitter almonds\n",
       "  - 3 cups chicken broth\n",
       "  - 1 teaspoon onion juice\n",
       "  - 1 bay leaf, crushed fine\n",
       "  - 3 tablespoons butter\n",
       "  - 2 cups milk\n",
       "  - 1 cup cream\n",
       "  - Salt and pepper to taste\n",
       "- **Instructions**: \n",
       "  1. Chop almonds and add to broth with seasoning.\n",
       "  2. Melt butter, stir in flour, add to broth until smooth.\n",
       "  3. Add milk and cream and season with salt and pepper.\n",
       "\n",
       "### Southern Bean Soup\n",
       "- **Ingredients**: \n",
       "  - 1 cup dried beans\n",
       "  - 6 cups ham broth\n",
       "  - 1 cup chopped celery\n",
       "  - ½ onion, minced\n",
       "  - 3 tablespoons butter\n",
       "  - 3 tablespoons flour\n",
       "  - Salt and pepper\n",
       "- **Instructions**: \n",
       "  1. Cover beans with water and let stand overnight.\n",
       "  2. Drain and add to ham broth.\n",
       "  3. Cook with celery and onion until beans are soft.\n",
       "  4. Strain broth, press beans through a sieve, and add to broth.\n",
       "  5. Thicken with butter, flour, salt, and pepper.\n",
       "\n",
       "### Additional Recipes\n",
       "- **Chicken Cream Soup**\n",
       "- **Okra Soup**\n",
       "- **Black Bean Soup**\n",
       "- **Southern Gumbo**\n",
       "\n",
       "These recipes reflect traditional Southern cooking, featuring hearty ingredients and methods that emphasize slow cooking and robust flavors."
      ],
      "text/plain": [
       "<IPython.core.display.Markdown object>"
      ]
     },
     "metadata": {},
     "output_type": "display_data"
    }
   ],
   "source": [
    "response = generate(client, system_prompt, image_data)\n",
    "display(Markdown(response))"
   ]
  },
  {
   "cell_type": "code",
   "execution_count": null,
   "id": "f4ab6e06-d6f0-450d-89f6-ca1d49326c27",
   "metadata": {},
   "outputs": [],
   "source": []
  }
 ],
 "metadata": {
  "kernelspec": {
   "display_name": "Python 3 (ipykernel)",
   "language": "python",
   "name": "python3"
  },
  "language_info": {
   "codemirror_mode": {
    "name": "ipython",
    "version": 3
   },
   "file_extension": ".py",
   "mimetype": "text/x-python",
   "name": "python",
   "nbconvert_exporter": "python",
   "pygments_lexer": "ipython3",
   "version": "3.13.5"
  }
 },
 "nbformat": 4,
 "nbformat_minor": 5
}
