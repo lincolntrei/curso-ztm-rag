{
 "cells": [
  {
   "cell_type": "markdown",
   "id": "5b67c251-cdc3-4715-a70b-c3b1cea6fb09",
   "metadata": {},
   "source": [
    "# Setup"
   ]
  },
  {
   "cell_type": "code",
   "execution_count": 1,
   "id": "ad56a868-09d3-4fcf-b99a-ece54c530303",
   "metadata": {},
   "outputs": [],
   "source": [
    "import os, base64\n",
    "from dotenv import load_dotenv\n",
    "from openai import OpenAI\n",
    "from pdf2image import convert_from_path\n",
    "\n",
    "load_dotenv()\n",
    "openai_api_key = os.getenv(\"OPENAI_API_KEY\")"
   ]
  },
  {
   "cell_type": "code",
   "execution_count": 2,
   "id": "a2437be9-aef7-44bd-9d71-8434f3d450a8",
   "metadata": {},
   "outputs": [],
   "source": [
    "from IPython.display import Markdown, display"
   ]
  },
  {
   "cell_type": "markdown",
   "id": "c0a42926-53b2-462d-8e8c-3d9f1f3c5b9b",
   "metadata": {},
   "source": [
    "# Perform OCR and transform to images"
   ]
  },
  {
   "cell_type": "code",
   "execution_count": 3,
   "id": "f5cd59bc-fb02-49cf-a126-81e699d652b4",
   "metadata": {},
   "outputs": [],
   "source": [
    "def pdf_to_images(pdf_path, output_folder):\n",
    "    if not os.path.exists(output_folder):\n",
    "        os.makedirs(output_folder)\n",
    "\n",
    "    imagens = convert_from_path(pdf_path)\n",
    "    image_paths = []\n",
    "\n",
    "    pdf_nome = os.path.splitext(os.path.basename(pdf_path))[0]\n",
    "    for i, imagem in enumerate(imagens):\n",
    "        image_path = os.path.join(output_folder, f\"{pdf_nome}_pg{i+1}.jpg\")\n",
    "        imagem.save(image_path, \"JPEG\")\n",
    "        image_paths.append(image_path)\n",
    "\n",
    "    return image_paths"
   ]
  },
  {
   "cell_type": "code",
   "execution_count": 4,
   "id": "cb8b6ed8-c620-472a-ab5e-2026d5e13418",
   "metadata": {},
   "outputs": [],
   "source": [
    "# Convertendo pdf para img\n",
    "main_folder = os.path.join(os.getcwd(), \"5.rag_openai\")\n",
    "receips_folder = os.path.join(main_folder, \"receips\")\n",
    "output_folder = os.path.join(main_folder, \"img\")\n",
    "\n",
    "pdf_path = os.path.join(receips_folder, \"Southern Cookbook of Fine Recipes.pdf\")\n",
    "image_paths = pdf_to_images(pdf_path, output_folder)"
   ]
  },
  {
   "cell_type": "code",
   "execution_count": 5,
   "id": "bc1114ac-3568-4632-8284-877c997a6b15",
   "metadata": {},
   "outputs": [],
   "source": [
    "client = OpenAI(api_key=openai_api_key)\n",
    "model = \"gpt-4o-mini\""
   ]
  },
  {
   "cell_type": "code",
   "execution_count": 6,
   "id": "e6e657df-bfdb-42a1-a4bb-68bd628e2c59",
   "metadata": {},
   "outputs": [],
   "source": [
    "# Read and encode one image\n",
    "image_path = os.path.join(output_folder, \"Southern Cookbook of Fine Recipes_pg9.jpg\")\n",
    "with open(image_path, \"rb\") as image_file:\n",
    "    image_data = base64.b64encode(image_file.read()).decode('utf-8')"
   ]
  },
  {
   "cell_type": "code",
   "execution_count": 7,
   "id": "3d6abfab-1163-4d2b-a42b-91a162a75e5e",
   "metadata": {},
   "outputs": [],
   "source": [
    "system_prompt = \"\"\"\n",
    "Analyse the content of this image and extract any related recipe information.\n",
    "\"\"\""
   ]
  },
  {
   "cell_type": "code",
   "execution_count": 13,
   "id": "0e524f64-be78-4bba-8ffd-2ba669559d17",
   "metadata": {},
   "outputs": [],
   "source": [
    "def generate(client, system_prompt, image, model=\"gpt-4o-mini\"):\n",
    "    response = client.chat.completions.create(\n",
    "        model=model,\n",
    "        messages=[\n",
    "            {\"role\": \"system\", \"content\": system_prompt},\n",
    "            {\"role\": \"user\", \"content\": [\n",
    "                \"This is the image from the recipe page.\",\n",
    "                {\"type\": \"image_url\",\n",
    "                 \"image_url\": {\"url\": f\"data:image/jpeg;base64,{image}\",\n",
    "                               \"detail\": \"high\"}}\n",
    "            ]}\n",
    "        ],\n",
    "        temperature=0\n",
    "    )\n",
    "    return response.choices[0].message.content"
   ]
  },
  {
   "cell_type": "code",
   "execution_count": 15,
   "id": "0b7ab6c2-ef6f-4e11-acb5-19829eccf375",
   "metadata": {},
   "outputs": [
    {
     "data": {
      "text/markdown": [
       "Here's a summary of the recipes included in the provided image:\n",
       "\n",
       "### Chicken Gumbo\n",
       "- **Ingredients**: \n",
       "  - 1 small stewing chicken\n",
       "  - 2 tablespoons flour\n",
       "  - 3 tablespoons butter, melted\n",
       "  - 1 onion, chopped\n",
       "  - 4 cups okra, sliced and chopped\n",
       "  - 2 cups tomato pulp\n",
       "  - Few sprigs parsley, chopped\n",
       "  - Salt and pepper to taste\n",
       "- **Instructions**: \n",
       "  1. Clean and cut chicken into portions.\n",
       "  2. Dredge chicken in flour.\n",
       "  3. Sauté in melted butter with chopped onion until browned.\n",
       "  4. Season with salt and pepper.\n",
       "  5. Cook slowly for about 2½ hours until chicken is tender.\n",
       "  6. Add okra and parsley, cooking until okra is well done.\n",
       "\n",
       "### Almond Chicken Soup\n",
       "- **Ingredients**: \n",
       "  - ½ cup blanched almonds\n",
       "  - 6 bitter almonds\n",
       "  - 3 cups chicken broth\n",
       "  - 1 teaspoon onion juice\n",
       "  - 1 bay leaf, crushed fine\n",
       "  - 3 tablespoons butter\n",
       "  - 2 cups milk\n",
       "  - 1 cup cream\n",
       "  - Salt and pepper to taste\n",
       "- **Instructions**: \n",
       "  1. Chop almonds and add to broth with seasoning.\n",
       "  2. Melt butter, stir in flour, add to broth until smooth.\n",
       "  3. Add milk and cream and season with salt and pepper.\n",
       "\n",
       "### Southern Bean Soup\n",
       "- **Ingredients**: \n",
       "  - 1 cup dried beans\n",
       "  - 6 cups ham broth\n",
       "  - 1 cup chopped celery\n",
       "  - ½ onion, minced\n",
       "  - 3 tablespoons butter\n",
       "  - 3 tablespoons flour\n",
       "  - Salt and pepper\n",
       "- **Instructions**: \n",
       "  1. Cover beans with water and let stand overnight.\n",
       "  2. Drain and add to ham broth.\n",
       "  3. Cook with celery and onion until beans are soft.\n",
       "  4. Strain broth, press beans through a sieve, and add to broth.\n",
       "  5. Thicken with butter, flour, salt, and pepper.\n",
       "\n",
       "### Additional Recipes\n",
       "- **Chicken Cream Soup**\n",
       "- **Okra Soup**\n",
       "- **Black Bean Soup**\n",
       "- **Southern Gumbo**\n",
       "\n",
       "These recipes reflect traditional Southern cooking, featuring hearty ingredients and methods that emphasize slow cooking and robust flavors."
      ],
      "text/plain": [
       "<IPython.core.display.Markdown object>"
      ]
     },
     "metadata": {},
     "output_type": "display_data"
    }
   ],
   "source": [
    "response = generate(client, system_prompt, image_data)\n",
    "display(Markdown(response))"
   ]
  },
  {
   "cell_type": "code",
   "execution_count": 11,
   "id": "f4ab6e06-d6f0-450d-89f6-ca1d49326c27",
   "metadata": {},
   "outputs": [],
   "source": [
    "def get_gpt_response(client, system_prompt, imagem):\n",
    "    response = generate(client, system_prompt, imagem)\n",
    "    return [response, display(Markdown(response))]"
   ]
  },
  {
   "cell_type": "code",
   "execution_count": 12,
   "id": "c84b594b-54a0-47f4-8b38-f8ed128432d5",
   "metadata": {},
   "outputs": [],
   "source": [
    "# Melhorando o system prompt\n",
    "system_prompt = \"\"\"\n",
    "Analyse the content of this image and extract any related recipe information into structure components.\n",
    "Specifically, extract the recipe title, list of ingredients, step by step instructions, cousine type, dish type, any relevant tags or metadata.\n",
    "The output must be in a way suited for embedding in a Retrieval Augmented Generation (RAG) system.\n",
    "\"\"\""
   ]
  },
  {
   "cell_type": "code",
   "execution_count": 14,
   "id": "ad8e12b5-4665-475d-916f-0fef41e57126",
   "metadata": {},
   "outputs": [
    {
     "data": {
      "text/markdown": [
       "Here’s the structured recipe information extracted from the image:\n",
       "\n",
       "### Recipe Title\n",
       "Chicken Gumbo\n",
       "\n",
       "### Cuisine Type\n",
       "Southern\n",
       "\n",
       "### Dish Type\n",
       "Soup\n",
       "\n",
       "### Ingredients\n",
       "- 1 small stewing chicken\n",
       "- 2 tablespoons flour, melted\n",
       "- 3 tablespoons butter\n",
       "- 1 onion, chopped\n",
       "- 4 cups okra, sliced and chopped\n",
       "- 2 cups tomato pulp\n",
       "- Few sprigs parsley, chopped\n",
       "- Salt and pepper to taste\n",
       "- 4 cups water\n",
       "\n",
       "### Instructions\n",
       "1. Clean and dress the chicken, cutting it into serving portions.\n",
       "2. Dredge the chicken lightly with flour and sauté in melted butter along with the chopped onion.\n",
       "3. Once the chicken is nicely browned, add the okra, tomatoes, parsley, and water.\n",
       "4. Season to taste with salt and pepper.\n",
       "5. Cook slowly until the chicken is tender and the okra is well-cooked (about 2½ hours).\n",
       "6. If a thinner soup is preferred, increase the quantity of water as needed.\n",
       "\n",
       "### Relevant Tags\n",
       "- Comfort Food\n",
       "- Hearty\n",
       "- Traditional\n",
       "- Southern Cuisine\n",
       "\n",
       "This format is suitable for embedding in a Retrieval Augmented Generation (RAG) system."
      ],
      "text/plain": [
       "<IPython.core.display.Markdown object>"
      ]
     },
     "metadata": {},
     "output_type": "display_data"
    }
   ],
   "source": [
    "# Teste\n",
    "resposta = get_gpt_response(client, system_prompt, image_data)\n",
    "resposta[1]"
   ]
  },
  {
   "cell_type": "markdown",
   "id": "7b55847f-1dcd-4553-81ef-e1fe7f5b8784",
   "metadata": {},
   "source": [
    "---\n",
    "#### Precisa Melhorar\n",
    "No resultado, não foi mostrada todas as receitas da imagem. É preciso ir testando os prompts e parâmetros.\n",
    "<img src=\"5.rag_openai/img/Southern%20Cookbook%20of%20Fine%20Recipes_pg9.jpg\" width=\"700\"/>"
   ]
  },
  {
   "cell_type": "markdown",
   "id": "35e34448-0be9-41e9-90f6-ee58272c94e5",
   "metadata": {},
   "source": [
    "Devido custo e tempo, vamos continuar com o que temos."
   ]
  },
  {
   "cell_type": "code",
   "execution_count": 24,
   "id": "9271fd3f-7e4f-43c3-8af6-d382e5503579",
   "metadata": {},
   "outputs": [],
   "source": [
    "def converter_imagens_b64(imagens_path):\n",
    "    imagens_b64 = []\n",
    "    for imagem_path in imagens_path:\n",
    "        with open(imagem_path, \"rb\") as arquivo_imagem:\n",
    "            imagens_b64.append(base64.b64encode(arquivo_imagem.read()).decode('utf-8'))\n",
    "    return imagens_b64"
   ]
  },
  {
   "cell_type": "code",
   "execution_count": 18,
   "id": "bd65af0e-f094-4713-a800-477a3b1704c2",
   "metadata": {},
   "outputs": [],
   "source": [
    "def gerar_respostas(client, system_prompt, lista_imagens_b64):\n",
    "    respostas = []\n",
    "    for image_data in lista_imagens_b64:\n",
    "        respostas.append(generate(client, system_prompt, image_data))\n",
    "    return respostas"
   ]
  },
  {
   "cell_type": "code",
   "execution_count": 26,
   "id": "573bb056-a0ec-4674-86c5-2e796484867b",
   "metadata": {},
   "outputs": [],
   "source": [
    "def converter_gerar_tudo(client, system_prompt, imagens_path):\n",
    "    imagens_b64 = converter_imagens_b64(imagens_path)\n",
    "    responses = gerar_respostas(client, system_prompt, imagens_b64)\n",
    "    output = []\n",
    "    for i, imagem_path in enumerate(imagens_path):\n",
    "        output.append(\n",
    "            {\"imagem_path\": imagem_path, \"conteudo\": responses[i]}\n",
    "        )\n",
    "    return output"
   ]
  },
  {
   "cell_type": "code",
   "execution_count": 27,
   "id": "1c014df7-0d23-4df1-af0e-4065b32ed777",
   "metadata": {},
   "outputs": [],
   "source": [
    "def filtrar_receitas(receitas):\n",
    "    receitas_filtradas = []\n",
    "    for receita in receitas:\n",
    "        if any(keyword in receita[\"conteudo\"].lower() for keyword in [\"ingredients\", \"instructions\", \"recipe title\"]):\n",
    "            receitas_filtradas.append(receita)\n",
    "        else:\n",
    "            print(f\"Ignorando receita: {receita[\"imagem_path\"]}\")\n",
    "    return receitas_filtradas"
   ]
  },
  {
   "cell_type": "code",
   "execution_count": 25,
   "id": "8feab42e-b65e-4bbf-9dac-0c174fdb766b",
   "metadata": {},
   "outputs": [
    {
     "data": {
      "text/plain": [
       "52"
      ]
     },
     "execution_count": 25,
     "metadata": {},
     "output_type": "execute_result"
    }
   ],
   "source": [
    "len(converter_imagens_b64(image_paths))"
   ]
  }
 ],
 "metadata": {
  "kernelspec": {
   "display_name": "Python 3 (ipykernel)",
   "language": "python",
   "name": "python3"
  },
  "language_info": {
   "codemirror_mode": {
    "name": "ipython",
    "version": 3
   },
   "file_extension": ".py",
   "mimetype": "text/x-python",
   "name": "python",
   "nbconvert_exporter": "python",
   "pygments_lexer": "ipython3",
   "version": "3.13.5"
  }
 },
 "nbformat": 4,
 "nbformat_minor": 5
}
