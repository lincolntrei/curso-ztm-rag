{
 "cells": [
  {
   "cell_type": "markdown",
   "id": "5b67c251-cdc3-4715-a70b-c3b1cea6fb09",
   "metadata": {},
   "source": [
    "# Setup"
   ]
  },
  {
   "cell_type": "code",
   "execution_count": 1,
   "id": "ad56a868-09d3-4fcf-b99a-ece54c530303",
   "metadata": {},
   "outputs": [],
   "source": [
    "import os, base64\n",
    "from dotenv import load_dotenv\n",
    "from openai import OpenAI\n",
    "from pdf2image import convert_from_path\n",
    "\n",
    "load_dotenv()\n",
    "openai_api_key = os.getenv(\"OPENAI_API_KEY\")"
   ]
  },
  {
   "cell_type": "code",
   "execution_count": 2,
   "id": "a2437be9-aef7-44bd-9d71-8434f3d450a8",
   "metadata": {},
   "outputs": [],
   "source": [
    "from IPython.display import Markdown, display"
   ]
  },
  {
   "cell_type": "markdown",
   "id": "c0a42926-53b2-462d-8e8c-3d9f1f3c5b9b",
   "metadata": {},
   "source": [
    "# Perform OCR and transform to images"
   ]
  },
  {
   "cell_type": "code",
   "execution_count": 3,
   "id": "f5cd59bc-fb02-49cf-a126-81e699d652b4",
   "metadata": {},
   "outputs": [],
   "source": [
    "def pdf_to_images(pdf_path, output_folder):\n",
    "    if not os.path.exists(output_folder):\n",
    "        os.makedirs(output_folder)\n",
    "\n",
    "    imagens = convert_from_path(pdf_path)\n",
    "    image_paths = []\n",
    "\n",
    "    pdf_nome = os.path.splitext(os.path.basename(pdf_path))[0]\n",
    "    for i, imagem in enumerate(imagens):\n",
    "        image_path = os.path.join(output_folder, f\"{pdf_nome}_pg{i+1}.jpg\")\n",
    "        imagem.save(image_path, \"JPEG\")\n",
    "        image_paths.append(image_path)\n",
    "\n",
    "    return image_paths"
   ]
  },
  {
   "cell_type": "code",
   "execution_count": 4,
   "id": "cb8b6ed8-c620-472a-ab5e-2026d5e13418",
   "metadata": {},
   "outputs": [],
   "source": [
    "# Convertendo pdf para img\n",
    "main_folder = os.path.join(os.getcwd(), \"5.rag_openai\")\n",
    "receips_folder = os.path.join(main_folder, \"receips\")\n",
    "output_folder = os.path.join(main_folder, \"img\")\n",
    "\n",
    "pdf_path = os.path.join(receips_folder, \"Southern Cookbook of Fine Recipes.pdf\")\n",
    "image_paths = pdf_to_images(pdf_path, output_folder)"
   ]
  },
  {
   "cell_type": "code",
   "execution_count": 5,
   "id": "bc1114ac-3568-4632-8284-877c997a6b15",
   "metadata": {},
   "outputs": [],
   "source": [
    "client = OpenAI(api_key=openai_api_key)\n",
    "model = \"gpt-4o-mini\""
   ]
  },
  {
   "cell_type": "code",
   "execution_count": 6,
   "id": "e6e657df-bfdb-42a1-a4bb-68bd628e2c59",
   "metadata": {},
   "outputs": [],
   "source": [
    "# Read and encode one image\n",
    "image_path = os.path.join(output_folder, \"Southern Cookbook of Fine Recipes_pg9.jpg\")\n",
    "with open(image_path, \"rb\") as image_file:\n",
    "    image_data = base64.b64encode(image_file.read()).decode('utf-8')"
   ]
  },
  {
   "cell_type": "code",
   "execution_count": 7,
   "id": "3d6abfab-1163-4d2b-a42b-91a162a75e5e",
   "metadata": {},
   "outputs": [],
   "source": [
    "system_prompt = \"\"\"\n",
    "Analyse the content of this image and extract any related recipe information.\n",
    "\"\"\""
   ]
  },
  {
   "cell_type": "code",
   "execution_count": 8,
   "id": "0e524f64-be78-4bba-8ffd-2ba669559d17",
   "metadata": {},
   "outputs": [],
   "source": [
    "def generate(client, system_prompt, image, model=\"gpt-4o-mini\"):\n",
    "    response = client.chat.completions.create(\n",
    "        model=model,\n",
    "        messages=[\n",
    "            {\"role\": \"system\", \"content\": system_prompt},\n",
    "            {\"role\": \"user\", \"content\": [\n",
    "                \"This is the image from the recipe page.\",\n",
    "                {\"type\": \"image_url\",\n",
    "                 \"image_url\": {\"url\": f\"data:image/jpeg;base64,{image}\",\n",
    "                               \"detail\": \"high\"}}\n",
    "            ]}\n",
    "        ],\n",
    "        temperature=0\n",
    "    )\n",
    "    return response.choices[0].message.content"
   ]
  },
  {
   "cell_type": "code",
   "execution_count": 9,
   "id": "0b7ab6c2-ef6f-4e11-acb5-19829eccf375",
   "metadata": {},
   "outputs": [],
   "source": [
    "#response = generate(client, system_prompt, image_data)\n",
    "#display(Markdown(response))"
   ]
  },
  {
   "cell_type": "code",
   "execution_count": 10,
   "id": "f4ab6e06-d6f0-450d-89f6-ca1d49326c27",
   "metadata": {},
   "outputs": [],
   "source": [
    "def get_gpt_response(client, system_prompt, imagem):\n",
    "    response = generate(client, system_prompt, imagem)\n",
    "    return [response, display(Markdown(response))]"
   ]
  },
  {
   "cell_type": "code",
   "execution_count": 11,
   "id": "c84b594b-54a0-47f4-8b38-f8ed128432d5",
   "metadata": {},
   "outputs": [],
   "source": [
    "# Melhorando o system prompt\n",
    "system_prompt2 = \"\"\"\n",
    "Analyse the content of this image and extract any related recipe information into structure components.\n",
    "Specifically, extract the recipe title, list of ingredients, step by step instructions, cousine type, dish type, any relevant tags or metadata.\n",
    "The output must be in a way suited for embedding in a Retrieval Augmented Generation (RAG) system.\n",
    "\"\"\""
   ]
  },
  {
   "cell_type": "code",
   "execution_count": 12,
   "id": "ad8e12b5-4665-475d-916f-0fef41e57126",
   "metadata": {},
   "outputs": [],
   "source": [
    "# Teste\n",
    "#resposta = get_gpt_response(client, system_prompt2, image_data)\n",
    "#resposta[1]"
   ]
  },
  {
   "cell_type": "markdown",
   "id": "7b55847f-1dcd-4553-81ef-e1fe7f5b8784",
   "metadata": {},
   "source": [
    "---\n",
    "#### Precisa Melhorar\n",
    "No resultado, não foi mostrada todas as receitas da imagem. É preciso ir testando os prompts e parâmetros.\n",
    "<img src=\"5.rag_openai/img/Southern%20Cookbook%20of%20Fine%20Recipes_pg9.jpg\" width=\"700\"/>"
   ]
  },
  {
   "cell_type": "markdown",
   "id": "35e34448-0be9-41e9-90f6-ee58272c94e5",
   "metadata": {},
   "source": [
    "Devido custo e tempo, vamos continuar com o que temos."
   ]
  },
  {
   "cell_type": "code",
   "execution_count": 13,
   "id": "9271fd3f-7e4f-43c3-8af6-d382e5503579",
   "metadata": {},
   "outputs": [],
   "source": [
    "def converter_imagens_b64(imagens_path):\n",
    "    imagens_b64 = []\n",
    "    for imagem_path in imagens_path:\n",
    "        with open(imagem_path, \"rb\") as arquivo_imagem:\n",
    "            imagens_b64.append(base64.b64encode(arquivo_imagem.read()).decode('utf-8'))\n",
    "    return imagens_b64"
   ]
  },
  {
   "cell_type": "code",
   "execution_count": 14,
   "id": "bd65af0e-f094-4713-a800-477a3b1704c2",
   "metadata": {},
   "outputs": [],
   "source": [
    "def gerar_respostas(client, system_prompt, lista_imagens_b64):\n",
    "    respostas = []\n",
    "    for image_data in lista_imagens_b64:\n",
    "        respostas.append(generate(client, system_prompt, image_data))\n",
    "    return respostas"
   ]
  },
  {
   "cell_type": "code",
   "execution_count": 15,
   "id": "1c014df7-0d23-4df1-af0e-4065b32ed777",
   "metadata": {},
   "outputs": [],
   "source": [
    "def filtrar_receitas(receitas):\n",
    "    receitas_filtradas = []\n",
    "    for receita in receitas:\n",
    "        if any(keyword in receita[\"conteudo\"].lower() for keyword in [\"ingredients\", \"instructions\", \"recipe title\"]):\n",
    "            receitas_filtradas.append(receita)\n",
    "        else:\n",
    "            print(f\"Ignorando receita: {receita[\"imagem_path\"]}\")\n",
    "    return receitas_filtradas"
   ]
  },
  {
   "cell_type": "code",
   "execution_count": 16,
   "id": "573bb056-a0ec-4674-86c5-2e796484867b",
   "metadata": {},
   "outputs": [],
   "source": [
    "def converter_gerar_filtrar(client, system_prompt, imagens_path):\n",
    "    imagens_b64 = converter_imagens_b64(imagens_path)\n",
    "    responses = gerar_respostas(client, system_prompt, imagens_b64)\n",
    "    output = []\n",
    "    for i, imagem_path in enumerate(imagens_path):\n",
    "        output.append(\n",
    "            {\"imagem_path\": imagem_path, \"conteudo\": responses[i]}\n",
    "        )\n",
    "    output_filtrado = filtrar_receitas(output)\n",
    "    return output_filtrado"
   ]
  },
  {
   "cell_type": "code",
   "execution_count": 41,
   "id": "b155776c-4ff1-497a-8f66-97384d6ba9a8",
   "metadata": {},
   "outputs": [
    {
     "data": {
      "text/plain": [
       "[{'imagem_path': '5.rag_openai/img/Southern Cookbook of Fine Recipes_pg9.jpg',\n",
       "  'conteudo': 'Here’s the structured recipe information extracted from the image:\\n\\n### Recipe Title\\nChicken Gumbo\\n\\n### Cuisine Type\\nSouthern\\n\\n### Dish Type\\nSoup\\n\\n### Ingredients\\n- 1 small stewing chicken\\n- 2 tablespoons flour, melted\\n- 3 tablespoons butter\\n- 1 onion, chopped\\n- 4 cups okra, sliced and chopped\\n- 2 cups tomato pulp\\n- Few sprigs parsley, chopped\\n- Salt and pepper to taste\\n- 4 cups water\\n\\n### Instructions\\n1. Clean and dress the chicken, cutting it into serving portions.\\n2. Dredge the chicken lightly with flour and sauté in melted butter along with the chopped onion.\\n3. Once the chicken is nicely browned, add the okra, tomatoes, parsley, and water.\\n4. Season to taste with salt and pepper.\\n5. Cook slowly until the chicken is tender and the okra is well-cooked (about 2½ hours).\\n6. If a thinner soup is preferred, increase the quantity of water as needed.\\n\\n### Relevant Tags\\n- Comfort Food\\n- Hearty\\n- Traditional\\n- Family Recipe\\n\\nThis format is suitable for embedding in a Retrieval Augmented Generation (RAG) system.'},\n",
       " {'imagem_path': '5.rag_openai/img/Southern Cookbook of Fine Recipes_pg10.jpg',\n",
       "  'conteudo': 'Here’s the structured recipe information extracted from the image:\\n\\n### Recipe Title\\n1. Maryland Cream of Crab Soup\\n2. Crab Soup, Baltimore\\n3. Shrimp Gumbo\\n4. Oyster Soup\\n5. Oyster Bisque\\n6. Chicken Oyster Gumbo\\n\\n### Ingredients\\n1. **Maryland Cream of Crab Soup**\\n   - 1 tablespoon flour\\n   - 2 tablespoons butter\\n   - 2 quarts milk\\n   - 1 pint crab meat\\n   - ½ onion, sliced\\n   - ½ pint heavy cream\\n   - Chopped parsley, celery, salt, pepper\\n\\n2. **Crab Soup, Baltimore**\\n   - 2 tablespoons butter\\n   - 1 onion, finely chopped\\n   - 1 tablespoon flour\\n   - 2 cups warm water\\n   - 1 cup crab meat\\n   - ¼ cup chopped celery\\n   - Chopped parsley\\n   - Salt and pepper\\n   - Dash Tabasco sauce\\n\\n3. **Shrimp Gumbo**\\n   - 2 quarts fresh shrimp\\n   - 3 onions\\n   - ½ cup vinegar\\n   - Salt\\n   - 2 quarts water\\n   - 1 tablespoon butter, melted\\n   - 1 tablespoon flour\\n   - 4 cups okra, cut fine\\n   - 1 cup cooked rice\\n   - 6 large tomatoes, skinned\\n   - 2 bay leaves\\n   - Pinch sugar and pepper\\n\\n4. **Oyster Soup**\\n   - 1 quart oysters\\n   - 1 quart rich milk\\n   - 2 tablespoons butter\\n   - 1 tablespoon finely-chopped parsley\\n   - Dash onion salt or 1 teaspoon onion juice\\n   - Salt and pepper to taste\\n\\n5. **Oyster Bisque**\\n   - 1 quart oysters\\n   - 1 quart milk\\n   - 1 tablespoon flour\\n   - 1 tablespoon butter\\n   - ½ cup chopped celery\\n   - 1 green pepper\\n   - Salt and pepper\\n   - Worcestershire sauce\\n\\n6. **Chicken Oyster Gumbo**\\n   - 1 small chicken\\n   - 1 pound of beef cut up for stewing\\n   - 1 cup diced okra\\n   - 1 tablespoon butter\\n   - 3 pints water\\n   - 1 onion\\n   - 2 dozen oysters\\n   - 1½ teaspoons sassafras leaves\\n   - Salt and pepper\\n\\n### Step-by-Step Instructions\\n1. **Maryland Cream of Crab Soup**\\n   - Melt butter in a double boiler, add flour and blend.\\n   - Gradually add milk and onion, season to taste.\\n   - Cook slowly until thickened, then add crab meat.\\n   - Serve with whipped cream on top.\\n\\n2. **Crab Soup, Baltimore**\\n   - Melt butter, add onion and brown.\\n   - Blend in flour and add warm water; cook until thickened.\\n   - Add crab meat, celery, parsley, and seasonings.\\n   - Simmer for 30 minutes before serving, adding scalded milk.\\n\\n3. **Shrimp Gumbo**\\n   - Wash and clean shrimp; boil with onions, vinegar, and salt.\\n   - Drain and save stock; shell shrimp.\\n   - Brown remaining onion in butter, stir in flour and strained broth.\\n   - Add okra, rice, tomatoes, seasonings, and shelled shrimp.\\n   - Simmer before serving.\\n\\n4. **Oyster Soup**\\n   - Strain oysters and put oyster broth in a saucepan.\\n   - Heat broth and milk without boiling.\\n   - Gradually add oysters and heat until edges crinkle.\\n\\n5. **Oyster Bisque**\\n   - Grind oysters; make a cream soup with milk and flour.\\n   - Season with butter, salt, pepper, celery, and green pepper.\\n   - Keep hot but do not boil; add Worcestershire sauce before serving.\\n\\n6. **Chicken Oyster Gumbo**\\n   - Cut chicken and stew with beef and okra in water.\\n   - Remove chicken, cut into pieces, and add oysters with liquor.\\n   - Season with salt, pepper, and sassafras leaves.\\n\\n### Cuisine Type\\n- Southern\\n\\n### Dish Type\\n- Soup\\n\\n### Tags/Metadata\\n- Crab, Shrimp, Oyster, Gumbo, Bisque, Southern Cooking, Seafood, Comfort Food'},\n",
       " {'imagem_path': '5.rag_openai/img/Southern Cookbook of Fine Recipes_pg11.jpg',\n",
       "  'conteudo': 'Here’s the structured recipe information extracted from the image:\\n\\n### Recipe Title\\nCreole Soup à la Madame Begue\\n\\n### Ingredients\\n- 1 tablespoon butter, melted\\n- 1 tablespoon chopped green pepper\\n- 1 tablespoon chopped red pepper\\n- 1 tablespoon flour\\n- 1½ cups soup stock\\n- 1 cup tomato pulp\\n- ½ cup corn\\n- Salt and pepper\\n\\n### Instructions\\n1. Lightly brown the peppers in the melted butter.\\n2. Add the flour and stir.\\n3. Slowly add the soup stock and tomato pulp; continue to stir until soup boils.\\n4. Reduce the heat, cover, and let cook slowly for 20 minutes.\\n5. Strain into another pot, add the corn, and season to taste with salt and pepper.\\n\\n### Cuisine Type\\nSouthern\\n\\n### Dish Type\\nSoup\\n\\n### Tags/Metadata\\n- Comfort Food\\n- Vegetarian Option (if using vegetable stock)\\n- Quick Preparation\\n\\n---\\n\\n### Additional Recipes Mentioned\\n1. **Plantation Soup**\\n   - Ingredients: Carrot, celery, onion, soup stock, butter, flour, milk, grated cheese.\\n   - Instructions: Cook vegetables in stock, strain, and combine with a white sauce.\\n\\n2. **Onion Soup Au Gratin**\\n   - Ingredients: Meat broth, onions, butter, Worcestershire sauce, toast, grated parmesan cheese.\\n   - Instructions: Brown onions, add broth and seasonings, simmer, and serve with cheese on toast.\\n\\n3. **Southern Jugged Soup**\\n   - Ingredients: Potatoes, onion, tomatoes, turnip, peas, carrot, water, salt, sugar, pepper, allspice.\\n   - Instructions: Layer vegetables, boil with broth, strain, and cook.\\n\\n4. **Jellied Mélange**\\n   - Ingredients: Gelatin, chicken broth, onion juice, chicken, ham, celery, pimento.\\n   - Instructions: Soak gelatin, mix with broth and other ingredients, chill, and serve.\\n\\n5. **Vegetable Bouillon**\\n   - Ingredients: Tomatoes, celery, carrots, parsley, green pepper, bay leaf, onion juice, sherry wine, water.\\n   - Instructions: Boil vegetables, strain, and add sherry wine.\\n\\nThis structured format is suitable for embedding in a Retrieval Augmented Generation (RAG) system.'}]"
      ]
     },
     "execution_count": 41,
     "metadata": {},
     "output_type": "execute_result"
    }
   ],
   "source": [
    "# Teste com cinco receitas\n",
    "images_path = [\n",
    "    \"5.rag_openai/img/Southern Cookbook of Fine Recipes_pg9.jpg\",\n",
    "    \"5.rag_openai/img/Southern Cookbook of Fine Recipes_pg10.jpg\",\n",
    "    \"5.rag_openai/img/Southern Cookbook of Fine Recipes_pg11.jpg\"\n",
    "]\n",
    "receitas_filtradas = converter_gerar_filtrar(client, system_prompt2, images_path)\n",
    "receitas_filtradas"
   ]
  },
  {
   "cell_type": "markdown",
   "id": "157563e7-1df5-4524-b389-a7a9077bfbef",
   "metadata": {},
   "source": [
    "## Salvando dados em JSON"
   ]
  },
  {
   "cell_type": "code",
   "execution_count": 19,
   "id": "939c836b-6e75-4af0-a437-9a72e181ab67",
   "metadata": {},
   "outputs": [],
   "source": [
    "import json"
   ]
  },
  {
   "cell_type": "code",
   "execution_count": 42,
   "id": "54c0ea25-75fc-4c4e-a3eb-3f71dd4eccbd",
   "metadata": {},
   "outputs": [],
   "source": [
    "output_file = \"5.rag_openai/json/recipe_info.json\"\n",
    "\n",
    "with open(output_file, \"w\") as json_file:\n",
    "    json.dump(receitas_filtradas, json_file, indent = 4)"
   ]
  },
  {
   "cell_type": "markdown",
   "id": "7aaa9f35-c24c-42f1-9583-7bf2edfd14df",
   "metadata": {},
   "source": [
    "## Embeddings\n",
    "Hora de fazer os embeddings"
   ]
  },
  {
   "cell_type": "code",
   "execution_count": 43,
   "id": "04c476d6-aa84-4d49-b586-611e748191f0",
   "metadata": {},
   "outputs": [],
   "source": [
    "import numpy as np"
   ]
  },
  {
   "cell_type": "code",
   "execution_count": 44,
   "id": "7651cb5a-eb14-4fda-98d4-8f01ae475586",
   "metadata": {},
   "outputs": [],
   "source": [
    "# Carregando as receitas filtradas\n",
    "with open(\"5.rag_openai/json/recipe_info.json\", \"r\") as json_file:\n",
    "    receitas_filtradas = json.load(json_file)"
   ]
  },
  {
   "cell_type": "markdown",
   "id": "4fe1c377-5118-4495-ab9a-a88cf2b31ded",
   "metadata": {},
   "source": [
    "Os dados estão organizados por pagina. Poderiam estar organizadas por receita, mas deveria ser feito no pré processamento."
   ]
  },
  {
   "cell_type": "code",
   "execution_count": 57,
   "id": "c11e7b15-3079-459a-8b47-9bbc0d647677",
   "metadata": {},
   "outputs": [],
   "source": [
    "# Gerando embeddings por receita filtrada\n",
    "receitas_conteudo = [receita[\"conteudo\"] for receita in receitas_filtradas]\n",
    "embedding_response = client.embeddings.create(\n",
    "    input = receitas_conteudo,\n",
    "    model = \"text-embedding-3-large\"\n",
    ")"
   ]
  },
  {
   "cell_type": "markdown",
   "id": "e8b5b3fb-5509-410a-9572-3bf01692c73a",
   "metadata": {},
   "source": [
    "Pagina dos modelos de embeddings: https://platform.openai.com/docs/guides/embeddings#embedding-models"
   ]
  },
  {
   "cell_type": "code",
   "execution_count": 58,
   "id": "5c36dc66-d557-4527-b772-d7bfd76a6235",
   "metadata": {},
   "outputs": [],
   "source": [
    "# Extraindo os embeddings\n",
    "embeddings = [data.embedding for data in embedding_response.data]"
   ]
  },
  {
   "cell_type": "code",
   "execution_count": 59,
   "id": "257dde22-3fcd-4c99-acae-a08650f5b7aa",
   "metadata": {},
   "outputs": [],
   "source": [
    "# Convertendo os embeddings para numpy array\n",
    "embedding_matrix = np.array(embeddings)"
   ]
  },
  {
   "cell_type": "code",
   "execution_count": 60,
   "id": "aca44ee8-1b58-4004-a1d7-1b1198cfc325",
   "metadata": {},
   "outputs": [
    {
     "name": "stdout",
     "output_type": "stream",
     "text": [
      "Gerado embeddings de 3 receitas\n",
      "Cada embedding tem 3072 de tamanho\n"
     ]
    }
   ],
   "source": [
    "# Verificando os embeddings\n",
    "print(f\"Gerado embeddings de {len(receitas_filtradas)} receitas\")\n",
    "print(f\"Cada embedding tem {len(embeddings[0])} de tamanho\")"
   ]
  },
  {
   "cell_type": "markdown",
   "id": "6612013b-6646-47ec-bf87-9222e670d65b",
   "metadata": {},
   "source": [
    "## Retrieval System"
   ]
  },
  {
   "cell_type": "code",
   "execution_count": 61,
   "id": "82361f0c-0f0f-4b46-aa85-d015d0e44ece",
   "metadata": {},
   "outputs": [],
   "source": [
    "import faiss"
   ]
  },
  {
   "cell_type": "code",
   "execution_count": 62,
   "id": "96ceb7fa-6827-43c8-b0bc-14caec2ac343",
   "metadata": {},
   "outputs": [],
   "source": [
    "# Initialize the FAISS index\n",
    "index = faiss.IndexFlatL2(embedding_matrix.shape[1])\n",
    "index.add(embedding_matrix)"
   ]
  },
  {
   "cell_type": "code",
   "execution_count": 63,
   "id": "a53a64c9-4eee-4129-a712-b966ce3c35b8",
   "metadata": {},
   "outputs": [],
   "source": [
    "# Save the Index\n",
    "faiss.write_index(index, \"5.rag_openai/receitas_filtradas_index.index\")"
   ]
  },
  {
   "cell_type": "code",
   "execution_count": 64,
   "id": "7f2096fd-24ea-40a7-b269-baa5cd2213fb",
   "metadata": {},
   "outputs": [],
   "source": [
    "# Save the metadata\n",
    "# Isso serve para ver se os dados puxados pelo rag são relevantes para queryie, e se esta funcionando bem\n",
    "metadata = [{'receita_conteudo': receita['conteudo'],\n",
    "             'imagem_path': receita['imagem_path']} for receita in receitas_filtradas]\n",
    "with open(\"5.rag_openai/json/receita_metadata.json\", \"w\") as json_file:\n",
    "    json.dump(metadata, json_file, indent = 4)"
   ]
  },
  {
   "cell_type": "code",
   "execution_count": 71,
   "id": "0d27fb85-824e-4ce7-8b51-38c978e5e989",
   "metadata": {},
   "outputs": [],
   "source": [
    "def query_embeddings(query, index, metadada, k=5):\n",
    "    # Gerando os embeddings para a query\n",
    "    query_embedding = client.embeddings.create(\n",
    "        input=[query],\n",
    "        model=\"text-embedding-3-large\"\n",
    "    ).data[0].embedding\n",
    "    query_vector = np.array(query_embedding).reshape(1, -1)\n",
    "    \n",
    "    # Search the Faiss index\n",
    "    distances, indices = index.search(query_vector, min(k, len(metadata)))\n",
    "    \n",
    "    # Store the indices and distances\n",
    "    stored_indices = indices[0].tolist()\n",
    "    stored_distances = distances[0].tolist()\n",
    "    \n",
    "    # Print everything (indices, distances, metadata) -> Debugging\n",
    "    #print(f\"The query embedding is {query_embedding}\\n\")\n",
    "    #print(f\"The query vector is {query_vector}\\n\")\n",
    "    #print(f\"The indices are {indices}\\n\")\n",
    "    #print(f\"The distances are {distances}\\n\")\n",
    "    #print(f\"The stored indices are {stored_indices}\\n\")\n",
    "    #print(f\"The stored distances are {stored_distances}\\n\")\n",
    "    #for i, dist in zip(stored_indices, stored_distances):\n",
    "    #    if 0 <= i < len(metadata): #se i for maior ou igual a 0 e menor que metadata\n",
    "    #        print(f\"Distances: {dist}, Metadata: {metadata[i]['receita_conteudo']}\")\n",
    "    \n",
    "    # Retornando os resultados\n",
    "    return [(\n",
    "            metadata[i]['receita_conteudo'], dist\n",
    "        ) for i, dist in zip(\n",
    "            stored_indices, stored_distances\n",
    "        ) if 0 <= i < len(metadata)]"
   ]
  },
  {
   "cell_type": "code",
   "execution_count": 70,
   "id": "e5a56c14-05ab-415b-8e86-dee269a04202",
   "metadata": {},
   "outputs": [
    {
     "name": "stdout",
     "output_type": "stream",
     "text": [
      "The query embedding is [-0.019710248336195946, -0.028066067025065422, -0.02203328348696232, 0.016628669574856758, -0.04790668934583664, -0.048831161111593246, 0.03799822926521301, 0.017932415008544922, 0.0015822718851268291, 0.004142352379858494, -0.0047971876338124275, -0.013878954574465752, -0.012883367016911507, -0.0016044947551563382, 0.03806934133172035, -0.02381111867725849, 0.017019793391227722, -0.016676079481840134, -0.007277265656739473, 0.002324517350643873, -0.03185877948999405, 0.02010137215256691, 0.015004915185272694, -0.007810615468770266, 0.006263900548219681, 0.01783759705722332, 0.0033926991745829582, -0.011206277646124363, -0.03970494866371155, 0.04233614355325699, -0.003641595831140876, 0.023704446852207184, -0.03463219851255417, -0.02117992378771305, -0.015893831849098206, 0.011307021602988243, -0.014767871238291264, 0.005274239461869001, 0.008503970690071583, 0.019413942471146584, -0.012444835156202316, 0.007792836986482143, 0.00036093726521357894, -0.008266925811767578, -0.012421130202710629, 0.0165219996124506, 0.06229528784751892, 0.019745804369449615, -0.01549085695296526, -0.011514435522258282, 0.04605774208903313, 0.00846248771995306, 0.03899381682276726, 0.000999290612526238, -0.02709418348968029, 0.06679913401603699, 0.012243347242474556, -0.045725878328084946, 0.0012541133910417557, -0.010838858783245087, 0.01891614869236946, -0.014210816472768784, -0.026714913547039032, 0.02946462854743004, 0.014163407497107983, -0.025529690086841583, -0.0032534354832023382, 0.013558943755924702, 0.006927624810487032, 0.027829021215438843, 0.011526287533342838, -0.006340939551591873, 0.0031763960141688585, 0.02638304978609085, 0.006607614923268557, 0.006732063367962837, 0.002324517350643873, -0.048831161111593246, 0.030934303998947144, 0.042075395584106445, -0.0256482120603323, -0.010489217936992645, -0.006340939551591873, -0.016510147601366043, -0.021322151646018028, 0.040890172123909, 0.006880215834826231, -0.04657923802733421, 0.011099607683718204, -0.027189001441001892, 0.07021257281303406, -0.01021661702543497, 0.033328454941511154, 0.0023230358492583036, 0.038330093026161194, 0.0030756520573049784, 0.02598007395863533, -0.009114360436797142, 0.0050964560359716415, -0.014471565373241901, -0.055895086377859116, -0.0019467277452349663, 0.0027452714275568724, -0.014744166284799576, -0.02550598606467247, 0.04432731866836548, 0.027544569224119186, 0.033494383096694946, -0.01549085695296526, -0.09026654064655304, 0.008912872523069382, 0.009784011170268059, 0.006234269589185715, 0.018015380948781967, -0.01905837655067444, -0.011627031490206718, 0.0052772024646401405, -0.009985499083995819, 0.038021933287382126, -0.0028415706474334, 0.01929542049765587, 0.01949690841138363, 0.024142980575561523, 0.03792711719870567, -0.026951957494020462, -0.004438657779246569, -0.006536501459777355, -0.02013692818582058, 0.0013741172151640058, 0.01827612891793251, -0.006897994317114353, -0.004444583784788847, -0.03233286738395691, 0.029132766649127007, -0.0029008318670094013, -0.018193162977695465, 0.023052575066685677, 0.01327449083328247, 0.0002200068993261084, 0.004100869409739971, 0.0028919426258653402, 0.01417525950819254, -3.0417621019296348e-05, -0.010098095051944256, 0.0012237421469762921, 0.02780531719326973, -0.006915772799402475, -0.015087881125509739, -0.006957255303859711, 0.03036539815366268, -0.050822336226701736, 0.0016193101182579994, -0.00038778994348831475, -0.019805066287517548, -0.02276812121272087, -0.010832932777702808, -0.006583910435438156, 0.0008607677882537246, 0.030483920127153397, 0.03636262193322182, 0.002708233194425702, -0.029583150520920753, 0.017576847225427628, 0.019508760422468185, -0.03164543956518173, 0.018536878749728203, -0.03136098384857178, 0.0053749834187328815, -0.05134383216500282, 0.014495269395411015, -0.03792711719870567, 0.010791449807584286, 0.0001827835221774876, 0.005134976003319025, -0.02101399376988411, 0.01895170658826828, 0.005878703203052282, -0.029512036591768265, 0.029654264450073242, 0.0005311277927830815, -0.026477867737412453, -0.017173873260617256, -0.009689193218946457, 0.0317639596760273, -0.006204639095813036, -0.014886393211781979, -0.014874541200697422, 0.04347395896911621, 0.004974971059709787, -0.00573351327329874, -0.00891879852861166, -0.008527674712240696, -0.03382624685764313, 0.02590896189212799, 0.027236411347985268, -0.036670781672000885, -0.03598335012793541, 0.005763143766671419, -0.02763938531279564, -0.008723236620426178, -0.010192912071943283, -0.011852223426103592, -0.01016920804977417, -0.01763610914349556, 0.004456436261534691, -0.008586936630308628, 0.025766734033823013, -0.02404816262423992, 0.03290177509188652, -0.014673053286969662, 0.027710499241948128, -0.01060773991048336, -0.012101120315492153, -0.015076029114425182, 0.006797250360250473, -0.006975033786147833, -0.03975236043334007, 0.010589961893856525, -0.015597526915371418, 0.013535239733755589, 0.004909783601760864, -0.009736602194607258, -0.024534102529287338, -0.022519225254654884, -0.01780204102396965, -0.005949816200882196, 0.004299394320696592, 0.008243221789598465, 0.017102759331464767, -0.014151555486023426, -0.006619466934353113, -0.0001583382982062176, -0.005336463917046785, 0.01282410603016615, -0.01128331758081913, -0.012835958041250706, -0.009760306216776371, 0.013997476547956467, -0.02296960912644863, 0.01770722307264805, 0.01814575493335724, 0.03631521388888359, -0.059071484953165054, -0.02117992378771305, -0.016154581680893898, -0.006074264645576477, -0.020480642095208168, -0.030863190069794655, 0.00812469981610775, -0.020551756024360657, -0.010951454751193523, 0.0186198428273201, -0.00013759691501036286, 0.0032297309953719378, 0.007988398894667625, -0.01267002709209919, 0.02645416371524334, 0.01922430656850338, -0.0008933614008128643, 0.0688377171754837, 0.007520236074924469, -0.03266472741961479, -0.02493707835674286, -0.024818556383252144, 0.006672801915556192, -0.03892270475625992, 0.013393012806773186, -0.04634219408035278, 0.021405115723609924, 0.022720713168382645, 0.044682882726192474, -0.04425620287656784, -0.03830638900399208, -0.009819567203521729, 0.018809478729963303, -0.024142980575561523, 0.015253812074661255, 0.00820766482502222, 0.03145580366253853, 0.04940006881952286, -0.0015118992887437344, 0.00886546354740858, 0.012895219959318638, 0.04992156848311424, 0.03716857358813286, 0.0027482344303280115, -0.040961284190416336, -0.0025126715190708637, -0.010210691019892693, -0.018572434782981873, -0.00816025584936142, -0.009985499083995819, -0.01327449083328247, 0.009878828190267086, -0.018762070685625076, 0.04416138678789139, 0.03726339340209961, -0.016604965552687645, 0.035319626331329346, 0.07993140071630478, -0.017647961154580116, -0.059308528900146484, -0.021499933674931526, -0.010850710794329643, -0.029820194467902184, 0.020895469933748245, -0.01573975384235382, -0.019520612433552742, -0.013736727647483349, 0.0025704510044306517, 0.025932665914297104, -0.038021933287382126, 0.011715923435986042, -0.03034169226884842, -0.038021933287382126, 0.02138141170144081, 0.0042549483478069305, 0.02899053879082203, -0.0025971184950321913, 0.0051942369900643826, -0.029369810596108437, -0.04520438238978386, -0.029037948697805405, 0.0306735560297966, 0.011627031490206718, 0.0061394521035254, 0.012907071970403194, -0.004530512727797031, 0.026667503640055656, 0.012326313182711601, 0.0061335256323218346, -0.04958970472216606, -0.007170595228672028, -0.005890555214136839, 0.013594500720500946, -0.041743531823158264, 0.016782749444246292, 0.029346106573939323, -0.02550598606467247, -0.01939023844897747, 0.015870127826929092, -0.01271743606775999, -0.01112923864275217, -0.04456436261534691, 0.01719757728278637, 0.046034038066864014, 0.017316099256277084, 0.035959646105766296, -0.006447609979659319, -0.013890806585550308, 0.0004763112519867718, -0.0030400953255593777, 0.032617319375276566, 0.006192787084728479, -0.009114360436797142, -0.03534333035349846, -0.009695119224488735, -0.0014496751828119159, 0.016154581680893898, 0.022305885329842567, 0.04352136701345444, -0.021950319409370422, 0.01824057288467884, -0.0044682882726192474, -0.019485056400299072, -0.021571047604084015, -0.02899053879082203, -0.061536747962236404, -0.0018059826688840985, -0.029535742476582527, -0.021096957847476006, 0.030009830370545387, 0.05561063438653946, 0.014530826359987259, 0.01723313331604004, -0.0016844973433762789, -0.02280367910861969, -0.008669901639223099, -0.03664707764983177, -0.013795988634228706, 0.021274741739034653, 0.022246623411774635, -0.0027734204195439816, -0.036338917911052704, -0.004767557140439749, -0.03591223806142807, -0.005940927192568779, 0.021831795573234558, 0.0032267679926007986, 0.02550598606467247, -0.030152058228850365, 0.007431344594806433, -0.03394477069377899, 0.02212810143828392, -0.002468225546181202, -0.024249650537967682, 0.048736345022916794, -0.03567519411444664, 0.03328104317188263, 0.02581414394080639, 0.035319626331329346, -0.03591223806142807, 0.0019970997236669064, -0.026880843564867973, -0.0031763960141688585, -0.00912028644233942, 0.026975661516189575, -0.05916630104184151, -0.029132766649127007, -0.036196690052747726, 0.021274741739034653, 0.02046879008412361, 0.02371630072593689, -0.039136044681072235, -0.01608346775174141, 0.028397928923368454, -0.027378637343645096, 0.033636610954999924, -0.02479485236108303, -8.440079545835033e-05, 0.009535114280879498, -0.004767557140439749, 0.013215229846537113, -0.014270077459514141, -0.03337586298584938, -0.0022356256376951933, 0.01794426701962948, 0.018323538824915886, -0.030317988246679306, -0.0059646316803991795, 0.0015215292805805802, -0.014459713362157345, 0.021499933674931526, 0.052244603633880615, 0.025292646139860153, -0.01858428679406643, -0.004186797887086868, 0.028706086799502373, -0.009535114280879498, 0.007703945506364107, 0.03859084099531174, -0.01202408131211996, -0.003244546242058277, 0.016474591568112373, 0.008183960802853107, -0.04608144611120224, -0.01564493589103222, -0.01776648312807083, 0.003585297614336014, -0.03247509524226189, -0.012907071970403194, -0.0144241563975811, 0.0022148843854665756, 0.03567519411444664, 0.013215229846537113, -0.019970998167991638, -0.03536703437566757, 0.05537359043955803, 0.020113224163651466, 0.00820766482502222, -0.015964945778250694, 0.01271743606775999, 0.06376496702432632, 0.01192333735525608, -0.014838984236121178, 0.01939023844897747, -0.03529592230916023, 0.003241583239287138, -0.01854873076081276, -0.004109758418053389, 0.014412304386496544, -0.002360074082389474, -0.03114764392375946, 0.012918923981487751, 0.014708610251545906, 0.008901020511984825, -0.001757092191837728, 0.020931027829647064, -0.03911234065890312, -0.04375841096043587, -0.02378741279244423, 0.040961284190416336, -0.0057364762760698795, -0.013155968859791756, 0.01770722307264805, -0.011846297420561314, -0.009398813359439373, 0.008012102916836739, 0.005389798898249865, 0.0387093648314476, 0.007940989919006824, 0.022080693393945694, 0.016391625627875328, 0.0027097146958112717, 0.0287534948438406, -0.011040346696972847, 0.000596315017901361, 0.03662337362766266, 0.022862939164042473, -0.0014096738304942846, -0.022625895217061043, 0.014329338446259499, -0.03946790471673012, -0.0012452242663130164, 0.04058201611042023, -0.003866787999868393, -0.012764845043420792, 0.020125076174736023, -0.014554531313478947, 0.05693808197975159, 0.04115092009305954, 0.0017719074385240674, 0.016095319762825966, -0.004569032229483128, -0.007206152193248272, 0.006726136896759272, -0.045180678367614746, 0.02240070328116417, 0.020148780196905136, -0.0050757150165736675, 0.0004574217600747943, 0.02787643112242222, 0.011627031490206718, -0.019769510254263878, -0.013464126735925674, -0.010335138998925686, 0.03598335012793541, 0.01111738570034504, 0.029891308397054672, -0.019437646493315697, 0.009381035342812538, 0.0036504848394542933, 0.015230108052492142, 0.0028593488968908787, 0.016201989725232124, -0.011046272702515125, -0.017114611342549324, -0.001278558629564941, -0.008545453660190105, -0.020800651982426643, -0.03894640877842903, -0.02605118788778782, -0.00466088717803359, -0.00410383241251111, -0.005416466388851404, -0.0032089895103126764, 0.005730550270527601, -0.023017019033432007, 0.009582523256540298, -0.0030549108050763607, -0.0003583445795811713, -0.019911736249923706, -0.030057240277528763, 0.012492244131863117, 0.008314334787428379, 0.004583847709000111, 0.02391778863966465, -0.003425292670726776, -0.005149791482836008, -0.0007807652582414448, 0.022068841382861137, -0.009043246507644653, 0.007632832042872906, -0.025766734033823013, -0.0021363634150475264, -0.00033723280648700893, -0.0073483786545693874, 0.033802542835474014, 0.021334003657102585, 0.013416717760264874, -0.0007837283192202449, -0.006311309058219194, 0.034750718623399734, 0.01557382196187973, -0.006649097427725792, 0.025719325989484787, 0.006874289829283953, 0.013286342844367027, -0.010465513914823532, -0.0019111711299046874, 0.005268313456326723, 0.029037948697805405, -0.04916302487254143, -0.0052416459657251835, -0.005606101825833321, 0.02621711976826191, 0.017185725271701813, -0.0019482092466205359, -0.013890806585550308, 0.0236451867967844, -0.002518597524613142, 0.006572057958692312, -0.018216868862509727, 0.01584642380475998, 0.020693982020020485, 0.013487830758094788, -0.02381111867725849, 0.03719227761030197, 0.0002383408136665821, -0.008047659881412983, 0.014246373437345028, -0.006945403292775154, -0.005214978475123644, 0.006886142306029797, 0.019034670665860176, -0.005952779669314623, 0.02422594651579857, 0.012563357129693031, -0.0008111365605145693, 0.013724875636398792, -0.03344697505235672, 0.012492244131863117, -0.044943634420633316, -0.0165219996124506, -0.041269443929195404, -0.026643799617886543, -0.0061394521035254, -0.02128659375011921, 0.0016385699855163693, 0.004853485617786646, 0.027852725237607956, 0.005007564555853605, 0.028231997042894363, 0.00138967321254313, 0.025008192285895348, 0.014649348333477974, -0.023538516834378242, 0.014850836247205734, -0.00535424193367362, -0.025411168113350868, 0.019544316455721855, 0.006163156591355801, 0.030720964074134827, -0.015099733136594296, 0.0025837847497314215, 0.001862280652858317, 0.013369308784604073, 0.0343240387737751, -0.016948679462075233, -0.020788799971342087, -0.0135115347802639, -0.008349891752004623, -0.014447861351072788, 0.0044001382775604725, -0.023775560781359673, 0.005268313456326723, -0.006767619866877794, 0.021914761513471603, -0.007437270600348711, -0.005460912361741066, -0.017422769218683243, 0.006026855669915676, -0.003736413549631834, 0.022021431475877762, -0.011727775447070599, -0.03290177509188652, -0.0035260366275906563, 0.047148145735263824, -0.022851087152957916, 0.034039586782455444, -0.023538516834378242, 0.0031882482580840588, 0.028066067025065422, 0.03143209591507912, 0.004574958235025406, 0.011846297420561314, -0.009143990464508533, 0.026572685688734055, 0.006086117122322321, -0.021571047604084015, 0.020053962245583534, 0.005297943949699402, -0.00976623222231865, 0.035319626331329346, 0.012859662994742393, -0.014412304386496544, -0.014613792300224304, 0.027189001441001892, 0.049305252730846405, -0.028540154919028282, -0.009351404383778572, 0.03121875785291195, -0.005200162995606661, 0.011484804563224316, 0.006412053015083075, -0.009641784243285656, -0.03470331057906151, -0.004127536900341511, 0.0016963495872914791, -0.014601939357817173, -0.009546966291964054, 0.013286342844367027, 0.028421632945537567, 0.011627031490206718, -0.02165401354432106, -0.01167444046586752, -0.004643108695745468, 0.026880843564867973, 0.002048953203484416, 0.02019619010388851, -0.02033841609954834, 0.01911763660609722, -0.008403226733207703, 0.0073009696789085865, 0.014720462262630463, 0.030886895954608917, 0.005825368221849203, 0.0058816662058234215, -0.045014746487140656, -0.03036539815366268, 0.024273354560136795, 0.029772786423563957, -0.006103895138949156, -0.03546185418963432, -0.004166056867688894, -0.0048949685879051685, -0.0009333626367151737, -0.0022371073719114065, -0.03105282597243786, 0.0036801155656576157, -0.040890172123909, -0.03256991133093834, -0.005795737262815237, -0.007206152193248272, 0.014945654198527336, 0.044303614646196365, 0.038424909114837646, 0.019129488617181778, -0.033873654901981354, -0.01820501498878002, 0.0019170972518622875, -0.0016993125900626183, -0.02287479117512703, 0.005345352925360203, 0.024439286440610886, 0.016936827450990677, -0.007982472889125347, 0.023159245029091835, -0.01597679778933525, 0.03837750107049942, 0.01366561371833086, -0.005333500914275646, -0.014910097233951092, 0.014281929470598698, -0.005478690378367901, -0.009896607138216496, -0.004017903935164213, 0.021322151646018028, -0.028777198866009712, -0.0020193227101117373, -0.009541040286421776, -0.0023748893290758133, 0.0017452399479225278, 0.017861301079392433, 0.023254062980413437, 0.021239185705780983, -0.004948303569108248, 0.01077959779649973, 0.01999470219016075, -0.02006581425666809, -0.010092169046401978, -0.0014570828061550856, 0.0009600301273167133, -0.006435757502913475, -0.01205963734537363, -0.026809729635715485, -0.003908270969986916, 0.020788799971342087, 0.023289619013667107, 0.02486596629023552, 0.025553394109010696, -0.011301095597445965, 0.00851582270115614, -0.0018578361487016082, -0.028658676892518997, -0.011804815381765366, 0.011662588454782963, -0.025079306215047836, 0.013606352731585503, 0.040890172123909, 0.0005007564323022962, 0.01287151500582695, 0.01517084613442421, -0.004148278385400772, -0.00983142014592886, 0.024510398507118225, 0.004100869409739971, -0.008332113735377789, 0.010056612081825733, -0.014767871238291264, -0.022341441363096237, 0.016439033672213554, -0.012587062083184719, 0.023289619013667107, 0.03294918313622475, 0.012527801096439362, -0.015858275815844536, -0.024486694484949112, 0.008841758593916893, 0.017351655289530754, 0.01780204102396965, -0.025624508038163185, 0.00483867060393095, 0.022412555292248726, -0.0072654131799936295, 0.016036059707403183, -0.0005281647318042815, 0.006897994317114353, -0.017173873260617256, 0.009570671245455742, 0.0452754944562912, 0.040890172123909, -0.006512796971946955, -0.017647961154580116, 0.041435375809669495, -0.002921573119238019, 0.032072119414806366, -0.0035823346115648746, -0.0008555824169889092, 0.023431846871972084, -0.011538139544427395, -0.003241583239287138, -0.023740004748106003, 0.02963056042790413, -0.007698019500821829, 0.004115684889256954, 0.004957192577421665, -0.012764845043420792, 0.011686292476952076, -0.009001764468848705, 0.009090655483305454, -0.01052477490156889, 0.005090530030429363, -0.018453912809491158, -0.019105784595012665, 0.02203328348696232, 0.023834822699427605, 0.006299457047134638, 0.025221532210707664, 0.004441620782017708, -0.021985875442624092, -0.05504172667860985, 0.04766964539885521, -0.003330474952235818, -0.02084806188941002, 0.01672348752617836, -0.030697260051965714, 0.009861050173640251, -0.006186861079186201, -0.04240725561976433, -0.00027500864234752953, 0.0015807903837412596, 0.015360482037067413, 0.034110698848962784, 0.03783229738473892, 0.008681753650307655, -0.011099607683718204, 0.009600301273167133, 0.032214343547821045, -0.009789937175810337, 0.018228720873594284, -0.008598788641393185, -0.005040158051997423, 0.00486533809453249, -0.008438783697783947, -0.07798763364553452, 0.005952779669314623, -0.0028089771512895823, 0.004651997704058886, -0.005816478747874498, 0.009363257326185703, 0.003182322019711137, -0.022246623411774635, 0.01858428679406643, -0.011911485344171524, -0.0007322452147491276, -0.04958970472216606, 0.028943130746483803, -0.017102759331464767, 0.01946135237812996, -0.005446096882224083, -0.003558630123734474, -0.03408699482679367, 0.009268439374864101, -0.0047823721542954445, 0.0021511786617338657, -0.006092043127864599, 0.007194299716502428, 0.029132766649127007, -0.0033689946867525578, -0.0038875294849276543, 0.015799013897776604, -0.013144115917384624, -0.0018445022869855165, 0.03027058020234108, 0.006186861079186201, 0.012954480946063995, -0.006874289829283953, 0.0022445148788392544, -0.011295169591903687, -0.020895469933748245, 0.032072119414806366, -0.026975661516189575, 0.03482183441519737, 0.03418181464076042, -0.01213075127452612, -0.00013815247802995145, -0.018430208787322044, -0.018418356776237488, 0.006743915379047394, -0.007597275543957949, 0.021168071776628494, 0.030720964074134827, 0.007929137907922268, 0.008426930755376816, -0.015348630025982857, 0.0071824477054178715, -0.025387464091181755, -0.006577984429895878, 0.02709418348968029, 0.0031645437702536583, 0.012207790277898312, 0.0196272823959589, -0.006980959791690111, 0.0038549357559531927, 0.017304247245192528, -0.006927624810487032, 0.007674315012991428, 0.027994953095912933, 0.03200100362300873, 0.01699608936905861, 0.02470003440976143, 0.016000501811504364, -0.004850522615015507, -0.024071866646409035, 0.012681879103183746, 0.013795988634228706, -0.012101120315492153, -0.011757406406104565, -0.024771148338913918, -0.0041216108947992325, -0.0035704823676496744, -0.03209582343697548, 0.0034934428986161947, 0.014993063174188137, 0.0020341379567980766, 0.027117887511849403, 0.01632051169872284, 0.0032267679926007986, -0.003931975457817316, -0.018607990816235542, 0.004151241388171911, -0.011538139544427395, -0.005037195049226284, -0.03392106294631958, -0.013926362618803978, -0.016936827450990677, 0.012622618116438389, -0.011846297420561314, -0.00021167330851312727, 0.034039586782455444, -0.0195324644446373, 0.02161845564842224, 0.0091736214235425, 0.013843397609889507, -0.028658676892518997, 0.002023767214268446, 0.007472827099263668, 0.01831168681383133, 0.004100869409739971, 0.022815531119704247, -0.004314209334552288, 0.011638883501291275, -0.006892068311572075, 0.010749966837465763, 0.018062788993120193, -0.009155843406915665, 0.02432076260447502, -0.014945654198527336, 0.04686369374394417, -0.030152058228850365, -0.018596138805150986, 0.007200226187705994, -0.0337788388133049, 0.010495143942534924, 0.007200226187705994, 0.003063799813389778, 0.03759525343775749, 0.027354933321475983, -0.007069851737469435, -0.009784011170268059, 0.027378637343645096, -0.012800402007997036, 0.006720210891216993, -0.013689318671822548, 0.020931027829647064, -0.019722100347280502, 0.023728152737021446, -0.012563357129693031, -0.009724749252200127, -0.04591551423072815, -0.0025808217469602823, -0.03458479046821594, 0.011431469582021236, 0.005392761901021004, 0.025055602192878723, -0.006850585341453552, -0.04740889370441437, -0.004986823070794344, 0.011514435522258282, -0.00910250749439001, 0.01641532965004444, -0.0033067704644054174, -0.011852223426103592, -0.027070479467511177, 0.014092294499278069, -0.002604526234790683, 0.010909971781075, -0.0039023447316139936, 0.05006379261612892, 0.02963056042790413, 0.010021055117249489, 0.023526664823293686, -0.00022371072554960847, -0.005300906952470541, 0.017553143203258514, 0.01942579448223114, -0.009446222335100174, -0.0023704448249191046, -0.043260615319013596, -0.002577858744189143, 0.016130875796079636, -0.024889670312404633, -0.007449122611433268, 0.005069788545370102, -0.014957506209611893, 0.006275752559304237, -0.05115419998764992, 0.0074135661125183105, -0.004343839827924967, 0.004930525086820126, 0.019781362265348434, -0.009416592307388783, 0.030294284224510193, -0.009932163171470165, 0.0009748454322107136, -0.012172234244644642, -0.02787643112242222, -0.006601688917726278, -0.00957659725099802, 0.02820829302072525, -0.01287151500582695, 0.017019793391227722, -0.04482511058449745, 0.04117462411522865, 0.003884566482156515, 0.010619592852890491, -0.03837750107049942, 0.0023956308141350746, 0.006921698804944754, -0.021073253825306892, 0.0035319626331329346, 0.00881805457174778, -0.013475978747010231, 0.017695371061563492, 0.01422266848385334, 0.003694930812343955, 0.0043853227980434895, -0.030152058228850365, 0.012385574169456959, 0.0016474591102451086, 0.010678853839635849, 0.0016489406116306782, -0.013641909696161747, -0.004340876825153828, 0.022614043205976486, -0.04252577945590019, -0.011935189366340637, 0.04006051644682884, -0.020326564088463783, 0.0005637214053422213, 0.0319535955786705, 0.02899053879082203, 0.0013807840878143907, -0.01417525950819254, -0.029986126348376274, 0.02462892048060894, 0.024273354560136795, -0.01327449083328247, -0.006530575454235077, -0.006897994317114353, 0.010121799074113369, 0.017896858975291252, 0.0027349006850272417, -0.021334003657102585, -0.026596389710903168, 0.013748579658567905, 0.047480009496212006, -0.003472701646387577, -0.012018155306577682, -0.016818305477499962, -0.006512796971946955, -0.02179623953998089, 0.009333626367151737, 0.015479004010558128, 0.00270230695605278, -0.010240321047604084, 0.01092775072902441, -0.009339552372694016, -0.002032656455412507, 0.005460912361741066, 0.0008637307910248637, -0.00774542847648263, 0.026809729635715485, 0.020314712077379227, 0.0018800590187311172, 0.010056612081825733, 0.009043246507644653, -0.003363068448379636, -0.015348630025982857, -0.002360074082389474, -0.003727524308487773, 0.030294284224510193, 0.02678602561354637, 0.011384060606360435, 0.0010992938186973333, -0.027947543188929558, -0.012539653107523918, 0.009464000351727009, 0.0012889293720945716, 0.019947292283177376, 0.0046312566846609116, 0.02419038861989975, 0.008806202560663223, -0.03271213918924332, -0.025221532210707664, 0.030152058228850365, -0.012551505118608475, 0.01767166517674923, 0.03273584321141243, -0.01955617032945156, -0.003934938460588455, 0.01167444046586752, 0.011449248529970646, -0.005982410162687302, -0.0033482532016932964, -0.06367014348506927, 0.0022608116269111633, -0.019876180216670036, 0.007988398894667625, -0.009392887353897095, -0.010376621969044209, -0.0017230170778930187, 0.003985310439020395, -0.02068213000893593, 0.0012822624994441867, 0.013179672881960869, 0.01601235382258892, 0.001645977608859539, 0.01402118057012558, 0.002106732688844204, -0.010732188820838928, -0.03287806734442711, 0.0031467655207961798, -0.017280543223023415, 0.006275752559304237, 0.016095319762825966, 0.029820194467902184, -0.03987088054418564, -0.00046742206905037165, -0.01282410603016615, 0.02970167249441147, -0.03453737869858742, 0.02676232159137726, -0.005229793954640627, -0.018370946869254112, 0.017019793391227722, -0.022507373243570328, 0.02567191608250141, 0.0027008254546672106, -0.0016593113541603088, 0.003377883695065975, 0.0007048369152471423, -0.017019793391227722, 0.009552892297506332, 0.01557382196187973, 0.017885005101561546, -0.025861551985144615, -0.008581009693443775, 0.006945403292775154, 0.003694930812343955, 0.02344369888305664, -0.03918345272541046, -0.010092169046401978, 0.017683517187833786, 0.0007066888501867652, -0.028089771047234535, -0.004530512727797031, 0.021594751626253128, -0.014258225448429585, -0.01726868934929371, -0.006619466934353113, 0.02293405309319496, 0.013772284612059593, 0.0020178412087261677, 0.006204639095813036, 0.0001525047846371308, 0.007431344594806433, 0.01406858954578638, 0.012990036979317665, 0.015265664085745811, 0.015656787902116776, 0.03259361535310745, -0.015064176172018051, -0.009849198162555695, 0.018607990816235542, 0.003866787999868393, -0.009138064458966255, 0.011241834610700607, -0.016201989725232124, -0.01398562453687191, 0.006352792028337717, -0.012575209140777588, 0.02581414394080639, -0.004077164921909571, -0.02256663516163826, 0.0034904798958450556, 0.019070228561758995, 0.020871765911579132, 0.012563357129693031, 0.0007437270251102746, 0.0006063153268769383, 0.018370946869254112, 0.011792962439358234, 0.01406858954578638, 0.035485558211803436, 0.020089520141482353, 0.0016326438635587692, -0.003152691526338458, -0.006370570510625839, -0.024581512436270714, -0.0027067516930401325, 0.018050936982035637, 0.013606352731585503, 0.04043978825211525, -0.009736602194607258, 0.015052324160933495, 0.009191399440169334, -0.022116249427199364, 0.005348315928131342, -0.009872902184724808, -0.019840622320771217, -0.03678930178284645, 0.0010637370869517326, 0.03932568058371544, 0.003982347436249256, -0.017979823052883148, 0.0033126964699476957, 0.0070165167562663555, 0.010536626912653446, -0.014957506209611893, 0.0048445966094732285, -0.010518848896026611, -0.0036593740805983543, 0.018667252734303474, 0.014637496322393417, 0.0008266926161013544, -0.009132138453423977, 0.011348504573106766, -0.020516199991106987, 0.015479004010558128, 0.016237547621130943, -0.033020295202732086, 0.011638883501291275, 0.006637245416641235, 0.013570796698331833, -0.011561844497919083, 0.01537233404815197, -0.01070848386734724, -0.004124573897570372, -0.04122203588485718, 0.0009111397084780037, -0.02104954980313778, -0.023905934765934944, -0.02439187653362751, -0.015277517028152943, -0.013760431669652462, 0.028089771047234535, -0.001287447870709002, 0.003905307734385133, -0.006589836440980434, -0.011715923435986042, -0.017209429293870926, 0.0011963339056819677, -0.0014437490608543158, -0.009191399440169334, -0.014708610251545906, 0.004909783601760864, -0.016865715384483337, -0.021902909502387047, -0.0019393201218917966, -0.01875021867454052, -0.026643799617886543, -0.0020696946885436773, 0.0031882482580840588, -0.010542552918195724, 0.0030904673039913177, -0.019923588261008263, 0.021405115723609924, 0.004166056867688894, 0.03216693550348282, -0.006080190651118755, 0.014767871238291264, 0.0037601180374622345, -0.002771938918158412, 0.04634219408035278, 0.00991438515484333, 0.00792321190237999, -0.009037320502102375, 0.010044760070741177, 0.0006200194475241005, -0.01077367179095745, -0.01072626281529665, -0.023977048695087433, -0.005019417032599449, -0.00930992141366005, 0.004346803296357393, -0.025529690086841583, 0.009754380211234093, 0.03252250328660011, -0.004723111167550087, -0.00463718269020319, -0.03091059997677803, -0.015076029114425182, 0.01573975384235382, 0.026643799617886543, -0.018726514652371407, 0.0002924165746662766, -0.004000125452876091, -0.022886645048856735, 0.004444583784788847, 0.020053962245583534, -9.143805800704286e-05, -0.018228720873594284, -0.004186797887086868, -0.005715734791010618, -0.00976623222231865, 0.023965196684002876, -0.007318748161196709, -0.016036059707403183, -0.020219894126057625, -0.010400325991213322, -0.012776697054505348, 0.00540461391210556, -0.01462564431130886, -0.004767557140439749, -0.019129488617181778, -0.012195938266813755, -0.01016920804977417, -0.012598914094269276, -0.02567191608250141, 0.02780531719326973, -0.006897994317114353, -0.009066951461136341, 0.011834445409476757, 0.00986697617918253, 0.020753243938088417, 0.0032682507298886776, -0.01672348752617836, -0.008859537541866302, 0.01604791171848774, -0.0013659688411280513, 0.022993315011262894, -0.016308659687638283, -0.0007726168259978294, -0.03617298603057861, -0.004056423436850309, 0.0037719702813774347, -0.04288134723901749, -0.02223477140069008, -0.022507373243570328, -0.011188499629497528, 0.005982410162687302, -0.01756499521434307, -0.029915012419223785, -5.092752326163463e-05, -0.018833184614777565, 0.01709090732038021, 0.0015719011425971985, 0.04821484535932541, -0.021168071776628494, 0.017387213185429573, 0.003920122981071472, 0.02334888093173504, 0.013416717760264874, 0.02415483258664608, -0.003594186855480075, 0.02479485236108303, 0.007733575999736786, 0.001341523602604866, 0.008847685530781746, -0.002960092853754759, 0.01854873076081276, 0.02223477140069008, 0.021748831495642662, -0.008782497607171535, 0.00285490439273417, 0.012361869215965271, 0.001985247479751706, 0.008823980577290058, 0.00024260020290967077, -0.0010585517156869173, -0.012539653107523918, 0.02669120766222477, 0.007295043673366308, -0.0014393044402822852, -0.029061652719974518, -0.02726011537015438, -0.00033167708897963166, -0.04717184975743294, -0.000891139090526849, 0.00718837371096015, -0.03287806734442711, -0.01888059265911579, 0.01827612891793251, 0.02013692818582058, 0.016628669574856758, 0.023431846871972084, 0.0061394521035254, 0.006032782141119242, 0.009552892297506332, -0.020077668130397797, -0.006417979020625353, -0.015929389744997025, 0.007129112724214792, 0.006684654392302036, -0.006086117122322321, -0.003294918220490217, 0.008077290840446949, 0.02203328348696232, 9.467890049563721e-05, 0.010021055117249489, 0.014673053286969662, 0.00299416808411479, 0.006613540928810835, -0.00017833893070928752, 0.014744166284799576, 0.01282410603016615, -0.0008200257434509695, 0.019650986418128014, -0.016640521585941315, 0.009315848350524902, 0.003683078568428755, 0.01709090732038021, 0.023740004748106003, -0.021227333694696426, 0.00012574468564707786, -0.009855124168097973, 0.007407640106976032, -0.023360732942819595, 0.029583150520920753, -0.020859913900494576, -0.0051942369900643826, -0.019982850179076195, 0.025837847962975502, 0.016936827450990677, 0.009807715192437172, -0.019070228561758995, -0.024818556383252144, 0.017055349424481392, 0.014921950176358223, 0.004628293216228485, 0.012930775992572308, 0.003286028979346156, 0.0051231239922344685, 0.03465590253472328, -0.005946853198111057, -0.017458325251936913, 0.034134406596422195, 0.016225693747401237, -0.028160883113741875, -0.011929263360798359, -0.008065437898039818, 0.0036682633217424154, -0.007798763457685709, -0.0019526538671925664, 0.00402975594624877, 0.020326564088463783, -0.017114611342549324, -0.0012541133910417557, 0.0029897235799580812, 0.013155968859791756, -0.01820501498878002, 0.011656662449240685, 0.00405346043407917, 0.010714410804212093, 0.0016311623621731997, 0.003250472480431199, 0.0023911860771477222, 0.002004507463425398, 0.01776648312807083, -0.013120411895215511, -0.0035289996303617954, -0.0300335343927145, -0.027544569224119186, -0.0162493996322155, 0.0003446404589340091, 0.023265914991497993, -0.025861551985144615, -0.013950067572295666, 0.0390649288892746, -0.014945654198527336, -0.019639134407043457, 0.021713273599743843, -0.008604714646935463, 0.006020929664373398, -0.01327449083328247, 0.006708358880132437, -0.014187111519277096, 0.023502960801124573, 0.006803176365792751, -0.011158868670463562, 0.007899506948888302, 0.0028504598885774612, 0.021262889727950096, -0.001462268177419901, 0.006512796971946955, 0.011413691565394402, -0.00736615713685751, 0.0001093552855309099, -0.04665035381913185, -0.005235719960182905, 0.026359345763921738, -0.003434181911870837, 0.005662399809807539, 0.009197325445711613, 0.02493707835674286, 0.004444583784788847, -0.003914196975529194, -0.020859913900494576, -0.021701421588659286, 0.0030460215639322996, -0.01016920804977417, -0.0021052511874586344, 0.014436008408665657, -0.010892193764448166, 0.01417525950819254, -0.01207741629332304, 0.011852223426103592, 0.006589836440980434, 0.017683517187833786, 0.0019482092466205359, 0.03178766369819641, -0.0009918829891830683, -0.013855249620974064, -0.004506808239966631, 0.027189001441001892, -0.006489092484116554, -0.04081906005740166, 0.0016444961074739695, -0.011301095597445965, 0.024889670312404633, -0.020800651982426643, -0.00764468451961875, -0.01223149523139, -0.002160067902877927, 0.0055053578689694405, -0.010364769957959652, -0.003736413549631834, -0.0015496782725676894, -0.013973771594464779, -0.025529690086841583, -0.032072119414806366, -0.013464126735925674, -0.013973771594464779, 0.007656536530703306, -0.014234520494937897, 0.0009429925703443587, 0.010358843952417374, -0.007105408236384392, 0.013345603831112385, 0.014400452375411987, 0.08917613327503204, -0.00558239733800292, -0.015561969950795174, 0.0020474717020988464, -0.011372208595275879, -0.006791324354708195, -0.00832618772983551, -0.002388223074376583, -0.003460849402472377, -0.007129112724214792, 0.004343839827924967, -0.0108625628054142, -0.0014481935650110245, -0.005069788545370102, -0.004166056867688894, 0.02358592487871647, -0.02446299046278, 0.017150167375802994, -0.029440924525260925, -0.0077750589698553085, -0.006080190651118755, 0.00044186573359183967, 0.006340939551591873, -0.00012389277981128544, 0.016130875796079636, 0.006607614923268557, 0.006963181309401989, -0.003558630123734474, 0.015360482037067413, 0.01601235382258892, 0.005597212817519903, -0.026169709861278534, -0.0052416459657251835, 0.017422769218683243, 0.0020163594745099545, -8.889167656889185e-05, 0.001221519778482616, 0.005342389922589064, 0.005330537911504507, 0.0007844690699130297, -0.008349891752004623, -0.009179547429084778, 0.006269826553761959, -0.01773092709481716, 0.018050936982035637, 0.015905683860182762, 0.011105533689260483, 0.01282410603016615, -0.01422266848385334, 0.0052416459657251835, 0.015585673972964287, -0.0091736214235425, 0.004770520143210888, -0.015550117939710617, -0.009333626367151737, -0.01712646335363388, 0.02614600583910942, 0.010530700907111168, 0.018596138805150986, -0.0008259518654085696, 0.007378009147942066, -0.0037156722974032164, -0.004032718949019909, 0.020243598148226738, 0.01814575493335724, 0.017932415008544922, -0.03347067907452583, 0.00029037948115728796, -0.002232662634924054, -0.00832618772983551, -0.0082609998062253, -0.023799264803528786, -0.007526162080466747, 0.0023778523318469524, 0.017043497413396835, 0.026525277644395828, -0.008752867579460144, 0.015964945778250694, 0.01342856977134943, 0.008083216845989227, -0.018999114632606506, -0.0008570639183744788, -0.01493380218744278, 0.005327574443072081, 0.003161580767482519, -0.007964694872498512, -0.03034169226884842, 0.013333751820027828, -0.005727587267756462, 0.015253812074661255, -0.005105345509946346, -0.005863887723535299, -0.013167820870876312, -0.0046016257256269455, 0.03294918313622475, 0.007757280487567186, 0.022376999258995056, -0.012385574169456959, 0.003985310439020395, 0.01838279888033867, -0.00971289724111557, -0.019271716475486755, -0.0013407828519120812, -0.001826724037528038, -0.01462564431130886, -0.01047143992036581, -0.0025260052643716335, 0.001994136720895767, 0.01192333735525608, -0.009007690474390984, -0.026240823790431023, -0.029037948697805405, -0.0006155748851597309, 0.02837422303855419, 0.01011587306857109, -0.015241960063576698, -0.016664227470755577, -0.0001583382982062176, 0.003194174263626337, 0.005985373165458441, -0.005300906952470541, -0.007976546883583069, -0.01062551885843277, -0.004441620782017708, -0.014163407497107983, -0.01363005768507719, 0.004269763827323914, -0.007727649994194508, -0.0022593301255255938, -0.004089017398655415, -0.0013496719766408205, -0.009624006226658821, 0.008847685530781746, -0.0256482120603323, -0.0011748516699299216, 0.014210816472768784, 0.016344217583537102, -0.011206277646124363, 0.012095194309949875, 0.026975661516189575, -0.018975410610437393, -0.03171655163168907, 0.010987011715769768, 0.006809102836996317, -0.025956369936466217, 0.0005911296466365457, 0.010856636799871922, -0.009469927288591862, -0.00996772013604641, 0.0024534102994948626, 0.008426930755376816, -0.011982598342001438, 0.014400452375411987, 0.007176521699875593, 0.0010089206043630838, 0.024984488263726234, 0.0028534228913486004, 0.010086242109537125, -0.01966284029185772, -0.0035793716087937355, 0.01679460145533085, -0.006017966661602259, -0.022542929276823997, -0.010009203106164932, -0.002216365886852145, -0.014258225448429585, 0.022898497059941292, 0.003250472480431199, -0.014791575260460377, 0.0011267020599916577, 0.011638883501291275, 0.016510147601366043, -0.0008415079209953547, 0.005019417032599449, 0.010412178933620453, 0.00738986162468791, 0.022471817210316658, -0.003543814877048135, 0.01363005768507719, -0.020717687904834747, -0.0030312063172459602, -0.0016178286168724298, 0.01581086590886116, -0.00453643873333931, 0.004462362267076969, -0.015822719782590866, -0.008628418669104576, 0.0026682319585233927, -0.010785523802042007, -0.018607990816235542, 0.03264102339744568, 0.0019526538671925664, -0.0004744593461509794, -0.003238620236515999, 0.012563357129693031, -0.02462892048060894, -0.0030149093363434076, -0.02017248421907425, 0.014258225448429585, -0.00038816031883470714, 0.007318748161196709, 0.014637496322393417, 0.029512036591768265, -0.014459713362157345, 0.006017966661602259, 0.025553394109010696, -0.00901954248547554, 0.009084729477763176, -0.0374293215572834, 0.0018133902922272682, -0.018572434782981873, 0.007123186718672514, 0.004450510255992413, -0.0007052073488011956, -0.010210691019892693, 0.005268313456326723, -0.017043497413396835, 0.005763143766671419, -0.01549085695296526, -0.004850522615015507, -0.0005114975501783192, -0.009979572147130966, 0.011709997430443764, 0.0008985467138700187, 0.0028400891460478306, 0.01878577470779419, -0.012883367016911507, -0.02415483258664608, -0.009481779299676418, -0.00405346043407917, -0.015656787902116776, 0.010898119769990444, 0.025766734033823013, 0.02598007395863533, 0.00530386995524168, -0.007407640106976032, -0.012267051264643669, 0.04020274430513382, -0.0017541291890665889, -0.010151430033147335, 0.010661075823009014, 0.0010904045775532722, -0.018323538824915886, -0.004506808239966631, -0.009701045230031013, 0.010044760070741177, 0.021428821608424187, 0.0027363821864128113, 0.0074609750881791115, -2.6181376597378403e-05, -0.005010527558624744, -0.00530386995524168, 0.003644558833912015, -0.009339552372694016, 0.012705584056675434, 0.01381969265639782, -0.015230108052492142, -0.005179421976208687, -0.0002609341172501445, 0.0332336351275444, -0.004906820598989725, 0.02225847728550434, -0.00400308845564723, -0.002654898213222623, 0.01517084613442421, 0.015953093767166138, -0.0036801155656576157, 0.004388285800814629, 0.00450977124273777, -0.02526894211769104, 0.001294114743359387, -0.0022830346133559942, -0.008349891752004623, -0.014637496322393417, -0.002573414007201791, -0.02669120766222477, -0.01498121116310358, 0.01732795126736164, 0.020492495968937874, -0.011046272702515125, 0.017588701099157333, 0.0022356256376951933, -0.0044001382775604725, 0.0008592862286604941, -0.02381111867725849, 0.008320260792970657, 0.013772284612059593, 0.0003285288403276354, -0.007306896150112152, 0.017387213185429573, 0.025956369936466217, 0.02411927469074726, 0.004397175274789333, -0.003937901463359594, -0.015953093767166138, 0.0013570795999839902, -0.03828268498182297, 0.008320260792970657, -0.0052564614452421665, -0.0006055745761841536, -0.007899506948888302, -0.004100869409739971, 0.011330725625157356, 0.01146702654659748, 0.01501676719635725, 0.013523387722671032, 0.009333626367151737, -0.01037069596350193, 0.015443447977304459, -0.0026474904734641314, -0.0007585423300042748, -9.046580089488998e-05, 0.010382547974586487, -0.01659311354160309, -0.003561593359336257, 0.01133665256202221, -0.012101120315492153, -0.019200602546334267, 7.597460353281349e-05, -0.020729539915919304, 0.009872902184724808, 0.025885257869958878, -0.01146702654659748, -0.0011622586753219366, -0.012907071970403194, -0.009872902184724808, 0.012124825268983841, -0.019070228561758995, 0.035390742123126984, -0.020148780196905136, 0.005526099354028702, -0.016699783504009247, 0.02645416371524334, -0.009487705305218697, -0.0022563671227544546, 0.012990036979317665, 0.012622618116438389, -0.013487830758094788, -0.03745302930474281, -0.004918673075735569, -0.018015380948781967, -0.018904296681284904, 0.021914761513471603, 0.008213590830564499, 0.010613666847348213, -0.006340939551591873, 0.008729162625968456, 0.0014067108277231455, -0.012409278191626072, -0.0005455726641230285, -0.010738114826381207, -0.006500944960862398, 0.014163407497107983, -0.013286342844367027, -0.009997351095080376, -0.017695371061563492, 0.019105784595012665, 0.004649034701287746, -0.031005417928099632, 0.01498121116310358, 0.003967531956732273, 0.012930775992572308, -0.004465325269848108, 0.009452148340642452, 0.0020593239460140467, 0.024486694484949112, 0.010092169046401978, -0.00486533809453249, -0.029891308397054672, 0.0306735560297966, -0.010032907128334045, -0.03887529298663139, 0.002248959382995963, 0.04084276407957077, 0.007798763457685709, -0.003828268265351653, -0.006975033786147833, -0.012409278191626072, 0.001998581225052476, 0.008930650539696217, -0.03226175159215927, -0.0035201103892177343, -0.0006218713824637234, 0.023574072867631912, 0.021120663732290268, -0.007881728932261467, 0.028658676892518997, 0.004666813183575869, 0.020125076174736023, -0.010595887899398804, 0.012539653107523918, -0.03752414137125015, 0.010489217936992645, -0.010038834065198898, -0.005712771788239479, 0.007887654937803745, -0.002705270191654563, 0.0058875922113657, -0.011739627458155155, 0.008758793585002422, -0.02446299046278, 0.005232756957411766, 5.064973811386153e-05, 0.015550117939710617, 0.02223477140069008, 0.0066253929398953915, -0.018157606944441795, -0.017553143203258514, 0.0060979691334068775, -0.0007585423300042748, -0.002822310896590352, 0.005487579852342606, 0.0028845348861068487, 0.0032682507298886776, 0.007277265656739473, -0.012776697054505348, 0.002149697160348296, -0.002613415475934744, 0.02181994356215, 0.003051947569474578, 0.01794426701962948, 0.023929640650749207, 0.005523136351257563, 0.0038460467476397753, 0.0052920179441571236, 0.00782246794551611, -0.014092294499278069, -0.00445939926430583, 0.005585360340774059, -0.0022400703746825457, -0.01327449083328247, -0.008266925811767578, 0.007069851737469435, -0.0025867477525025606, 0.006927624810487032, 0.0012170752743259072, 0.029654264450073242, -0.008195812813937664, -0.010163282044231892, -0.0118225933983922, -0.018287980929017067, -0.00047186666051857173, 0.016296807676553726, -0.004803113639354706, -0.01637977361679077, 0.003834194503724575, -0.0027941616717725992, 0.006767619866877794, -0.006115747615695, -0.02019619010388851, 0.021061401814222336, 0.02185550145804882, 0.019449498504400253, -0.012267051264643669, 0.016664227470755577, -0.011698145419359207, -0.0152893690392375, -0.010720336809754372, -0.002397112315520644, 0.0047468156553804874, 0.010613666847348213, 0.01157369650900364, 0.00039816065691411495, 0.014815280213952065, 0.029986126348376274, -0.006252048071473837, 0.009535114280879498, 0.02314739301800728, 0.008065437898039818, -0.004850522615015507, -0.0042193918488919735, 0.007674315012991428, -0.02287479117512703, -0.006530575454235077, -0.000571129028685391, -0.009789937175810337, -0.010204765014350414, -0.0014370821882039309, -0.014163407497107983, -0.0015407891478389502, 0.001737832324579358, -0.010329212993383408, -0.006743915379047394, 0.004539401736110449, 0.021630307659506798, 0.016676079481840134, 0.05726994574069977, -0.0003116764419246465, -0.009226956404745579, -0.026738617569208145, -9.435481479158625e-05, 0.0082609998062253, 0.0052060894668102264, 0.01736350730061531, 0.003923085983842611, -0.007597275543957949, -0.04311839118599892, -0.043734706938266754, 0.0014370821882039309, -0.003908270969986916, -0.00841507874429226, -0.01413970347493887, 0.0091736214235425, -0.003371957689523697, 0.0144241563975811, -0.0004385322972666472, -0.00955881830304861, -0.004317172337323427, -0.012326313182711601, 0.00973067618906498, 0.00018445024034008384, 0.007526162080466747, -0.028706086799502373, -0.009920311160385609, -0.0012200382770970464, -0.008296556770801544, -0.0019482092466205359, 0.0009659562492743134, -0.0024919300340116024, 0.017695371061563492, -0.012741141021251678, -0.004900894593447447, 0.003988273441791534, -0.01635606959462166, -0.013535239733755589, 0.00886546354740858, -0.028255701065063477, -0.002040063962340355, -0.004681628663092852, -0.020551756024360657, 0.0096299322322011, 0.018098345026373863, 0.0019008003873750567, 0.030626146122813225, -0.00792321190237999, -0.02291034907102585, 0.03949160873889923, -0.008296556770801544, -0.009303995408117771, -0.003837157506495714, -0.017932415008544922, -0.005543877836316824, 0.018430208787322044, -0.013333751820027828, -0.014566383324563503, -0.01477972324937582, -0.008604714646935463, 0.006400201003998518, 0.0007607646402902901, -0.003697893815115094, -0.0020385824609547853, 0.012741141021251678, 0.00423124385997653, -0.010104021057486534, -0.021096957847476006, -0.007555792573839426, -8.319705375470221e-05, 0.011496657505631447, -0.00450977124273777, -0.007437270600348711, -0.012575209140777588, 0.0013193006161600351, -0.02811347506940365, -0.0017230170778930187, -0.0022474778816103935, 0.009920311160385609, -0.0024726702831685543, -0.004983860068023205, 0.004776446148753166, -0.0003622335789259523, -0.009452148340642452, 0.019034670665860176, -0.013215229846537113, 0.0025837847497314215, -0.013452273793518543, 0.015787161886692047, -0.0067853983491659164, -0.0067379893735051155, -0.01564493589103222, -0.016095319762825966, -0.00749060558155179, -0.0017007940914481878, -0.012907071970403194, -0.009902533143758774, 0.009132138453423977, 0.018833184614777565, -0.013677466660737991, -0.014684905298054218, 0.001887466642074287, 0.007478753104805946, 0.007834319956600666, -0.0174346212297678, -0.009683267213404179, -0.006192787084728479, -0.004657924175262451, -0.005902407690882683, 0.020587312057614326, -0.0031675067730247974, 0.031574323773384094, -0.019745804369449615, -0.017150167375802994, 0.008012102916836739, 0.012800402007997036, 0.02402445860207081, 0.009262513369321823, -0.01665237545967102, -0.006714284885674715, 0.01248039212077856, -0.019650986418128014, -0.01611902378499508, -0.005970557685941458, -0.01248039212077856, -0.02311183698475361, -0.011852223426103592, -0.003001575591042638, 0.0019408016232773662, -0.013191524893045425, -0.025458576157689095, 0.016024205833673477, -0.023905934765934944, 0.009760306216776371, -0.01172184944152832, -0.010382547974586487, 0.03271213918924332, 0.014791575260460377, -0.027781613171100616, -0.00027111961389891803, 0.013120411895215511, 0.005434244871139526, 0.004654960706830025, -0.018406502902507782, 0.01989988423883915, 9.555855649523437e-05, -0.0005503876600414515, -0.03942049667239189, -0.019200602546334267, -0.02645416371524334, 0.0027600866742432117, 0.0002929721667896956, 0.004388285800814629, 0.016676079481840134, -0.008083216845989227, 0.003051947569474578, -0.010589961893856525, 0.016782749444246292, -0.0017748705577105284, -0.00445939926430583, 0.0031289870385080576, -0.004823855124413967, 0.01383154559880495, -0.004803113639354706, -0.00841507874429226, 0.0007607646402902901, -0.011389987543225288, -0.024842260405421257, 0.001398562453687191, -0.015230108052492142, -0.01617828570306301, -0.010329212993383408, -0.005214978475123644, 0.020279154181480408, 0.0009022505255416036, 0.013843397609889507, 0.0053394269198179245, -0.000352788862073794, -0.005229793954640627, -0.03512999042868614, -0.005712771788239479, -0.015301221050322056, -0.009469927288591862, -0.007354305125772953, -0.0017170909559354186, 0.01207741629332304, 0.0007552088936790824, -0.040724240243434906, -0.015052324160933495, -0.03192989155650139, -0.01152036152780056, 0.0013059668708592653, -0.0008607677882537246, -0.012373722158372402, 0.00483867060393095, 0.0020089519675821066, 0.031171347945928574, -6.279132321651559e-06, 0.02827940694987774, -0.010358843952417374, 0.0023897045757621527, 0.02088361792266369, 0.0028400891460478306, -0.00041001287172548473, -0.003288992214947939, -0.0017467214493080974, -0.015893831849098206, -0.0011807777918875217, -0.005534988362342119, -0.021191775798797607, 0.0015422706492245197, 0.013049298897385597, -0.0018252424197271466, -0.006400201003998518, -0.006892068311572075, 0.0022222918923944235, 0.004343839827924967, 0.00016667190357111394, 0.014151555486023426, 0.018596138805150986, -0.0024711887817829847, -0.002977871336042881, -0.005902407690882683, -0.021405115723609924, 0.011372208595275879, -0.005958705674856901, 0.013523387722671032, 0.007277265656739473, 0.013286342844367027, -0.015277517028152943, 0.010317360982298851, -0.04141167178750038, 0.0015941241290420294, -0.02185550145804882, 0.005114234518259764, -0.011111459694802761, 0.01915319450199604, -0.004183834884315729, -0.004151241388171911, 0.01796797104179859, -0.001817834796383977, 0.0024874855298548937, 0.019840622320771217, 0.01760055311024189, 0.014293782413005829, -0.01898726262152195, 0.023194802924990654, -0.00981364119797945, -0.0034282556734979153, -0.004542364738881588, -0.0037482657935470343, 0.0096299322322011, -0.0067853983491659164, 0.017920562997460365, -0.0036386328283697367, 0.003333437955006957, -0.014459713362157345, 0.014613792300224304, -0.01709090732038021, -0.00042742083314806223, -0.01141961757093668, 0.008456561714410782, 0.012954480946063995, 0.021843649446964264, -0.005203126464039087, 0.011555918492376804, -0.03712116554379463, 0.011259612627327442, -0.01271743606775999, 0.012776697054505348, -0.016640521585941315, 0.020148780196905136, 0.0038904924876987934, -0.0217251256108284, 0.005739439278841019, -0.021334003657102585, 0.008598788641393185, 0.0030786150600761175, -0.008219516836106777, -0.018216868862509727, 0.012243347242474556, 0.004752741660922766, -0.009114360436797142, 0.0032682507298886776, 0.0030875043012201786, 0.017647961154580116, 0.006017966661602259, -0.007840245962142944, -0.045796994119882584, 0.017316099256277084, 0.0046164412051439285, -0.014187111519277096, 0.004583847709000111, -0.0062935310415923595, 0.0037067830562591553, -0.003555667120963335, -0.007443196605890989, 0.007407640106976032, 0.041103512048721313, -0.017979823052883148, 0.011763332411646843, 0.004465325269848108, 0.015064176172018051, -0.011354430578649044, 0.019959144294261932, 0.012646323069930077, -0.0008852129685692489, -0.01648644357919693, -0.03183507174253464, -0.015123438090085983, -0.003614928340539336, 0.014187111519277096, -0.006951329298317432, -0.010281804017722607, -0.02070583589375019, -0.018631696701049805, 0.017280543223023415, 0.0024341505486518145, -0.004980897065252066, -0.015064176172018051, 0.007609127555042505, 0.014684905298054218, -0.0015556043945252895, -0.03342327103018761, -0.002087472938001156, 0.001227445900440216, -0.008053585886955261, 0.0035260366275906563, -0.01770722307264805, 0.01278854999691248, 0.016261251643300056, -0.007798763457685709, 0.012101120315492153, 0.007686167024075985, 0.007976546883583069, -0.01422266848385334, 0.003460849402472377, -0.0011889261659234762, -0.004311246331781149, 0.008450635708868504, 0.008806202560663223, -0.00137041334528476, 0.0033926991745829582, -0.007620980031788349, -0.020314712077379227, 0.006115747615695, 0.014838984236121178, -0.020528052002191544, 0.0035319626331329346, 0.013961919583380222, -0.008930650539696217, 0.0016193101182579994, -0.014198964461684227, -0.02088361792266369, -0.018216868862509727, 0.002140807919204235, 0.011022567749023438, 0.02212810143828392, -0.013191524893045425, 0.00405346043407917, 0.010098095051944256, -0.03375513479113579, -0.026003779843449593, 0.0058875922113657, 0.0023422958329319954, -0.007081703748553991, -0.00015843089204281569, -0.016225693747401237, -0.015479004010558128, -0.001912652631290257, -0.003546777879819274, -0.006157230120152235, -0.002096362179145217, -0.012646323069930077, -0.01402118057012558, -0.007206152193248272, -0.02088361792266369, 0.033257339149713516, -0.004776446148753166, -0.022578487172722816, 0.009469927288591862, 0.0056594368070364, -0.017719075083732605, -0.013061150908470154, 0.009523262269794941, -0.012385574169456959, -0.019947292283177376, 0.004800150636583567, 0.024842260405421257, -9.991054685087875e-05, -0.017754631116986275, 0.02334888093173504, 0.02010137215256691, -0.0019778399728238583, -0.007318748161196709, -0.010821080766618252, 0.010358843952417374, -0.019105784595012665, -0.004717185162007809, 0.003958642948418856, 0.0192598644644022, 0.0012667063856497407, 0.012035933323204517, -0.004376433789730072, -0.00027945320471189916, -0.007295043673366308, 0.009890681132674217, 0.00991438515484333, -0.0008607677882537246, -0.008859537541866302, -0.00711133424192667, -0.016225693747401237, -0.010945528745651245, 0.003283065976575017, -0.01942579448223114, 0.0051438650116324425, -0.014400452375411987, 0.03458479046821594, 0.009493631310760975, 0.07395787537097931, 0.010305508971214294, 0.0030119463335722685, -0.020291008055210114, 0.011846297420561314, -0.006029818672686815, 0.026667503640055656, -0.009606227278709412, 0.00017352396389469504, 0.008989911526441574, 0.010501069948077202, -0.0037304875440895557, 0.007004664279520512, -0.0012570765102282166, -0.011650736443698406, -0.03982347249984741, -0.019046524539589882, 0.012095194309949875, 0.002952685346826911, 0.026880843564867973, 0.011484804563224316, -0.0036178913433104753, -0.0037097460590302944, -0.0020474717020988464, -0.03370772302150726, -0.0007629868923686445, -0.011585548520088196, -0.017991675063967705, -0.013310047797858715, -0.014198964461684227, -0.02669120766222477, 0.02320665493607521, -0.01006846409291029, 0.004077164921909571, 0.024889670312404633, 0.010145504027605057, -0.013037445954978466, -0.005280165933072567, -0.016581261530518532, 0.003336400957778096, -0.02019619010388851, 0.015087881125509739, -0.00019111711299046874, 0.007597275543957949, -0.011389987543225288, 0.006803176365792751, 0.017517587170004845, -0.0143767474219203, 0.008118773810565472, -0.012847810983657837, -0.022045135498046875, -0.01604791171848774, 0.010281804017722607, 0.004545327741652727, -1.945662916114088e-05, 0.019212454557418823, 0.008782497607171535, 0.012338165193796158, 0.014554531313478947, 3.761692255466187e-07, 0.014198964461684227, -0.017280543223023415, -0.01966284029185772, 0.0005100159905850887, -0.012397426180541515, 0.01739906519651413, 0.017055349424481392, 0.02155919559299946, 0.0024874855298548937, 0.01703164540231228, -0.031408391892910004, 0.006980959791690111, 0.020042110234498978, 0.011354430578649044, -0.010684779845178127, -0.013404864817857742, -0.0022252551279962063, -0.0010274396045133471, 0.007929137907922268, 0.020931027829647064, -0.0060979691334068775, 0.000539276166819036, -0.006311309058219194, 0.022305885329842567, 0.022341441363096237, -0.006589836440980434, 0.00443273177370429, 0.012006302364170551, 0.0174346212297678, -0.015799013897776604, 0.004604589194059372, -0.0033660316839814186, 0.016439033672213554, -0.0001338930887868628, 0.03256991133093834, -0.005336463917046785, 0.007597275543957949, 0.02868238091468811, 0.020184338092803955, 0.01581086590886116, -0.02046879008412361, -0.03335215896368027, 0.025932665914297104, 0.012681879103183746, 0.018050936982035637, -0.003931975457817316, -0.011087755672633648, 0.018406502902507782, 0.00805951189249754, 0.007615054026246071, 0.007004664279520512, -0.006684654392302036, 0.0025334127712994814, 0.013440421782433987, 0.014898245222866535, 0.017173873260617256, -0.0015615305164828897, -0.0054312814027071, 0.0054223923943936825, 0.015953093767166138, 0.015396039001643658, 0.02229403331875801, -0.0054372078739106655, -0.0060979691334068775, -0.0011274428106844425, -0.012373722158372402, -0.005623880308121443, 0.0018474654061719775, 0.0006792806088924408, 0.02320665493607521, -0.021950319409370422, 0.022175511345267296, -0.008314334787428379, -0.009345478378236294, -0.00986697617918253, -0.0018282055389136076, 0.0037482657935470343, 0.01692497543990612, 0.007929137907922268, 0.004089017398655415, 0.004871264100074768, 0.016984237357974052, -0.004305320326238871, 0.012456687167286873, 0.007650610525161028, 0.0035378888715058565, 0.005259424448013306, -0.00010842933261301368, -0.019757656380534172, 0.011958894319832325, -0.008966207504272461, -0.0055557298474013805, 0.004791261628270149, 0.007863950915634632, 0.013037445954978466, -0.011437395587563515, 0.010868489742279053, 0.009701045230031013, 0.004133462905883789, -0.0072180042043328285, -0.00435865530744195, 0.01591753587126732, 0.00031889890669845045, 0.014258225448429585, 0.009961794130504131, -0.011224055662751198, -0.007164669223129749, -0.01102849468588829, 0.009979572147130966, 0.003324548713862896, 0.00153486302588135, 0.012847810983657837, 0.018560582771897316, 0.012527801096439362, 0.02253107726573944, -0.009499557316303253, 0.002629712224006653, -0.00927436538040638, 0.008195812813937664, 0.0004200131807010621, -0.0074135661125183105, -0.008545453660190105, 0.0037067830562591553, 0.012207790277898312, -0.02439187653362751, -0.028231997042894363, 0.015123438090085983, 0.008503970690071583, -0.0006792806088924408, 0.0010859599569812417, -0.006275752559304237, 0.0083084087818861, -0.01739906519651413, 0.004100869409739971, -0.017304247245192528, 0.005176458973437548, 0.0033541794400662184, 0.008586936630308628, 0.00966548826545477, 0.014388599433004856, -0.013618205673992634, -0.009499557316303253, 0.005668326281011105, 0.01378413662314415, -0.002263774862512946, -0.018501320853829384, -0.0032297309953719378, 0.004823855124413967, 0.0038519727531820536, 0.013487830758094788, -0.01568049192428589, -0.01287151500582695, -0.005976483691483736, 0.00942251831293106, -0.010518848896026611, 0.024273354560136795, -0.0332336351275444, 0.01882133074104786, -0.032072119414806366, 0.020006554201245308, -0.014270077459514141, 0.005244608968496323, -0.0008429894223809242, 0.008800276555120945, 0.015467151999473572, -0.003244546242058277, 0.02797124907374382, -0.0018533915281295776, -0.0015304184053093195, -0.018525026738643646, -0.03311511501669884, 0.007478753104805946, -0.020362120121717453, -0.000618537946138531, 0.0050253430381417274, -0.029772786423563957, 0.0009837346151471138, 0.011538139544427395, 0.01875021867454052, 0.02334888093173504, -0.008213590830564499, 0.02493707835674286, -0.02232958935201168, -0.01477972324937582, 0.01749388314783573, -0.014436008408665657, -0.000605944951530546, -0.0011592956725507975, 0.010198839008808136, -0.0017644998151808977, -0.008077290840446949, 0.013191524893045425, -4.419120159582235e-05, 0.005031269043684006, -0.0013370789820328355, -0.001116331317462027, -0.004056423436850309, -0.007935063913464546, -0.00621649157255888, -0.01383154559880495, -0.012563357129693031, -0.016391625627875328, -0.0043023573234677315, -0.001138554303906858, -0.02510301023721695, -0.027615681290626526, -0.008569157682359219, -0.0038816032465547323, -0.007887654937803745, -0.005425355397164822, -0.002588229486718774, -0.017316099256277084, 0.011846297420561314, -0.010933676734566689, 0.003931975457817316, -0.006400201003998518, -0.01342856977134943, -1.166124548035441e-05, -0.013440421782433987, -0.005896481219679117, -0.02068213000893593, 0.0036623370833694935, -0.02338443696498871, 0.0016415329882875085, -0.003946790471673012, 0.028303110972046852, 0.01571604795753956, -0.007360231131315231, 0.010832932777702808, -0.013333751820027828, 0.03335215896368027, 0.019639134407043457, 0.012990036979317665, -0.016770897433161736, -0.010400325991213322, -0.0010696632089093328, 0.005807589739561081, 0.013973771594464779, -0.009043246507644653, -0.009481779299676418, -0.016901271417737007, 0.0009933644905686378, -0.0016074578743427992, -0.011105533689260483, 0.01060773991048336, -0.029369810596108437, 0.010198839008808136, -0.017695371061563492, -0.004305320326238871, -0.026193413883447647, 0.006370570510625839, 0.024297058582305908, 0.004426805768162012, 0.006779471877962351, -0.016225693747401237, 0.05523136258125305, 0.005220904480665922, 0.0004859411856159568, -0.008604714646935463, -0.022756269201636314, 0.004651997704058886, 0.00856323167681694, -0.0029675005935132504, 0.0058668507263064384, -0.013061150908470154, -0.025482282042503357, -0.03496406227350235, 0.016806453466415405, 0.012859662994742393, 0.0022356256376951933, -0.011632957495748997, -0.022945905104279518, -0.004539401736110449, -0.01422266848385334, 0.03034169226884842, 0.004936451092362404, -0.02811347506940365, 0.007063925266265869, -0.01251594815403223, 0.007828393951058388, 0.023182949051260948, -0.0025200790259987116, 0.0005196459242142737, -0.022554781287908554, 0.02104954980313778, 0.03242768347263336, 0.008189886808395386, -0.025956369936466217, -0.00836174376308918, -0.021594751626253128, -0.01588197983801365, 0.0037304875440895557, 0.025387464091181755, 0.030152058228850365, -0.007638758514076471, 0.014234520494937897, -0.002585266251116991, 0.020765095949172974, 0.008338039740920067, 0.010346991010010242, -0.02432076260447502, -0.0057987007312476635, -0.03171655163168907, -0.0019437647424638271, 0.017221281304955482, -0.004169019870460033, 0.0050757150165736675, 0.024166684597730637, -0.00274082669056952, 0.02158289961516857, -0.007899506948888302, 0.018062788993120193, -0.005478690378367901, -0.006269826553761959, 0.005677215289324522, 0.030057240277528763, -0.008332113735377789, -0.004109758418053389, 0.0012392981443554163, 0.008527674712240696, 0.022341441363096237, 0.0037690072786062956, 0.01581086590886116, 0.007946915924549103, 0.01588197983801365, -0.00690984632819891, 0.009066951461136341, 0.002048953203484416, 0.008290630765259266, 0.01637977361679077, -0.011709997430443764, -0.0215473435819149, -0.012966332957148552, 0.0082609998062253, 0.0008592862286604941, 0.007360231131315231, 0.005357205402106047, 0.002226736629381776, 0.021310297772288322, 0.0135115347802639, -0.0027141591999679804, 0.02932240255177021, 0.008349891752004623, -0.016201989725232124, 0.0066253929398953915, -0.017055349424481392, -0.012575209140777588, -0.003543814877048135, 0.012551505118608475, 0.0036771525628864765, 0.036267805844545364, 0.00721207819879055, 0.015360482037067413, -0.008095068857073784, 0.002619341481477022, -0.01070848386734724, 0.02590896189212799, 0.02813717909157276, 0.0032682507298886776, -0.015905683860182762, 0.00458681071177125, -0.017695371061563492, -0.007431344594806433, -0.015158994123339653, -0.017244985327124596, 0.006743915379047394, 0.006269826553761959, 0.001202259911224246, 0.028018657118082047, 0.024012604728341103, -0.020919175818562508, -0.004817929118871689, -0.012847810983657837, -0.0017230170778930187, 0.022779975086450577, 0.013404864817857742, 0.009315848350524902, -0.0028978686314076185, -0.015384186990559101, -0.011947041377425194, 0.013049298897385597, -0.012350017204880714, -0.0001764870248734951, 0.012551505118608475, -0.02395334467291832, -0.003342327196151018, 0.016664227470755577, -0.022578487172722816, -0.003321585711091757, 0.007810615468770266, -0.016273103654384613, 0.026406755670905113, -0.01604791171848774, 0.00996772013604641, 0.02402445860207081, 0.004708296153694391, 0.007573571056127548, -0.010554404929280281, -0.0028119401540607214, 0.0054579488933086395, 0.005318685434758663, -0.016533851623535156, -0.030934303998947144, -0.016095319762825966, 0.006749841384589672, -0.007455048616975546, 0.03219063952565193, 4.233929212205112e-05, -0.018323538824915886, -0.037215981632471085, 0.019603578373789787, 0.011911485344171524, -0.004311246331781149, 0.009138064458966255, 0.023870378732681274, 0.011224055662751198, 0.007395787630230188, 0.015929389744997025, 0.003780859522521496, 0.0003248249995522201, 0.02097843587398529, 0.021061401814222336, 0.019449498504400253, -0.01223149523139, -0.005434244871139526, 0.012326313182711601, -0.005137939006090164, -0.007751354482024908, -0.004886079113930464, -0.007520236074924469, -0.013144115917384624, -0.010062538087368011, 0.0023645185865461826, -0.004489029757678509, 0.01820501498878002, -0.02614600583910942, 0.00764468451961875, -0.015561969950795174, 0.02158289961516857, 0.036504849791526794, -0.02026730217039585, -0.0016563482349738479, 0.013203377835452557, -0.015455299988389015, -0.0015748642617836595, -0.011478878557682037, -0.001085219206288457, -0.005724624264985323, 0.009238808415830135, -0.020077668130397797, -0.02300516702234745, -0.0002520449343137443, -0.014009328559041023, -0.006329087540507317, -0.009635858237743378, 0.03600705787539482, 0.01749388314783573, 0.007804689463227987, -0.0010859599569812417, -0.0026208229828625917, 0.0061453781090676785, 0.022981463000178337, 0.010684779845178127, 0.0005377946654334664, -0.007253561168909073, -0.0028874981217086315, 0.009416592307388783, -0.0031171347945928574, -0.007976546883583069, 0.0002472299966029823, -0.028231997042894363, 0.008148403838276863, -0.001144480425864458, 0.0052564614452421665, -0.010275878012180328, 0.000461495976196602, -0.018975410610437393, -0.008545453660190105, -0.01187592837959528, 0.011395913548767567, 0.013701170682907104, -0.0096299322322011, 0.008018029853701591, 0.0117751844227314, 0.0033452901989221573, -0.0006918735452927649, -0.021274741739034653, 0.019236158579587936, -0.014187111519277096, -0.0031260240357369184, -0.015787161886692047, 0.009363257326185703, -0.0348692424595356, -0.011549992486834526, -0.0007052073488011956, -0.016533851623535156, 0.011461100541055202, 0.001976358238607645, 0.006041671149432659, -0.012610766105353832, 0.018098345026373863, -0.01604791171848774, 0.006400201003998518, -0.009238808415830135, -0.01518269907683134, -0.017742779105901718, -0.0043379138223826885, 0.007976546883583069, -0.003917159978300333, -0.02621711976826191, 0.017825745046138763, -0.018607990816235542, 0.014507122337818146, 0.002733419183641672, -0.011111459694802761, -0.010838858783245087, -0.03183507174253464, -0.024344468489289284, 0.019970998167991638, 0.011982598342001438, 0.0007211337215267122, 0.0018800590187311172, 0.013167820870876312, 0.005807589739561081]\n",
      "\n",
      "The query vector is [[-0.01971025 -0.02806607 -0.02203328 ...  0.00188006  0.01316782\n",
      "   0.00580759]]\n",
      "\n",
      "The indices are [[2 1 0]]\n",
      "\n",
      "The distances are [[1.5853782 1.6091437 1.6119895]]\n",
      "\n",
      "The stored indices are [2, 1, 0]\n",
      "\n",
      "The stored distances are [1.5853781700134277, 1.6091437339782715, 1.6119894981384277]\n",
      "\n",
      "Distances: 1.5853781700134277, Metadata: Here’s the structured recipe information extracted from the image:\n",
      "\n",
      "### Recipe Title\n",
      "Creole Soup à la Madame Begue\n",
      "\n",
      "### Ingredients\n",
      "- 1 tablespoon butter, melted\n",
      "- 1 tablespoon chopped green pepper\n",
      "- 1 tablespoon chopped red pepper\n",
      "- 1 tablespoon flour\n",
      "- 1½ cups soup stock\n",
      "- 1 cup tomato pulp\n",
      "- ½ cup corn\n",
      "- Salt and pepper\n",
      "\n",
      "### Instructions\n",
      "1. Lightly brown the peppers in the melted butter.\n",
      "2. Add the flour and stir.\n",
      "3. Slowly add the soup stock and tomato pulp; continue to stir until soup boils.\n",
      "4. Reduce the heat, cover, and let cook slowly for 20 minutes.\n",
      "5. Strain into another pot, add the corn, and season to taste with salt and pepper.\n",
      "\n",
      "### Cuisine Type\n",
      "Southern\n",
      "\n",
      "### Dish Type\n",
      "Soup\n",
      "\n",
      "### Tags/Metadata\n",
      "- Comfort Food\n",
      "- Vegetarian Option (if using vegetable stock)\n",
      "- Quick Preparation\n",
      "\n",
      "---\n",
      "\n",
      "### Additional Recipes Mentioned\n",
      "1. **Plantation Soup**\n",
      "   - Ingredients: Carrot, celery, onion, soup stock, butter, flour, milk, grated cheese.\n",
      "   - Instructions: Cook vegetables in stock, strain, and combine with a white sauce.\n",
      "\n",
      "2. **Onion Soup Au Gratin**\n",
      "   - Ingredients: Meat broth, onions, butter, Worcestershire sauce, toast, grated parmesan cheese.\n",
      "   - Instructions: Brown onions, add broth and seasonings, simmer, and serve with cheese on toast.\n",
      "\n",
      "3. **Southern Jugged Soup**\n",
      "   - Ingredients: Potatoes, onion, tomatoes, turnip, peas, carrot, water, salt, sugar, pepper, allspice.\n",
      "   - Instructions: Layer vegetables, boil with broth, strain, and cook.\n",
      "\n",
      "4. **Jellied Mélange**\n",
      "   - Ingredients: Gelatin, chicken broth, onion juice, chicken, ham, celery, pimento.\n",
      "   - Instructions: Soak gelatin, mix with broth and other ingredients, chill, and serve.\n",
      "\n",
      "5. **Vegetable Bouillon**\n",
      "   - Ingredients: Tomatoes, celery, carrots, parsley, green pepper, bay leaf, onion juice, sherry wine, water.\n",
      "   - Instructions: Boil vegetables, strain, and add sherry wine.\n",
      "\n",
      "This structured format is suitable for embedding in a Retrieval Augmented Generation (RAG) system.\n",
      "Distances: 1.6091437339782715, Metadata: Here’s the structured recipe information extracted from the image:\n",
      "\n",
      "### Recipe Title\n",
      "1. Maryland Cream of Crab Soup\n",
      "2. Crab Soup, Baltimore\n",
      "3. Shrimp Gumbo\n",
      "4. Oyster Soup\n",
      "5. Oyster Bisque\n",
      "6. Chicken Oyster Gumbo\n",
      "\n",
      "### Ingredients\n",
      "1. **Maryland Cream of Crab Soup**\n",
      "   - 1 tablespoon flour\n",
      "   - 2 tablespoons butter\n",
      "   - 2 quarts milk\n",
      "   - 1 pint crab meat\n",
      "   - ½ onion, sliced\n",
      "   - ½ pint heavy cream\n",
      "   - Chopped parsley, celery, salt, pepper\n",
      "\n",
      "2. **Crab Soup, Baltimore**\n",
      "   - 2 tablespoons butter\n",
      "   - 1 onion, finely chopped\n",
      "   - 1 tablespoon flour\n",
      "   - 2 cups warm water\n",
      "   - 1 cup crab meat\n",
      "   - ¼ cup chopped celery\n",
      "   - Chopped parsley\n",
      "   - Salt and pepper\n",
      "   - Dash Tabasco sauce\n",
      "\n",
      "3. **Shrimp Gumbo**\n",
      "   - 2 quarts fresh shrimp\n",
      "   - 3 onions\n",
      "   - ½ cup vinegar\n",
      "   - Salt\n",
      "   - 2 quarts water\n",
      "   - 1 tablespoon butter, melted\n",
      "   - 1 tablespoon flour\n",
      "   - 4 cups okra, cut fine\n",
      "   - 1 cup cooked rice\n",
      "   - 6 large tomatoes, skinned\n",
      "   - 2 bay leaves\n",
      "   - Pinch sugar and pepper\n",
      "\n",
      "4. **Oyster Soup**\n",
      "   - 1 quart oysters\n",
      "   - 1 quart rich milk\n",
      "   - 2 tablespoons butter\n",
      "   - 1 tablespoon finely-chopped parsley\n",
      "   - Dash onion salt or 1 teaspoon onion juice\n",
      "   - Salt and pepper to taste\n",
      "\n",
      "5. **Oyster Bisque**\n",
      "   - 1 quart oysters\n",
      "   - 1 quart milk\n",
      "   - 1 tablespoon flour\n",
      "   - 1 tablespoon butter\n",
      "   - ½ cup chopped celery\n",
      "   - 1 green pepper\n",
      "   - Salt and pepper\n",
      "   - Worcestershire sauce\n",
      "\n",
      "6. **Chicken Oyster Gumbo**\n",
      "   - 1 small chicken\n",
      "   - 1 pound of beef cut up for stewing\n",
      "   - 1 cup diced okra\n",
      "   - 1 tablespoon butter\n",
      "   - 3 pints water\n",
      "   - 1 onion\n",
      "   - 2 dozen oysters\n",
      "   - 1½ teaspoons sassafras leaves\n",
      "   - Salt and pepper\n",
      "\n",
      "### Step-by-Step Instructions\n",
      "1. **Maryland Cream of Crab Soup**\n",
      "   - Melt butter in a double boiler, add flour and blend.\n",
      "   - Gradually add milk and onion, season to taste.\n",
      "   - Cook slowly until thickened, then add crab meat.\n",
      "   - Serve with whipped cream on top.\n",
      "\n",
      "2. **Crab Soup, Baltimore**\n",
      "   - Melt butter, add onion and brown.\n",
      "   - Blend in flour and add warm water; cook until thickened.\n",
      "   - Add crab meat, celery, parsley, and seasonings.\n",
      "   - Simmer for 30 minutes before serving, adding scalded milk.\n",
      "\n",
      "3. **Shrimp Gumbo**\n",
      "   - Wash and clean shrimp; boil with onions, vinegar, and salt.\n",
      "   - Drain and save stock; shell shrimp.\n",
      "   - Brown remaining onion in butter, stir in flour and strained broth.\n",
      "   - Add okra, rice, tomatoes, seasonings, and shelled shrimp.\n",
      "   - Simmer before serving.\n",
      "\n",
      "4. **Oyster Soup**\n",
      "   - Strain oysters and put oyster broth in a saucepan.\n",
      "   - Heat broth and milk without boiling.\n",
      "   - Gradually add oysters and heat until edges crinkle.\n",
      "\n",
      "5. **Oyster Bisque**\n",
      "   - Grind oysters; make a cream soup with milk and flour.\n",
      "   - Season with butter, salt, pepper, celery, and green pepper.\n",
      "   - Keep hot but do not boil; add Worcestershire sauce before serving.\n",
      "\n",
      "6. **Chicken Oyster Gumbo**\n",
      "   - Cut chicken and stew with beef and okra in water.\n",
      "   - Remove chicken, cut into pieces, and add oysters with liquor.\n",
      "   - Season with salt, pepper, and sassafras leaves.\n",
      "\n",
      "### Cuisine Type\n",
      "- Southern\n",
      "\n",
      "### Dish Type\n",
      "- Soup\n",
      "\n",
      "### Tags/Metadata\n",
      "- Crab, Shrimp, Oyster, Gumbo, Bisque, Southern Cooking, Seafood, Comfort Food\n",
      "Distances: 1.6119894981384277, Metadata: Here’s the structured recipe information extracted from the image:\n",
      "\n",
      "### Recipe Title\n",
      "Chicken Gumbo\n",
      "\n",
      "### Cuisine Type\n",
      "Southern\n",
      "\n",
      "### Dish Type\n",
      "Soup\n",
      "\n",
      "### Ingredients\n",
      "- 1 small stewing chicken\n",
      "- 2 tablespoons flour, melted\n",
      "- 3 tablespoons butter\n",
      "- 1 onion, chopped\n",
      "- 4 cups okra, sliced and chopped\n",
      "- 2 cups tomato pulp\n",
      "- Few sprigs parsley, chopped\n",
      "- Salt and pepper to taste\n",
      "- 4 cups water\n",
      "\n",
      "### Instructions\n",
      "1. Clean and dress the chicken, cutting it into serving portions.\n",
      "2. Dredge the chicken lightly with flour and sauté in melted butter along with the chopped onion.\n",
      "3. Once the chicken is nicely browned, add the okra, tomatoes, parsley, and water.\n",
      "4. Season to taste with salt and pepper.\n",
      "5. Cook slowly until the chicken is tender and the okra is well-cooked (about 2½ hours).\n",
      "6. If a thinner soup is preferred, increase the quantity of water as needed.\n",
      "\n",
      "### Relevant Tags\n",
      "- Comfort Food\n",
      "- Hearty\n",
      "- Traditional\n",
      "- Family Recipe\n",
      "\n",
      "This format is suitable for embedding in a Retrieval Augmented Generation (RAG) system.\n",
      "Os resultados são [('Here’s the structured recipe information extracted from the image:\\n\\n### Recipe Title\\nCreole Soup à la Madame Begue\\n\\n### Ingredients\\n- 1 tablespoon butter, melted\\n- 1 tablespoon chopped green pepper\\n- 1 tablespoon chopped red pepper\\n- 1 tablespoon flour\\n- 1½ cups soup stock\\n- 1 cup tomato pulp\\n- ½ cup corn\\n- Salt and pepper\\n\\n### Instructions\\n1. Lightly brown the peppers in the melted butter.\\n2. Add the flour and stir.\\n3. Slowly add the soup stock and tomato pulp; continue to stir until soup boils.\\n4. Reduce the heat, cover, and let cook slowly for 20 minutes.\\n5. Strain into another pot, add the corn, and season to taste with salt and pepper.\\n\\n### Cuisine Type\\nSouthern\\n\\n### Dish Type\\nSoup\\n\\n### Tags/Metadata\\n- Comfort Food\\n- Vegetarian Option (if using vegetable stock)\\n- Quick Preparation\\n\\n---\\n\\n### Additional Recipes Mentioned\\n1. **Plantation Soup**\\n   - Ingredients: Carrot, celery, onion, soup stock, butter, flour, milk, grated cheese.\\n   - Instructions: Cook vegetables in stock, strain, and combine with a white sauce.\\n\\n2. **Onion Soup Au Gratin**\\n   - Ingredients: Meat broth, onions, butter, Worcestershire sauce, toast, grated parmesan cheese.\\n   - Instructions: Brown onions, add broth and seasonings, simmer, and serve with cheese on toast.\\n\\n3. **Southern Jugged Soup**\\n   - Ingredients: Potatoes, onion, tomatoes, turnip, peas, carrot, water, salt, sugar, pepper, allspice.\\n   - Instructions: Layer vegetables, boil with broth, strain, and cook.\\n\\n4. **Jellied Mélange**\\n   - Ingredients: Gelatin, chicken broth, onion juice, chicken, ham, celery, pimento.\\n   - Instructions: Soak gelatin, mix with broth and other ingredients, chill, and serve.\\n\\n5. **Vegetable Bouillon**\\n   - Ingredients: Tomatoes, celery, carrots, parsley, green pepper, bay leaf, onion juice, sherry wine, water.\\n   - Instructions: Boil vegetables, strain, and add sherry wine.\\n\\nThis structured format is suitable for embedding in a Retrieval Augmented Generation (RAG) system.', 1.5853781700134277), ('Here’s the structured recipe information extracted from the image:\\n\\n### Recipe Title\\n1. Maryland Cream of Crab Soup\\n2. Crab Soup, Baltimore\\n3. Shrimp Gumbo\\n4. Oyster Soup\\n5. Oyster Bisque\\n6. Chicken Oyster Gumbo\\n\\n### Ingredients\\n1. **Maryland Cream of Crab Soup**\\n   - 1 tablespoon flour\\n   - 2 tablespoons butter\\n   - 2 quarts milk\\n   - 1 pint crab meat\\n   - ½ onion, sliced\\n   - ½ pint heavy cream\\n   - Chopped parsley, celery, salt, pepper\\n\\n2. **Crab Soup, Baltimore**\\n   - 2 tablespoons butter\\n   - 1 onion, finely chopped\\n   - 1 tablespoon flour\\n   - 2 cups warm water\\n   - 1 cup crab meat\\n   - ¼ cup chopped celery\\n   - Chopped parsley\\n   - Salt and pepper\\n   - Dash Tabasco sauce\\n\\n3. **Shrimp Gumbo**\\n   - 2 quarts fresh shrimp\\n   - 3 onions\\n   - ½ cup vinegar\\n   - Salt\\n   - 2 quarts water\\n   - 1 tablespoon butter, melted\\n   - 1 tablespoon flour\\n   - 4 cups okra, cut fine\\n   - 1 cup cooked rice\\n   - 6 large tomatoes, skinned\\n   - 2 bay leaves\\n   - Pinch sugar and pepper\\n\\n4. **Oyster Soup**\\n   - 1 quart oysters\\n   - 1 quart rich milk\\n   - 2 tablespoons butter\\n   - 1 tablespoon finely-chopped parsley\\n   - Dash onion salt or 1 teaspoon onion juice\\n   - Salt and pepper to taste\\n\\n5. **Oyster Bisque**\\n   - 1 quart oysters\\n   - 1 quart milk\\n   - 1 tablespoon flour\\n   - 1 tablespoon butter\\n   - ½ cup chopped celery\\n   - 1 green pepper\\n   - Salt and pepper\\n   - Worcestershire sauce\\n\\n6. **Chicken Oyster Gumbo**\\n   - 1 small chicken\\n   - 1 pound of beef cut up for stewing\\n   - 1 cup diced okra\\n   - 1 tablespoon butter\\n   - 3 pints water\\n   - 1 onion\\n   - 2 dozen oysters\\n   - 1½ teaspoons sassafras leaves\\n   - Salt and pepper\\n\\n### Step-by-Step Instructions\\n1. **Maryland Cream of Crab Soup**\\n   - Melt butter in a double boiler, add flour and blend.\\n   - Gradually add milk and onion, season to taste.\\n   - Cook slowly until thickened, then add crab meat.\\n   - Serve with whipped cream on top.\\n\\n2. **Crab Soup, Baltimore**\\n   - Melt butter, add onion and brown.\\n   - Blend in flour and add warm water; cook until thickened.\\n   - Add crab meat, celery, parsley, and seasonings.\\n   - Simmer for 30 minutes before serving, adding scalded milk.\\n\\n3. **Shrimp Gumbo**\\n   - Wash and clean shrimp; boil with onions, vinegar, and salt.\\n   - Drain and save stock; shell shrimp.\\n   - Brown remaining onion in butter, stir in flour and strained broth.\\n   - Add okra, rice, tomatoes, seasonings, and shelled shrimp.\\n   - Simmer before serving.\\n\\n4. **Oyster Soup**\\n   - Strain oysters and put oyster broth in a saucepan.\\n   - Heat broth and milk without boiling.\\n   - Gradually add oysters and heat until edges crinkle.\\n\\n5. **Oyster Bisque**\\n   - Grind oysters; make a cream soup with milk and flour.\\n   - Season with butter, salt, pepper, celery, and green pepper.\\n   - Keep hot but do not boil; add Worcestershire sauce before serving.\\n\\n6. **Chicken Oyster Gumbo**\\n   - Cut chicken and stew with beef and okra in water.\\n   - Remove chicken, cut into pieces, and add oysters with liquor.\\n   - Season with salt, pepper, and sassafras leaves.\\n\\n### Cuisine Type\\n- Southern\\n\\n### Dish Type\\n- Soup\\n\\n### Tags/Metadata\\n- Crab, Shrimp, Oyster, Gumbo, Bisque, Southern Cooking, Seafood, Comfort Food', 1.6091437339782715), ('Here’s the structured recipe information extracted from the image:\\n\\n### Recipe Title\\nChicken Gumbo\\n\\n### Cuisine Type\\nSouthern\\n\\n### Dish Type\\nSoup\\n\\n### Ingredients\\n- 1 small stewing chicken\\n- 2 tablespoons flour, melted\\n- 3 tablespoons butter\\n- 1 onion, chopped\\n- 4 cups okra, sliced and chopped\\n- 2 cups tomato pulp\\n- Few sprigs parsley, chopped\\n- Salt and pepper to taste\\n- 4 cups water\\n\\n### Instructions\\n1. Clean and dress the chicken, cutting it into serving portions.\\n2. Dredge the chicken lightly with flour and sauté in melted butter along with the chopped onion.\\n3. Once the chicken is nicely browned, add the okra, tomatoes, parsley, and water.\\n4. Season to taste with salt and pepper.\\n5. Cook slowly until the chicken is tender and the okra is well-cooked (about 2½ hours).\\n6. If a thinner soup is preferred, increase the quantity of water as needed.\\n\\n### Relevant Tags\\n- Comfort Food\\n- Hearty\\n- Traditional\\n- Family Recipe\\n\\nThis format is suitable for embedding in a Retrieval Augmented Generation (RAG) system.', 1.6119894981384277)]\n"
     ]
    }
   ],
   "source": [
    "# Test the retrieval system\n",
    "query = \"How to make bread?\"\n",
    "resultados = query_embeddings(query, index, metadata)\n",
    "print(f\"Os resultados são {resultados}\")"
   ]
  },
  {
   "cell_type": "code",
   "execution_count": 75,
   "id": "7ec83aa4-e9d8-439a-9b05-f7feb5c9a71b",
   "metadata": {},
   "outputs": [],
   "source": [
    "# Combine the results\n",
    "def combined_retrieved_content(results):\n",
    "    combined_content = \"\\n\\n\".join([result[0] for result in results])\n",
    "    return combined_content\n",
    "    \n",
    "conteudo_combinado = combined_retrieved_content(resultados)"
   ]
  },
  {
   "cell_type": "code",
   "execution_count": 86,
   "id": "d1769262-5862-407a-93b9-cc0116e92dc1",
   "metadata": {},
   "outputs": [
    {
     "data": {
      "text/plain": [
       "'Here’s the structured recipe information extracted from the image:\\n\\n### Recipe Title\\nCreole Soup à la Madame Begue\\n\\n### Ingredients\\n- 1 tablespoon butter, melted\\n- 1 tablespoon chopped green pepper\\n- 1 tablespoon chopped red pepper\\n- 1 tablespoon flour\\n- 1½ cups soup stock\\n- 1 cup tomato pulp\\n- ½ cup corn\\n- Salt and pepper\\n\\n### Instructions\\n1. Lightly brown the peppers in the melted butter.\\n2. Add the flour and stir.\\n3. Slowly add the soup stock and tomato pulp; continue to stir until soup boils.\\n4. Reduce the heat, cover, and let cook slowly for 20 minutes.\\n5. Strain into another pot, add the corn, and season to taste with salt and pepper.\\n\\n### Cuisine Type\\nSouthern\\n\\n### Dish Type\\nSoup\\n\\n### Tags/Metadata\\n- Comfort Food\\n- Vegetarian Option (if using vegetable stock)\\n- Quick Preparation\\n\\n---\\n\\n### Additional Recipes Mentioned\\n1. **Plantation Soup**\\n   - Ingredients: Carrot, celery, onion, soup stock, butter, flour, milk, grated cheese.\\n   - Instructions: Cook vegetables in stock, strain, and combine with a white sauce.\\n\\n2. **Onion Soup Au Gratin**\\n   - Ingredients: Meat broth, onions, butter, Worcestershire sauce, toast, grated parmesan cheese.\\n   - Instructions: Brown onions, add broth and seasonings, simmer, and serve with cheese on toast.\\n\\n3. **Southern Jugged Soup**\\n   - Ingredients: Potatoes, onion, tomatoes, turnip, peas, carrot, water, salt, sugar, pepper, allspice.\\n   - Instructions: Layer vegetables, boil with broth, strain, and cook.\\n\\n4. **Jellied Mélange**\\n   - Ingredients: Gelatin, chicken broth, onion juice, chicken, ham, celery, pimento.\\n   - Instructions: Soak gelatin, mix with broth and other ingredients, chill, and serve.\\n\\n5. **Vegetable Bouillon**\\n   - Ingredients: Tomatoes, celery, carrots, parsley, green pepper, bay leaf, onion juice, sherry wine, water.\\n   - Instructions: Boil vegetables, strain, and add sherry wine.\\n\\nThis structured format is suitable for embedding in a Retrieval Augmented Generation (RAG) system.\\n\\nHere’s the structured recipe information extracted from the image:\\n\\n### Recipe Title\\n1. Maryland Cream of Crab Soup\\n2. Crab Soup, Baltimore\\n3. Shrimp Gumbo\\n4. Oyster Soup\\n5. Oyster Bisque\\n6. Chicken Oyster Gumbo\\n\\n### Ingredients\\n1. **Maryland Cream of Crab Soup**\\n   - 1 tablespoon flour\\n   - 2 tablespoons butter\\n   - 2 quarts milk\\n   - 1 pint crab meat\\n   - ½ onion, sliced\\n   - ½ pint heavy cream\\n   - Chopped parsley, celery, salt, pepper\\n\\n2. **Crab Soup, Baltimore**\\n   - 2 tablespoons butter\\n   - 1 onion, finely chopped\\n   - 1 tablespoon flour\\n   - 2 cups warm water\\n   - 1 cup crab meat\\n   - ¼ cup chopped celery\\n   - Chopped parsley\\n   - Salt and pepper\\n   - Dash Tabasco sauce\\n\\n3. **Shrimp Gumbo**\\n   - 2 quarts fresh shrimp\\n   - 3 onions\\n   - ½ cup vinegar\\n   - Salt\\n   - 2 quarts water\\n   - 1 tablespoon butter, melted\\n   - 1 tablespoon flour\\n   - 4 cups okra, cut fine\\n   - 1 cup cooked rice\\n   - 6 large tomatoes, skinned\\n   - 2 bay leaves\\n   - Pinch sugar and pepper\\n\\n4. **Oyster Soup**\\n   - 1 quart oysters\\n   - 1 quart rich milk\\n   - 2 tablespoons butter\\n   - 1 tablespoon finely-chopped parsley\\n   - Dash onion salt or 1 teaspoon onion juice\\n   - Salt and pepper to taste\\n\\n5. **Oyster Bisque**\\n   - 1 quart oysters\\n   - 1 quart milk\\n   - 1 tablespoon flour\\n   - 1 tablespoon butter\\n   - ½ cup chopped celery\\n   - 1 green pepper\\n   - Salt and pepper\\n   - Worcestershire sauce\\n\\n6. **Chicken Oyster Gumbo**\\n   - 1 small chicken\\n   - 1 pound of beef cut up for stewing\\n   - 1 cup diced okra\\n   - 1 tablespoon butter\\n   - 3 pints water\\n   - 1 onion\\n   - 2 dozen oysters\\n   - 1½ teaspoons sassafras leaves\\n   - Salt and pepper\\n\\n### Step-by-Step Instructions\\n1. **Maryland Cream of Crab Soup**\\n   - Melt butter in a double boiler, add flour and blend.\\n   - Gradually add milk and onion, season to taste.\\n   - Cook slowly until thickened, then add crab meat.\\n   - Serve with whipped cream on top.\\n\\n2. **Crab Soup, Baltimore**\\n   - Melt butter, add onion and brown.\\n   - Blend in flour and add warm water; cook until thickened.\\n   - Add crab meat, celery, parsley, and seasonings.\\n   - Simmer for 30 minutes before serving, adding scalded milk.\\n\\n3. **Shrimp Gumbo**\\n   - Wash and clean shrimp; boil with onions, vinegar, and salt.\\n   - Drain and save stock; shell shrimp.\\n   - Brown remaining onion in butter, stir in flour and strained broth.\\n   - Add okra, rice, tomatoes, seasonings, and shelled shrimp.\\n   - Simmer before serving.\\n\\n4. **Oyster Soup**\\n   - Strain oysters and put oyster broth in a saucepan.\\n   - Heat broth and milk without boiling.\\n   - Gradually add oysters and heat until edges crinkle.\\n\\n5. **Oyster Bisque**\\n   - Grind oysters; make a cream soup with milk and flour.\\n   - Season with butter, salt, pepper, celery, and green pepper.\\n   - Keep hot but do not boil; add Worcestershire sauce before serving.\\n\\n6. **Chicken Oyster Gumbo**\\n   - Cut chicken and stew with beef and okra in water.\\n   - Remove chicken, cut into pieces, and add oysters with liquor.\\n   - Season with salt, pepper, and sassafras leaves.\\n\\n### Cuisine Type\\n- Southern\\n\\n### Dish Type\\n- Soup\\n\\n### Tags/Metadata\\n- Crab, Shrimp, Oyster, Gumbo, Bisque, Southern Cooking, Seafood, Comfort Food\\n\\nHere’s the structured recipe information extracted from the image:\\n\\n### Recipe Title\\nChicken Gumbo\\n\\n### Cuisine Type\\nSouthern\\n\\n### Dish Type\\nSoup\\n\\n### Ingredients\\n- 1 small stewing chicken\\n- 2 tablespoons flour, melted\\n- 3 tablespoons butter\\n- 1 onion, chopped\\n- 4 cups okra, sliced and chopped\\n- 2 cups tomato pulp\\n- Few sprigs parsley, chopped\\n- Salt and pepper to taste\\n- 4 cups water\\n\\n### Instructions\\n1. Clean and dress the chicken, cutting it into serving portions.\\n2. Dredge the chicken lightly with flour and sauté in melted butter along with the chopped onion.\\n3. Once the chicken is nicely browned, add the okra, tomatoes, parsley, and water.\\n4. Season to taste with salt and pepper.\\n5. Cook slowly until the chicken is tender and the okra is well-cooked (about 2½ hours).\\n6. If a thinner soup is preferred, increase the quantity of water as needed.\\n\\n### Relevant Tags\\n- Comfort Food\\n- Hearty\\n- Traditional\\n- Family Recipe\\n\\nThis format is suitable for embedding in a Retrieval Augmented Generation (RAG) system.'"
      ]
     },
     "execution_count": 86,
     "metadata": {},
     "output_type": "execute_result"
    }
   ],
   "source": [
    "conteudo_combinado"
   ]
  },
  {
   "cell_type": "markdown",
   "id": "7d11c364-8268-4426-8698-a2b25515d073",
   "metadata": {},
   "source": [
    "## Generative System"
   ]
  },
  {
   "cell_type": "code",
   "execution_count": 80,
   "id": "f948e5ea-a897-430c-87da-e586f771dece",
   "metadata": {},
   "outputs": [],
   "source": [
    "# Define the system prompt\n",
    "system_prompt3 = f\"\"\"\n",
    "You are highly experienced and expert chef specialized in providing cooking advice.\n",
    "Your main taks is to provide information precise and accurate on the combined content.\n",
    "You answer directly to the query using only information from the provided content.\n",
    "If you don't know the answer, just say that you don't know.\n",
    "Your goal is to help the user and answer the query.\n",
    "\"\"\" "
   ]
  },
  {
   "cell_type": "code",
   "execution_count": 82,
   "id": "78bed370-67d4-42d4-814e-4694b1266ff2",
   "metadata": {},
   "outputs": [],
   "source": [
    "# Define function to retrieve from API\n",
    "def generate_response(query, combined_content, system_prompt):\n",
    "    response = client.chat.completions.create(\n",
    "        model=model,\n",
    "        messages=[\n",
    "            {\"role\": \"system\", \"content\": system_prompt},\n",
    "            {\"role\": \"user\", \"content\": query},\n",
    "            {\"role\": \"assistant\", \"content\": combined_content}\n",
    "        ],\n",
    "        temperature=0\n",
    "    )\n",
    "    return response.choices[0].message.content"
   ]
  },
  {
   "cell_type": "code",
   "execution_count": 85,
   "id": "3f3b5ac9-6e70-4965-90bd-205f91ec0719",
   "metadata": {},
   "outputs": [
    {
     "data": {
      "text/markdown": [
       "I don't know."
      ],
      "text/plain": [
       "<IPython.core.display.Markdown object>"
      ]
     },
     "metadata": {},
     "output_type": "display_data"
    }
   ],
   "source": [
    "# Get the results\n",
    "query = \"Get me the best chiken gumbo recipe\"\n",
    "response = generate_response(query, conteudo_combinado, system_prompt3)\n",
    "display(Markdown(response))"
   ]
  },
  {
   "cell_type": "code",
   "execution_count": 87,
   "id": "80a6fd9c-4511-4513-a529-c0242ae5b24d",
   "metadata": {},
   "outputs": [],
   "source": [
    "# Função para o RAG\n",
    "def rag_system(query, index, metadata, system_prompt, k=5):\n",
    "    # Retrieval System\n",
    "    results = query_embeddings(query, index, metadata)\n",
    "\n",
    "    # Content Merge\n",
    "    combined_content = combined_retrieved_content(results)\n",
    "\n",
    "    # Generation\n",
    "    response = generate_response(query, combined_content, system_prompt3)\n",
    "\n",
    "    return response"
   ]
  },
  {
   "cell_type": "code",
   "execution_count": 89,
   "id": "4deaa248-54c2-4811-a144-1cef6b20bcf1",
   "metadata": {},
   "outputs": [
    {
     "data": {
      "text/markdown": [
       "To make the best chicken gumbo, follow this recipe:\n",
       "\n",
       "### Ingredients\n",
       "- 1 small stewing chicken\n",
       "- 2 tablespoons flour, melted\n",
       "- 3 tablespoons butter\n",
       "- 1 onion, chopped\n",
       "- 4 cups okra, sliced and chopped\n",
       "- 2 cups tomato pulp\n",
       "- Few sprigs parsley, chopped\n",
       "- Salt and pepper to taste\n",
       "- 4 cups water\n",
       "\n",
       "### Instructions\n",
       "1. Clean and dress the chicken, cutting it into serving portions.\n",
       "2. Dredge the chicken lightly with flour and sauté in melted butter along with the chopped onion.\n",
       "3. Once the chicken is nicely browned, add the okra, tomatoes, parsley, and water.\n",
       "4. Season to taste with salt and pepper.\n",
       "5. Cook slowly until the chicken is tender and the okra is well-cooked (about 2½ hours).\n",
       "6. If a thinner soup is preferred, increase the quantity of water as needed.\n",
       "\n",
       "Enjoy your delicious chicken gumbo!"
      ],
      "text/plain": [
       "<IPython.core.display.Markdown object>"
      ]
     },
     "metadata": {},
     "output_type": "display_data"
    }
   ],
   "source": [
    "# Testando o sistema rag\n",
    "query1 = \"How to make the best chicken gumbo?\"\n",
    "resposta = rag_system(query1, index, metadata, system_prompt3)\n",
    "display(Markdown(resposta))"
   ]
  },
  {
   "cell_type": "code",
   "execution_count": 91,
   "id": "565504c3-6769-4fa4-a629-79975eb0039f",
   "metadata": {},
   "outputs": [
    {
     "data": {
      "text/markdown": [
       "I don't know."
      ],
      "text/plain": [
       "<IPython.core.display.Markdown object>"
      ]
     },
     "metadata": {},
     "output_type": "display_data"
    }
   ],
   "source": [
    "query2 = \"i want something vegan\"\n",
    "resposta = rag_system(query2, index, metadata, system_prompt3)\n",
    "display(Markdown(resposta))"
   ]
  },
  {
   "cell_type": "code",
   "execution_count": null,
   "id": "81993e05-93ac-48d2-af84-7e47b3e89c16",
   "metadata": {},
   "outputs": [],
   "source": []
  }
 ],
 "metadata": {
  "kernelspec": {
   "display_name": "Python 3 (ipykernel)",
   "language": "python",
   "name": "python3"
  },
  "language_info": {
   "codemirror_mode": {
    "name": "ipython",
    "version": 3
   },
   "file_extension": ".py",
   "mimetype": "text/x-python",
   "name": "python",
   "nbconvert_exporter": "python",
   "pygments_lexer": "ipython3",
   "version": "3.13.5"
  }
 },
 "nbformat": 4,
 "nbformat_minor": 5
}
