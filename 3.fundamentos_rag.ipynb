{
 "cells": [
  {
   "cell_type": "markdown",
   "metadata": {},
   "source": [
    "# Fundamentos RAG"
   ]
  },
  {
   "cell_type": "code",
   "execution_count": 1,
   "metadata": {
    "executionInfo": {
     "elapsed": 778,
     "status": "ok",
     "timestamp": 1725509363615,
     "user": {
      "displayName": "Diogo Resende",
      "userId": "05706604408624562002"
     },
     "user_tz": -120
    },
    "id": "BaUFymhwJWyM"
   },
   "outputs": [],
   "source": [
    "# documento do curso\n",
    "documentos = [\n",
    "    \"Berlin is the capital and largest city of Germany by both area and population.\",\n",
    "    \"Berlin is known for its art scene and modern landmarks like the Berliner Philharmonie.\",\n",
    "    \"The Berlin Wall, which divided the city from 1961 to 1989, was a significant Cold War symbol.\",\n",
    "    \"Berlin has more bridges than Venice, with around 1,700 bridges.\",\n",
    "    \"The city's Zoological Garden is the most visited zoo in Europe and one of the most popular worldwide.\",\n",
    "    \"Berlin's Museum Island is a UNESCO World Heritage site with five world-renowned museums.\",\n",
    "    \"The Reichstag building houses the German Bundestag (Federal Parliament).\",\n",
    "    \"Berlin is famous for its diverse architecture, ranging from historic buildings to modern structures.\",\n",
    "    \"The Berlin Marathon is one of the world's largest and most popular marathons.\",\n",
    "    \"Berlin's public transportation system includes buses, trams, U-Bahn (subway), and S-Bahn (commuter train).\",\n",
    "    \"The Brandenburg Gate is an iconic neoclassical monument in Berlin.\",\n",
    "    \"Berlin has a thriving startup ecosystem and is considered a major tech hub in Europe.\",\n",
    "    \"The city hosts the Berlinale, one of the most prestigious international film festivals.\",\n",
    "    \"Berlin has more than 180 kilometers of navigable waterways.\",\n",
    "    \"The East Side Gallery is an open-air gallery on a remaining section of the Berlin Wall.\",\n",
    "    \"Berlin's Tempelhofer Feld, a former airport, is now a public park and recreational area.\",\n",
    "    \"The TV Tower at Alexanderplatz offers panoramic views of the city.\",\n",
    "    \"Berlin's Tiergarten is one of the largest urban parks in Germany.\",\n",
    "    \"Checkpoint Charlie was a famous crossing point between East and West Berlin during the Cold War.\",\n",
    "    \"Berlin is home to numerous theaters, including the Berliner Ensemble and the Volksbühne.\",\n",
    "    \"The Berlin Philharmonic Orchestra is one of the most famous orchestras in the world.\",\n",
    "    \"Berlin has a vibrant nightlife scene, with countless bars, clubs, and music venues.\",\n",
    "    \"The Berlin Cathedral is a major Protestant church and a landmark of the city.\",\n",
    "    \"Charlottenburg Palace is the largest palace in Berlin and a major tourist attraction.\",\n",
    "    \"Berlin's Alexanderplatz is a large public square and transport hub in central Berlin.\",\n",
    "    \"Berlin is known for its street art, with many murals and graffiti artworks around the city.\",\n",
    "    \"The Gendarmenmarkt is a historic square in Berlin featuring the Konzerthaus, French Cathedral, and German Cathedral.\",\n",
    "    \"Berlin has a strong coffee culture, with numerous cafés throughout the city.\",\n",
    "    \"The Berlin TV Tower is the tallest structure in Germany, standing at 368 meters.\",\n",
    "    \"Berlin's KaDeWe is one of the largest and most famous department stores in Europe.\",\n",
    "    \"The Berlin U-Bahn network has 10 lines and serves 173 stations.\",\n",
    "    \"Berlin has a population of over 3.6 million people.\",\n",
    "    \"The city of Berlin covers an area of 891.8 square kilometers.\",\n",
    "    \"Berlin has a temperate seasonal climate.\",\n",
    "    \"The Berlin International Film Festival, also known as the Berlinale, is one of the world's leading film festivals.\",\n",
    "    \"Berlin is home to the Humboldt University, founded in 1810.\",\n",
    "    \"The Berlin Hauptbahnhof is the largest train station in Europe.\",\n",
    "    \"Berlin's Tegel Airport closed in 2020, and operations moved to Berlin Brandenburg Airport.\",\n",
    "    \"The Spree River runs through the center of Berlin.\",\n",
    "    \"Berlin is twinned with Los Angeles, California, USA.\",\n",
    "    \"The Berlin Botanical Garden is one of the largest and most important botanical gardens in the world.\",\n",
    "    \"Berlin has over 2,500 public parks and gardens.\",\n",
    "    \"The Victory Column (Siegessäule) is a famous monument in Berlin.\",\n",
    "    \"Berlin's Olympic Stadium was built for the 1936 Summer Olympics.\",\n",
    "    \"The Berlin State Library is one of the largest libraries in Europe.\",\n",
    "    \"The Berlin Dungeon is a popular tourist attraction that offers a spooky look at the city's history.\",\n",
    "    \"Berlin's economy is based on high-tech industries and the service sector.\",\n",
    "    \"Berlin is a major center for culture, politics, media, and science.\",\n",
    "    \"The Berlin Wall Memorial commemorates the division of Berlin and the victims of the Wall.\",\n",
    "    \"The city has a large Turkish community, with many residents of Turkish descent.\",\n",
    "    \"Berlin's Mauerpark is a popular park known for its flea market and outdoor karaoke sessions.\",\n",
    "    \"The Berlin Zoological Garden is the oldest zoo in Germany, opened in 1844.\",\n",
    "    \"Berlin is known for its diverse culinary scene, including many vegan and vegetarian restaurants.\",\n",
    "    \"The Berliner Dom is a baroque-style cathedral located on Museum Island.\",\n",
    "    \"The DDR Museum in Berlin offers interactive exhibits about life in East Germany.\",\n",
    "    \"Berlin has a strong cycling culture, with many dedicated bike lanes and bike-sharing programs.\",\n",
    "    \"Berlin's Tempodrom is a multi-purpose event venue known for its unique architecture.\",\n",
    "    \"The Berlinische Galerie is a museum of modern art, photography, and architecture.\",\n",
    "    \"Berlin's Volkspark Friedrichshain is the oldest public park in the city, established in 1848.\",\n",
    "    \"The Hackesche Höfe is a complex of interconnected courtyards in Berlin's Mitte district, known for its vibrant nightlife and art scene.\",\n",
    "    \"Berlin's International Congress Center (ICC) is one of the largest conference centers in the world.\"\n",
    "]"
   ]
  },
  {
   "cell_type": "markdown",
   "metadata": {},
   "source": [
    "## Tokenização e Embeddings"
   ]
  },
  {
   "cell_type": "markdown",
   "metadata": {},
   "source": [
    "##### instalação da bilbioteca faiss-cpu\n",
    "!pip install faiss-cpu"
   ]
  },
  {
   "cell_type": "code",
   "execution_count": 3,
   "metadata": {},
   "outputs": [],
   "source": [
    "# importando bibliotecas\n",
    "import faiss\n",
    "import numpy as np\n",
    "import torch\n",
    "from transformers import AutoTokenizer, AutoModel"
   ]
  },
  {
   "cell_type": "code",
   "execution_count": 5,
   "metadata": {},
   "outputs": [],
   "source": [
    "# Inicializando modelo e o tokenizer para gerar embeddings\n",
    "tokenizer = AutoTokenizer.from_pretrained(\"sentence-transformers/paraphrase-MiniLM-L6-V2\")\n",
    "modelo = AutoModel.from_pretrained(\"sentence-transformers/paraphrase-MiniLM-L6-V2\")"
   ]
  },
  {
   "cell_type": "code",
   "execution_count": 6,
   "metadata": {},
   "outputs": [],
   "source": [
    "# Função para tokenizar o input e gerar os embeddings\n",
    "def embeb_texto(texto, tokenizer, modelo):\n",
    "    # Tokeniza o texto de input, retorna tensors em pytorch, aplica padding e truncation\n",
    "    inputs = tokenizer(\n",
    "        texto,\n",
    "        return_tensors=\"pt\",\n",
    "        padding=True,\n",
    "        truncation=True\n",
    "    )\n",
    "\n",
    "    # Desabilita gradient calculations\n",
    "    with torch.no_grad():\n",
    "        # Passa os inputs tokenizados pelo modelo para pegar o ultimo estado\n",
    "        embeddings = modelo(**inputs).last_hidden_state\n",
    "        \n",
    "        # Pega os embeddings do modelo\n",
    "        embeddings = embeddings.mean(dim = 1)\n",
    "\n",
    "    return embeddings"
   ]
  },
  {
   "cell_type": "code",
   "execution_count": 9,
   "metadata": {},
   "outputs": [],
   "source": [
    "# Inicializa a lista para guardar os embeddings\n",
    "documento_embeddings = []\n",
    "\n",
    "# Loop pelos documentos para computar os embeddings\n",
    "for doc in documentos:\n",
    "    doc_embedding = embeb_texto(doc, tokenizer, modelo)\n",
    "    documento_embeddings.append(doc_embedding)"
   ]
  },
  {
   "cell_type": "code",
   "execution_count": 10,
   "metadata": {},
   "outputs": [
    {
     "data": {
      "text/plain": [
       "array([[ 4.4676805e-01,  1.7827094e-01, -7.5979725e-02, ...,\n",
       "        -1.2662189e-01, -6.9654852e-01,  2.3290619e-01],\n",
       "       [ 7.0775382e-02,  4.9291289e-01, -7.2826996e-02, ...,\n",
       "        -5.6186393e-02, -6.2322754e-01,  3.0493340e-01],\n",
       "       [-3.0446494e-01,  8.7229687e-01, -2.3822065e-01, ...,\n",
       "        -1.6262884e-01, -6.9939286e-01,  2.7724484e-01],\n",
       "       ...,\n",
       "       [ 2.0209832e-01,  4.1806746e-01, -6.0605239e-02, ...,\n",
       "        -4.7432315e-02, -4.7963858e-01, -7.9857558e-04],\n",
       "       [ 3.0231065e-01,  2.8403008e-01, -3.7872133e-01, ...,\n",
       "         1.4499703e-01, -5.9215403e-01,  5.2380770e-02],\n",
       "       [ 2.8142795e-01, -1.3164419e-01, -8.1741047e-01, ...,\n",
       "        -5.3626753e-02,  4.8628461e-02,  4.7794227e-03]],\n",
       "      shape=(61, 384), dtype=float32)"
      ]
     },
     "execution_count": 10,
     "metadata": {},
     "output_type": "execute_result"
    }
   ],
   "source": [
    "# Concatenar todos os embeddings em um tensor pytorch, mover para o CPU e converter para numpy array\n",
    "documento_embeddings = torch.cat(documento_embeddings).cpu().numpy()\n",
    "documento_embeddings"
   ]
  },
  {
   "cell_type": "code",
   "execution_count": null,
   "metadata": {},
   "outputs": [],
   "source": []
  }
 ],
 "metadata": {
  "colab": {
   "authorship_tag": "ABX9TyOOpOXXvXe2Rm9YWTcoLoh5",
   "provenance": []
  },
  "kernelspec": {
   "display_name": "Python 3 (ipykernel)",
   "language": "python",
   "name": "python3"
  },
  "language_info": {
   "codemirror_mode": {
    "name": "ipython",
    "version": 3
   },
   "file_extension": ".py",
   "mimetype": "text/x-python",
   "name": "python",
   "nbconvert_exporter": "python",
   "pygments_lexer": "ipython3",
   "version": "3.13.5"
  }
 },
 "nbformat": 4,
 "nbformat_minor": 4
}
